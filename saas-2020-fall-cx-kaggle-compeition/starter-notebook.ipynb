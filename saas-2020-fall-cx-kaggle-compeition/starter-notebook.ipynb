{
 "cells": [
  {
   "cell_type": "code",
   "execution_count": 20,
   "metadata": {
    "execution": {
     "iopub.execute_input": "2020-11-20T20:33:17.715871Z",
     "iopub.status.busy": "2020-11-20T20:33:17.715000Z",
     "iopub.status.idle": "2020-11-20T20:33:17.719874Z",
     "shell.execute_reply": "2020-11-20T20:33:17.719082Z"
    },
    "papermill": {
     "duration": 0.037903,
     "end_time": "2020-11-20T20:33:17.720055",
     "exception": false,
     "start_time": "2020-11-20T20:33:17.682152",
     "status": "completed"
    },
    "tags": []
   },
   "outputs": [],
   "source": [
    "# This Python 3 environment comes with many helpful analytics libraries installed\n",
    "# It is defined by the kaggle/python Docker image: https://github.com/kaggle/docker-python\n",
    "# For example, here's several helpful packages to load\n",
    "\n",
    "import numpy as np # linear algebra\n",
    "import pandas as pd # data processing, CSV file I/O (e.g. pd.read_csv)\n",
    "from sklearn import linear_model\n",
    "import statsmodels.api as sm\n",
    "\n",
    "# Input data files are available in the read-only \"../input/\" directory\n",
    "# For example, running this (by clicking run or pressing Shift+Enter) will list all files under the input directory\n",
    "\n",
    "import os\n",
    "for dirname, _, filenames in os.walk('/kaggle/input'):\n",
    "    for filename in filenames:\n",
    "        print(os.path.join(dirname, filename))\n",
    "\n",
    "# You can write up to 20GB to the current directory (/kaggle/working/) that gets preserved as output when you create a version using \"Save & Run All\" \n",
    "# You can also write temporary files to /kaggle/temp/, but they won't be saved outside of the current session"
   ]
  },
  {
   "cell_type": "markdown",
   "metadata": {
    "papermill": {
     "duration": 0.026387,
     "end_time": "2020-11-20T20:33:17.773152",
     "exception": false,
     "start_time": "2020-11-20T20:33:17.746765",
     "status": "completed"
    },
    "tags": []
   },
   "source": [
    "# Career Exploration Kaggle Competition: Real Estate Price Prediction\n",
    "\n",
    "### Table Of Contents\n",
    "\n",
    "* [1. Exploratory Data Analysis](#eda)\n",
    "* [2. Feature Engineering](#feature-engineering)\n",
    "* [3. Modeling](#modeling)\n",
    "    * [3.1 Validation and Evaluation](#validation)\n",
    "    * [3.2 Linear Regression](#linear-regression)\n",
    "    * [3.3 Regularized Regression](#reg)\n",
    "    * [3.4 Random Forest](#random-forest)\n",
    "    * [3.5 Neural Network](#nn)\n",
    "    * [3.6 XGBoost](#xgb)\n",
    "\n",
    "\n",
    "### Hosted by and maintained by the [Students Association of Applied Statistics (SAAS)](https://saas.berkeley.edu).  Authored by Derek Cai(dcai@berkeley.edu).\n"
   ]
  },
  {
   "cell_type": "markdown",
   "metadata": {
    "papermill": {
     "duration": 0.025966,
     "end_time": "2020-11-20T20:33:17.825248",
     "exception": false,
     "start_time": "2020-11-20T20:33:17.799282",
     "status": "completed"
    },
    "tags": []
   },
   "source": [
    "## Note: Please upload/share your work in the Notebook section after the competition deadline! This will give you a chance to showcase your work to other fellows in CX :)"
   ]
  },
  {
   "cell_type": "markdown",
   "metadata": {
    "papermill": {
     "duration": 0.025517,
     "end_time": "2020-11-20T20:33:17.877068",
     "exception": false,
     "start_time": "2020-11-20T20:33:17.851551",
     "status": "completed"
    },
    "tags": []
   },
   "source": [
    "## Data Loading"
   ]
  },
  {
   "cell_type": "code",
   "execution_count": 2,
   "metadata": {
    "execution": {
     "iopub.execute_input": "2020-11-20T20:33:17.935202Z",
     "iopub.status.busy": "2020-11-20T20:33:17.934520Z",
     "iopub.status.idle": "2020-11-20T20:33:18.182790Z",
     "shell.execute_reply": "2020-11-20T20:33:18.182081Z"
    },
    "papermill": {
     "duration": 0.279843,
     "end_time": "2020-11-20T20:33:18.182927",
     "exception": false,
     "start_time": "2020-11-20T20:33:17.903084",
     "status": "completed"
    },
    "tags": []
   },
   "outputs": [],
   "source": [
    "X_train = pd.read_csv(\"train_features.csv\")\n",
    "y_train = pd.read_csv(\"train_targets.csv\")\n",
    "X_test = pd.read_csv(\"test_features.csv\")\n",
    "sample_submission = pd.read_csv(\"sample_submission.csv\")"
   ]
  },
  {
   "cell_type": "markdown",
   "metadata": {
    "papermill": {
     "duration": 0.026313,
     "end_time": "2020-11-20T20:33:18.235873",
     "exception": false,
     "start_time": "2020-11-20T20:33:18.209560",
     "status": "completed"
    },
    "tags": []
   },
   "source": [
    "When we do EDA and feature engineering on a dataset, we often examine the training features and the test features together, so when you do complex feature engineering and data cleaning, you don't need to do twice or worry about your transformations not applying to test set."
   ]
  },
  {
   "cell_type": "code",
   "execution_count": 23,
   "metadata": {
    "execution": {
     "iopub.execute_input": "2020-11-20T20:33:18.295997Z",
     "iopub.status.busy": "2020-11-20T20:33:18.295357Z",
     "iopub.status.idle": "2020-11-20T20:33:18.321386Z",
     "shell.execute_reply": "2020-11-20T20:33:18.320827Z"
    },
    "papermill": {
     "duration": 0.057954,
     "end_time": "2020-11-20T20:33:18.321555",
     "exception": false,
     "start_time": "2020-11-20T20:33:18.263601",
     "status": "completed"
    },
    "tags": []
   },
   "outputs": [
    {
     "output_type": "execute_result",
     "data": {
      "text/plain": [
       "Index(['id', 'SALE PRICE'], dtype='object')"
      ]
     },
     "metadata": {},
     "execution_count": 23
    }
   ],
   "source": [
    "df = pd.concat((X_train, X_test), axis=0)\n",
    "y_train.columns"
   ]
  },
  {
   "cell_type": "code",
   "execution_count": 61,
   "metadata": {},
   "outputs": [
    {
     "output_type": "execute_result",
     "data": {
      "text/plain": [
       "          BOROUGH               NEIGHBORHOOD  \\\n",
       "id                                             \n",
       "test0           1                    CHELSEA   \n",
       "test1           3         BEDFORD STUYVESANT   \n",
       "test2           5                   ROSEBANK   \n",
       "test3           3                 PARK SLOPE   \n",
       "test4           3       DOWNTOWN-FULTON MALL   \n",
       "...           ...                        ...   \n",
       "test9284        1   WASHINGTON HEIGHTS LOWER   \n",
       "test9285        5  RICHMONDTOWN-LIGHTHS HILL   \n",
       "test9286        4                     CORONA   \n",
       "test9287        3                 GREENPOINT   \n",
       "test9288        2       MORRIS PARK/VAN NEST   \n",
       "\n",
       "                              BUILDING CLASS CATEGORY TAX CLASS AT PRESENT  \\\n",
       "id                                                                           \n",
       "test0     22 STORE BUILDINGS                                             4   \n",
       "test1     13 CONDOS - ELEVATOR APARTMENTS                                2   \n",
       "test2     02 TWO FAMILY DWELLINGS                                        1   \n",
       "test3     15 CONDOS - 2-10 UNIT RESIDENTIAL                             2C   \n",
       "test4     13 CONDOS - ELEVATOR APARTMENTS                                2   \n",
       "...                                               ...                  ...   \n",
       "test9284  07 RENTALS - WALKUP APARTMENTS                                 2   \n",
       "test9285  01 ONE FAMILY DWELLINGS                                        1   \n",
       "test9286  03 THREE FAMILY DWELLINGS                                      1   \n",
       "test9287  13 CONDOS - ELEVATOR APARTMENTS                                    \n",
       "test9288  01 ONE FAMILY DWELLINGS                                        1   \n",
       "\n",
       "          BLOCK   LOT EASE-MENT BUILDING CLASS AT PRESENT  \\\n",
       "id                                                          \n",
       "test0       717     5                                  K1   \n",
       "test1      1886  1550                                  R4   \n",
       "test2      2977    40                                  B9   \n",
       "test3       934  1405                                  R1   \n",
       "test4       269  1180                                  R4   \n",
       "...         ...   ...       ...                       ...   \n",
       "test9284   2117    20                                  C4   \n",
       "test9285   2287    85                                  A3   \n",
       "test9286   1940   134                                  C0   \n",
       "test9287   2562  1024                                       \n",
       "test9288   4131   142                                  A5   \n",
       "\n",
       "                         ADDRESS APARTMENT NUMBER  ...  TOTAL UNITS  \\\n",
       "id                                                 ...                \n",
       "test0     459 WEST 19TH   STREET                   ...            1   \n",
       "test1         49 SKILLMAN STREET               1B  ...            1   \n",
       "test2        47 FOX HILL TERRACE                   ...            2   \n",
       "test3        134 ST. MARKS PLACE               3A  ...            1   \n",
       "test4      110 LIVINGSTON STREET              10O  ...            1   \n",
       "...                          ...              ...  ...          ...   \n",
       "test9284     532 WEST 159 STREET                   ...           20   \n",
       "test9285   329 LIGHTHOUSE AVENUE                   ...            1   \n",
       "test9286        102-17 LEWIS AVE                   ...            3   \n",
       "test9287    50 GREENPOINT AVENUE                   ...            0   \n",
       "test9288      1812 HAIGHT AVENUE                   ...            1   \n",
       "\n",
       "          LAND SQUARE FEET  GROSS SQUARE FEET  YEAR BUILT  \\\n",
       "id                                                          \n",
       "test0               3800.0             3800.0        1910   \n",
       "test1                  0.0                0.0        2012   \n",
       "test2               3125.0             1584.0        2002   \n",
       "test3                  0.0                0.0           0   \n",
       "test4                  0.0                0.0        1926   \n",
       "...                    ...                ...         ...   \n",
       "test9284            2498.0             9685.0        1913   \n",
       "test9285           10600.0             2688.0        1970   \n",
       "test9286            2000.0             3162.0        1969   \n",
       "test9287               0.0                0.0           0   \n",
       "test9288            1800.0             1782.0        1940   \n",
       "\n",
       "          TAX CLASS AT TIME OF SALE  BUILDING CLASS AT TIME OF SALE  \\\n",
       "id                                                                    \n",
       "test0                             4                              K1   \n",
       "test1                             2                              R4   \n",
       "test2                             1                              B9   \n",
       "test3                             2                              R1   \n",
       "test4                             2                              R4   \n",
       "...                             ...                             ...   \n",
       "test9284                          2                              C4   \n",
       "test9285                          1                              A3   \n",
       "test9286                          1                              C0   \n",
       "test9287                          2                              R4   \n",
       "test9288                          1                              A5   \n",
       "\n",
       "                    SALE DATE  MEDIAN INCOME  MEAN INCOME POPULATION  \n",
       "id                                                                    \n",
       "test0     2017-06-27 00:00:00     92359.4888  160936.5432      45899  \n",
       "test1     2016-09-06 00:00:00     42903.7942   57436.7240      35648  \n",
       "test2     2017-07-27 00:00:00     58937.6580   75468.7376      37014  \n",
       "test3     2017-07-12 00:00:00     72610.5963  102949.5131      35641  \n",
       "test4     2016-11-29 00:00:00     92174.8101  140857.9804      48101  \n",
       "...                       ...            ...          ...        ...  \n",
       "test9284  2016-12-21 00:00:00     29535.9721   40902.4289      54744  \n",
       "test9285  2017-03-10 00:00:00     75212.0632   91445.7035      54812  \n",
       "test9286  2017-06-28 00:00:00     43962.6552   54259.4037      95662  \n",
       "test9287  2017-07-31 00:00:00     54366.9033   69808.6353      40003  \n",
       "test9288  2017-08-11 00:00:00     47715.8304   58036.9104      48081  \n",
       "\n",
       "[9289 rows x 23 columns]"
      ],
      "text/html": "<div>\n<style scoped>\n    .dataframe tbody tr th:only-of-type {\n        vertical-align: middle;\n    }\n\n    .dataframe tbody tr th {\n        vertical-align: top;\n    }\n\n    .dataframe thead th {\n        text-align: right;\n    }\n</style>\n<table border=\"1\" class=\"dataframe\">\n  <thead>\n    <tr style=\"text-align: right;\">\n      <th></th>\n      <th>BOROUGH</th>\n      <th>NEIGHBORHOOD</th>\n      <th>BUILDING CLASS CATEGORY</th>\n      <th>TAX CLASS AT PRESENT</th>\n      <th>BLOCK</th>\n      <th>LOT</th>\n      <th>EASE-MENT</th>\n      <th>BUILDING CLASS AT PRESENT</th>\n      <th>ADDRESS</th>\n      <th>APARTMENT NUMBER</th>\n      <th>...</th>\n      <th>TOTAL UNITS</th>\n      <th>LAND SQUARE FEET</th>\n      <th>GROSS SQUARE FEET</th>\n      <th>YEAR BUILT</th>\n      <th>TAX CLASS AT TIME OF SALE</th>\n      <th>BUILDING CLASS AT TIME OF SALE</th>\n      <th>SALE DATE</th>\n      <th>MEDIAN INCOME</th>\n      <th>MEAN INCOME</th>\n      <th>POPULATION</th>\n    </tr>\n    <tr>\n      <th>id</th>\n      <th></th>\n      <th></th>\n      <th></th>\n      <th></th>\n      <th></th>\n      <th></th>\n      <th></th>\n      <th></th>\n      <th></th>\n      <th></th>\n      <th></th>\n      <th></th>\n      <th></th>\n      <th></th>\n      <th></th>\n      <th></th>\n      <th></th>\n      <th></th>\n      <th></th>\n      <th></th>\n      <th></th>\n    </tr>\n  </thead>\n  <tbody>\n    <tr>\n      <th>test0</th>\n      <td>1</td>\n      <td>CHELSEA</td>\n      <td>22 STORE BUILDINGS</td>\n      <td>4</td>\n      <td>717</td>\n      <td>5</td>\n      <td></td>\n      <td>K1</td>\n      <td>459 WEST 19TH   STREET</td>\n      <td></td>\n      <td>...</td>\n      <td>1</td>\n      <td>3800.0</td>\n      <td>3800.0</td>\n      <td>1910</td>\n      <td>4</td>\n      <td>K1</td>\n      <td>2017-06-27 00:00:00</td>\n      <td>92359.4888</td>\n      <td>160936.5432</td>\n      <td>45899</td>\n    </tr>\n    <tr>\n      <th>test1</th>\n      <td>3</td>\n      <td>BEDFORD STUYVESANT</td>\n      <td>13 CONDOS - ELEVATOR APARTMENTS</td>\n      <td>2</td>\n      <td>1886</td>\n      <td>1550</td>\n      <td></td>\n      <td>R4</td>\n      <td>49 SKILLMAN STREET</td>\n      <td>1B</td>\n      <td>...</td>\n      <td>1</td>\n      <td>0.0</td>\n      <td>0.0</td>\n      <td>2012</td>\n      <td>2</td>\n      <td>R4</td>\n      <td>2016-09-06 00:00:00</td>\n      <td>42903.7942</td>\n      <td>57436.7240</td>\n      <td>35648</td>\n    </tr>\n    <tr>\n      <th>test2</th>\n      <td>5</td>\n      <td>ROSEBANK</td>\n      <td>02 TWO FAMILY DWELLINGS</td>\n      <td>1</td>\n      <td>2977</td>\n      <td>40</td>\n      <td></td>\n      <td>B9</td>\n      <td>47 FOX HILL TERRACE</td>\n      <td></td>\n      <td>...</td>\n      <td>2</td>\n      <td>3125.0</td>\n      <td>1584.0</td>\n      <td>2002</td>\n      <td>1</td>\n      <td>B9</td>\n      <td>2017-07-27 00:00:00</td>\n      <td>58937.6580</td>\n      <td>75468.7376</td>\n      <td>37014</td>\n    </tr>\n    <tr>\n      <th>test3</th>\n      <td>3</td>\n      <td>PARK SLOPE</td>\n      <td>15 CONDOS - 2-10 UNIT RESIDENTIAL</td>\n      <td>2C</td>\n      <td>934</td>\n      <td>1405</td>\n      <td></td>\n      <td>R1</td>\n      <td>134 ST. MARKS PLACE</td>\n      <td>3A</td>\n      <td>...</td>\n      <td>1</td>\n      <td>0.0</td>\n      <td>0.0</td>\n      <td>0</td>\n      <td>2</td>\n      <td>R1</td>\n      <td>2017-07-12 00:00:00</td>\n      <td>72610.5963</td>\n      <td>102949.5131</td>\n      <td>35641</td>\n    </tr>\n    <tr>\n      <th>test4</th>\n      <td>3</td>\n      <td>DOWNTOWN-FULTON MALL</td>\n      <td>13 CONDOS - ELEVATOR APARTMENTS</td>\n      <td>2</td>\n      <td>269</td>\n      <td>1180</td>\n      <td></td>\n      <td>R4</td>\n      <td>110 LIVINGSTON STREET</td>\n      <td>10O</td>\n      <td>...</td>\n      <td>1</td>\n      <td>0.0</td>\n      <td>0.0</td>\n      <td>1926</td>\n      <td>2</td>\n      <td>R4</td>\n      <td>2016-11-29 00:00:00</td>\n      <td>92174.8101</td>\n      <td>140857.9804</td>\n      <td>48101</td>\n    </tr>\n    <tr>\n      <th>...</th>\n      <td>...</td>\n      <td>...</td>\n      <td>...</td>\n      <td>...</td>\n      <td>...</td>\n      <td>...</td>\n      <td>...</td>\n      <td>...</td>\n      <td>...</td>\n      <td>...</td>\n      <td>...</td>\n      <td>...</td>\n      <td>...</td>\n      <td>...</td>\n      <td>...</td>\n      <td>...</td>\n      <td>...</td>\n      <td>...</td>\n      <td>...</td>\n      <td>...</td>\n      <td>...</td>\n    </tr>\n    <tr>\n      <th>test9284</th>\n      <td>1</td>\n      <td>WASHINGTON HEIGHTS LOWER</td>\n      <td>07 RENTALS - WALKUP APARTMENTS</td>\n      <td>2</td>\n      <td>2117</td>\n      <td>20</td>\n      <td></td>\n      <td>C4</td>\n      <td>532 WEST 159 STREET</td>\n      <td></td>\n      <td>...</td>\n      <td>20</td>\n      <td>2498.0</td>\n      <td>9685.0</td>\n      <td>1913</td>\n      <td>2</td>\n      <td>C4</td>\n      <td>2016-12-21 00:00:00</td>\n      <td>29535.9721</td>\n      <td>40902.4289</td>\n      <td>54744</td>\n    </tr>\n    <tr>\n      <th>test9285</th>\n      <td>5</td>\n      <td>RICHMONDTOWN-LIGHTHS HILL</td>\n      <td>01 ONE FAMILY DWELLINGS</td>\n      <td>1</td>\n      <td>2287</td>\n      <td>85</td>\n      <td></td>\n      <td>A3</td>\n      <td>329 LIGHTHOUSE AVENUE</td>\n      <td></td>\n      <td>...</td>\n      <td>1</td>\n      <td>10600.0</td>\n      <td>2688.0</td>\n      <td>1970</td>\n      <td>1</td>\n      <td>A3</td>\n      <td>2017-03-10 00:00:00</td>\n      <td>75212.0632</td>\n      <td>91445.7035</td>\n      <td>54812</td>\n    </tr>\n    <tr>\n      <th>test9286</th>\n      <td>4</td>\n      <td>CORONA</td>\n      <td>03 THREE FAMILY DWELLINGS</td>\n      <td>1</td>\n      <td>1940</td>\n      <td>134</td>\n      <td></td>\n      <td>C0</td>\n      <td>102-17 LEWIS AVE</td>\n      <td></td>\n      <td>...</td>\n      <td>3</td>\n      <td>2000.0</td>\n      <td>3162.0</td>\n      <td>1969</td>\n      <td>1</td>\n      <td>C0</td>\n      <td>2017-06-28 00:00:00</td>\n      <td>43962.6552</td>\n      <td>54259.4037</td>\n      <td>95662</td>\n    </tr>\n    <tr>\n      <th>test9287</th>\n      <td>3</td>\n      <td>GREENPOINT</td>\n      <td>13 CONDOS - ELEVATOR APARTMENTS</td>\n      <td></td>\n      <td>2562</td>\n      <td>1024</td>\n      <td></td>\n      <td></td>\n      <td>50 GREENPOINT AVENUE</td>\n      <td></td>\n      <td>...</td>\n      <td>0</td>\n      <td>0.0</td>\n      <td>0.0</td>\n      <td>0</td>\n      <td>2</td>\n      <td>R4</td>\n      <td>2017-07-31 00:00:00</td>\n      <td>54366.9033</td>\n      <td>69808.6353</td>\n      <td>40003</td>\n    </tr>\n    <tr>\n      <th>test9288</th>\n      <td>2</td>\n      <td>MORRIS PARK/VAN NEST</td>\n      <td>01 ONE FAMILY DWELLINGS</td>\n      <td>1</td>\n      <td>4131</td>\n      <td>142</td>\n      <td></td>\n      <td>A5</td>\n      <td>1812 HAIGHT AVENUE</td>\n      <td></td>\n      <td>...</td>\n      <td>1</td>\n      <td>1800.0</td>\n      <td>1782.0</td>\n      <td>1940</td>\n      <td>1</td>\n      <td>A5</td>\n      <td>2017-08-11 00:00:00</td>\n      <td>47715.8304</td>\n      <td>58036.9104</td>\n      <td>48081</td>\n    </tr>\n  </tbody>\n</table>\n<p>9289 rows × 23 columns</p>\n</div>"
     },
     "metadata": {},
     "execution_count": 61
    }
   ],
   "source": [
    "X_train.set_index(\"id\")\n",
    "y_train.set_index(\"id\")\n",
    "X_test.set_index(\"id\")"
   ]
  },
  {
   "cell_type": "code",
   "execution_count": 30,
   "metadata": {},
   "outputs": [
    {
     "output_type": "execute_result",
     "data": {
      "text/plain": [
       "0     315000.0\n",
       "1     995000.0\n",
       "2     627500.0\n",
       "3    3200000.0\n",
       "4     440000.0\n",
       "Name: SALE PRICE, dtype: float64"
      ]
     },
     "metadata": {},
     "execution_count": 30
    }
   ],
   "source": [
    "X = X_train[[\"LAND SQUARE FEET\", \"GROSS SQUARE FEET\", \"MEDIAN INCOME\", \"MEAN INCOME\"]]\n",
    "Y = y_train[\"SALE PRICE\"]\n",
    "Y.head()"
   ]
  },
  {
   "cell_type": "code",
   "execution_count": 32,
   "metadata": {},
   "outputs": [
    {
     "output_type": "stream",
     "name": "stdout",
     "text": [
      "Intercept: \n -839621.1447765732\nCoefficients: \n [-103.74858556  219.45065715 -134.32839719  131.63102758]\n"
     ]
    }
   ],
   "source": [
    "model = linear_model.LinearRegression()\n",
    "model.fit(X,Y)\n",
    "print('Intercept: \\n', model.intercept_)\n",
    "print('Coefficients: \\n', model.coef_)"
   ]
  },
  {
   "cell_type": "code",
   "execution_count": 67,
   "metadata": {},
   "outputs": [
    {
     "output_type": "execute_result",
     "data": {
      "text/plain": [
       "         SALE PRICE\n",
       "id                 \n",
       "test0  8.377787e+06\n",
       "test1  9.576359e+05\n",
       "test2  1.200801e+06\n",
       "test3  2.958064e+06\n",
       "test4  5.319965e+06"
      ],
      "text/html": "<div>\n<style scoped>\n    .dataframe tbody tr th:only-of-type {\n        vertical-align: middle;\n    }\n\n    .dataframe tbody tr th {\n        vertical-align: top;\n    }\n\n    .dataframe thead th {\n        text-align: right;\n    }\n</style>\n<table border=\"1\" class=\"dataframe\">\n  <thead>\n    <tr style=\"text-align: right;\">\n      <th></th>\n      <th>SALE PRICE</th>\n    </tr>\n    <tr>\n      <th>id</th>\n      <th></th>\n    </tr>\n  </thead>\n  <tbody>\n    <tr>\n      <th>test0</th>\n      <td>8.377787e+06</td>\n    </tr>\n    <tr>\n      <th>test1</th>\n      <td>9.576359e+05</td>\n    </tr>\n    <tr>\n      <th>test2</th>\n      <td>1.200801e+06</td>\n    </tr>\n    <tr>\n      <th>test3</th>\n      <td>2.958064e+06</td>\n    </tr>\n    <tr>\n      <th>test4</th>\n      <td>5.319965e+06</td>\n    </tr>\n  </tbody>\n</table>\n</div>"
     },
     "metadata": {},
     "execution_count": 67
    }
   ],
   "source": [
    "x_test_predictions = pd.DataFrame(model.predict(X_test[[\"LAND SQUARE FEET\", \"GROSS SQUARE FEET\", \"MEDIAN INCOME\", \"MEAN INCOME\"]]))\n",
    "x_test_predictions.index = X_test[\"id\"]\n",
    "x_test_predictions.columns = [\"SALE PRICE\"]\n",
    "x_test_predictions.to_csv(\"submission.csv\")\n",
    "x_test_predictions.head()"
   ]
  },
  {
   "cell_type": "code",
   "execution_count": 68,
   "metadata": {},
   "outputs": [
    {
     "output_type": "stream",
     "name": "stdout",
     "text": [
      "Warning: Looks like you're using an outdated API Version, please consider updating (server 1.5.9 / client 1.5.6)\n",
      "Successfully submitted to SAAS 2020 Fall CX Kaggle Compeition\n",
      "\n",
      "  0%|          | 0.00/256k [00:00<?, ?B/s]\n",
      "  3%|▎         | 8.00k/256k [00:00<00:03, 65.9kB/s]\n",
      " 37%|███▋      | 96.0k/256k [00:00<00:01, 91.0kB/s]\n",
      " 50%|████▉     | 128k/256k [00:00<00:01, 91.5kB/s] \n",
      " 59%|█████▉    | 152k/256k [00:00<00:01, 92.0kB/s]\n",
      " 69%|██████▊   | 176k/256k [00:01<00:00, 92.1kB/s]\n",
      " 75%|███████▍  | 192k/256k [00:01<00:00, 91.3kB/s]\n",
      " 81%|████████  | 208k/256k [00:01<00:00, 92.2kB/s]\n",
      " 87%|████████▋ | 224k/256k [00:01<00:00, 93.8kB/s]\n",
      " 94%|█████████▎| 240k/256k [00:01<00:00, 92.5kB/s]\n",
      "100%|█████████▉| 256k/256k [00:02<00:00, 92.1kB/s]\n",
      "100%|██████████| 256k/256k [00:05<00:00, 49.1kB/s]\n"
     ]
    }
   ],
   "source": [
    "!kaggle competitions submit -c saas-2020-fall-cx-kaggle-compeition -f submission.csv -m \"Multiple Linear Regression test 1\""
   ]
  },
  {
   "cell_type": "markdown",
   "metadata": {
    "papermill": {
     "duration": 0.027033,
     "end_time": "2020-11-20T20:33:18.375516",
     "exception": false,
     "start_time": "2020-11-20T20:33:18.348483",
     "status": "completed"
    },
    "tags": []
   },
   "source": [
    "<span id=\"eda\"></span>\n",
    "\n",
    "## 1. Exploratory Data Analysis\n",
    "\n",
    "Provide at least two plots that demonstrate interesting aspects of the dataset, and especially certain features' influence on the target variable, revenue.\n"
   ]
  },
  {
   "cell_type": "code",
   "execution_count": 4,
   "metadata": {
    "execution": {
     "iopub.execute_input": "2020-11-20T20:33:18.432948Z",
     "iopub.status.busy": "2020-11-20T20:33:18.432034Z",
     "iopub.status.idle": "2020-11-20T20:33:18.435091Z",
     "shell.execute_reply": "2020-11-20T20:33:18.434515Z"
    },
    "papermill": {
     "duration": 0.033482,
     "end_time": "2020-11-20T20:33:18.435214",
     "exception": false,
     "start_time": "2020-11-20T20:33:18.401732",
     "status": "completed"
    },
    "tags": []
   },
   "outputs": [],
   "source": [
    "# space for sick plots"
   ]
  },
  {
   "cell_type": "markdown",
   "metadata": {
    "papermill": {
     "duration": 0.026232,
     "end_time": "2020-11-20T20:33:18.488338",
     "exception": false,
     "start_time": "2020-11-20T20:33:18.462106",
     "status": "completed"
    },
    "tags": []
   },
   "source": [
    "## 2. Feature Engineering\n",
    "\n",
    "The data you are given is already pretty clean(no Nan values). But real datasets can get a lot messier and require a lot of data cleaning beforehand. As a general rule of thumb, data cleaning should be done before or with feature engineering."
   ]
  },
  {
   "cell_type": "markdown",
   "metadata": {
    "papermill": {
     "duration": 0.025885,
     "end_time": "2020-11-20T20:33:18.540662",
     "exception": false,
     "start_time": "2020-11-20T20:33:18.514777",
     "status": "completed"
    },
    "tags": []
   },
   "source": [
    "### Feature Selection\n",
    "Not all features are useful. What are some features you can/should get rid of in this dataset? And why should you get rid of them?"
   ]
  },
  {
   "cell_type": "code",
   "execution_count": 5,
   "metadata": {
    "execution": {
     "iopub.execute_input": "2020-11-20T20:33:18.598499Z",
     "iopub.status.busy": "2020-11-20T20:33:18.597525Z",
     "iopub.status.idle": "2020-11-20T20:33:18.600555Z",
     "shell.execute_reply": "2020-11-20T20:33:18.599891Z"
    },
    "papermill": {
     "duration": 0.033831,
     "end_time": "2020-11-20T20:33:18.600664",
     "exception": false,
     "start_time": "2020-11-20T20:33:18.566833",
     "status": "completed"
    },
    "tags": []
   },
   "outputs": [],
   "source": [
    "bad_feature = []"
   ]
  },
  {
   "cell_type": "code",
   "execution_count": 6,
   "metadata": {
    "execution": {
     "iopub.execute_input": "2020-11-20T20:33:18.659284Z",
     "iopub.status.busy": "2020-11-20T20:33:18.658242Z",
     "iopub.status.idle": "2020-11-20T20:33:18.661319Z",
     "shell.execute_reply": "2020-11-20T20:33:18.660693Z"
    },
    "papermill": {
     "duration": 0.034138,
     "end_time": "2020-11-20T20:33:18.661438",
     "exception": false,
     "start_time": "2020-11-20T20:33:18.627300",
     "status": "completed"
    },
    "tags": []
   },
   "outputs": [],
   "source": [
    "def feature_dropper(bad_feature):\n",
    "    for feature in bad_feature:\n",
    "        del X_train[feature]\n",
    "        del X_train[feature]"
   ]
  },
  {
   "cell_type": "markdown",
   "metadata": {
    "papermill": {
     "duration": 0.026044,
     "end_time": "2020-11-20T20:33:18.714517",
     "exception": false,
     "start_time": "2020-11-20T20:33:18.688473",
     "status": "completed"
    },
    "tags": []
   },
   "source": [
    "### Dimensionality Reduction\n",
    "When the data has high dimensions, it is very useful to use PCA to lower the dimension of the data during feature engineering. \n",
    "Since we only have around 20 features, this is not necessary. But it could potentially help with your kaggle score.\n",
    "PS: PCA is designed for continuous variables, so maybe you should try ignore categorical columns for PCA."
   ]
  },
  {
   "cell_type": "code",
   "execution_count": 7,
   "metadata": {
    "execution": {
     "iopub.execute_input": "2020-11-20T20:33:18.772370Z",
     "iopub.status.busy": "2020-11-20T20:33:18.771631Z",
     "iopub.status.idle": "2020-11-20T20:33:19.736048Z",
     "shell.execute_reply": "2020-11-20T20:33:19.735502Z"
    },
    "papermill": {
     "duration": 0.99527,
     "end_time": "2020-11-20T20:33:19.736175",
     "exception": false,
     "start_time": "2020-11-20T20:33:18.740905",
     "status": "completed"
    },
    "tags": []
   },
   "outputs": [],
   "source": [
    "# optional\n",
    "from sklearn.decomposition import PCA\n",
    "# implement your own PCA function here"
   ]
  },
  {
   "cell_type": "markdown",
   "metadata": {
    "papermill": {
     "duration": 0.026979,
     "end_time": "2020-11-20T20:33:19.789850",
     "exception": false,
     "start_time": "2020-11-20T20:33:19.762871",
     "status": "completed"
    },
    "tags": []
   },
   "source": [
    "## One-Hot Encoding\n",
    "Some algorithms(ex. decision trees) can deal with categorical data directly while others need a bit pre-processing to do so.\n",
    "One-Hot Encoding is one of many pre-processing methods to handle categorical data. For more information on one-hot encoding, read this article: https://machinelearningmastery.com/why-one-hot-encode-data-in-machine-learning/"
   ]
  },
  {
   "cell_type": "code",
   "execution_count": 8,
   "metadata": {
    "execution": {
     "iopub.execute_input": "2020-11-20T20:33:19.849229Z",
     "iopub.status.busy": "2020-11-20T20:33:19.848282Z",
     "iopub.status.idle": "2020-11-20T20:33:19.851236Z",
     "shell.execute_reply": "2020-11-20T20:33:19.850593Z"
    },
    "papermill": {
     "duration": 0.034754,
     "end_time": "2020-11-20T20:33:19.851350",
     "exception": false,
     "start_time": "2020-11-20T20:33:19.816596",
     "status": "completed"
    },
    "tags": []
   },
   "outputs": [],
   "source": [
    "def one_hot_encoding(df):\n",
    "    df = pd.get_dummies(df)\n",
    "    return df \n"
   ]
  },
  {
   "cell_type": "markdown",
   "metadata": {
    "papermill": {
     "duration": 0.026416,
     "end_time": "2020-11-20T20:33:19.904479",
     "exception": false,
     "start_time": "2020-11-20T20:33:19.878063",
     "status": "completed"
    },
    "tags": []
   },
   "source": [
    "## Feel Free to do more feature engineering on df! All the methods listed above are ones to help you get started."
   ]
  },
  {
   "cell_type": "code",
   "execution_count": 9,
   "metadata": {
    "execution": {
     "iopub.execute_input": "2020-11-20T20:33:19.965840Z",
     "iopub.status.busy": "2020-11-20T20:33:19.965221Z",
     "iopub.status.idle": "2020-11-20T20:33:19.967711Z",
     "shell.execute_reply": "2020-11-20T20:33:19.968183Z"
    },
    "papermill": {
     "duration": 0.037171,
     "end_time": "2020-11-20T20:33:19.968337",
     "exception": false,
     "start_time": "2020-11-20T20:33:19.931166",
     "status": "completed"
    },
    "tags": []
   },
   "outputs": [],
   "source": [
    "# Splitting up our engineered df back into training and test\n",
    "X_train = df[:X_train.shape[0]]\n",
    "y_train = y_train\n",
    "X_test = df[X_test.shape[0]:]"
   ]
  },
  {
   "cell_type": "markdown",
   "metadata": {
    "papermill": {
     "duration": 0.026649,
     "end_time": "2020-11-20T20:33:20.022023",
     "exception": false,
     "start_time": "2020-11-20T20:33:19.995374",
     "status": "completed"
    },
    "tags": []
   },
   "source": [
    "<span id=\"modeling\"/>\n",
    "\n",
    "## 3. Modeling\n",
    "\n",
    "For each of the models we try, make sure you also run the [Prediction](#prediction) cells at the bottom, so you can submit your predictions to the competition! This is how we'll be making sure you're keeping up with the project."
   ]
  },
  {
   "cell_type": "markdown",
   "metadata": {
    "papermill": {
     "duration": 0.026612,
     "end_time": "2020-11-20T20:33:20.076954",
     "exception": false,
     "start_time": "2020-11-20T20:33:20.050342",
     "status": "completed"
    },
    "tags": []
   },
   "source": [
    "<span id=\"validation\"/>\n",
    "\n",
    "### 3.1 Validation and Evaluation\n",
    "\n",
    "Our Kaggle competition uses Root-Mean-Square-Error (RMSE). In mathematical notation, it is:\n",
    "\n",
    "$$\\text{RMSE}(\\hat{y}, y) = \\sqrt{\\frac{1}{n} \\sum_{i = 1}^n (y_i - \\hat{y}_i)^2}$$"
   ]
  },
  {
   "cell_type": "markdown",
   "metadata": {
    "papermill": {
     "duration": 0.027206,
     "end_time": "2020-11-20T20:33:20.131401",
     "exception": false,
     "start_time": "2020-11-20T20:33:20.104195",
     "status": "completed"
    },
    "tags": []
   },
   "source": [
    "#### Evaluation\n",
    "\n",
    "Complete the function below."
   ]
  },
  {
   "cell_type": "code",
   "execution_count": 10,
   "metadata": {
    "execution": {
     "iopub.execute_input": "2020-11-20T20:33:20.192371Z",
     "iopub.status.busy": "2020-11-20T20:33:20.191723Z",
     "iopub.status.idle": "2020-11-20T20:33:20.194417Z",
     "shell.execute_reply": "2020-11-20T20:33:20.194853Z"
    },
    "papermill": {
     "duration": 0.036652,
     "end_time": "2020-11-20T20:33:20.195023",
     "exception": false,
     "start_time": "2020-11-20T20:33:20.158371",
     "status": "completed"
    },
    "tags": []
   },
   "outputs": [],
   "source": [
    "from sklearn.metrics import mean_squared_error\n",
    "\n",
    "def evaluate(y_pred, y_true):\n",
    "    \"\"\"Returns the RMSLE(y_pred, y_true)\"\"\"\n",
    "    return np.sqrt(mean_squared_error(y_true, y_pred))"
   ]
  },
  {
   "cell_type": "markdown",
   "metadata": {
    "papermill": {
     "duration": 0.027627,
     "end_time": "2020-11-20T20:33:20.251169",
     "exception": false,
     "start_time": "2020-11-20T20:33:20.223542",
     "status": "completed"
    },
    "tags": []
   },
   "source": [
    "#### Validation\n",
    "\n",
    "Use the [train_test_split](https://scikit-learn.org/stable/modules/generated/sklearn.model_selection.train_test_split.html) function to split up your training data into a training set and a validation set. The default size of the validation set is 20% of the full training data here."
   ]
  },
  {
   "cell_type": "code",
   "execution_count": 11,
   "metadata": {
    "execution": {
     "iopub.execute_input": "2020-11-20T20:33:20.318244Z",
     "iopub.status.busy": "2020-11-20T20:33:20.317513Z",
     "iopub.status.idle": "2020-11-20T20:33:20.356538Z",
     "shell.execute_reply": "2020-11-20T20:33:20.355881Z"
    },
    "papermill": {
     "duration": 0.07711,
     "end_time": "2020-11-20T20:33:20.356657",
     "exception": false,
     "start_time": "2020-11-20T20:33:20.279547",
     "status": "completed"
    },
    "tags": []
   },
   "outputs": [],
   "source": [
    "from sklearn.model_selection import train_test_split\n",
    "\n",
    "train_X, valid_X, train_y, valid_y = train_test_split(X_train, y_train, random_state=666)"
   ]
  },
  {
   "cell_type": "markdown",
   "metadata": {
    "papermill": {
     "duration": 0.033365,
     "end_time": "2020-11-20T20:33:20.417212",
     "exception": false,
     "start_time": "2020-11-20T20:33:20.383847",
     "status": "completed"
    },
    "tags": []
   },
   "source": [
    "The validation method above is usable but not that robust. K-Fold Cross-Validation should be better. Feel free to set up your own K-Fold cross-validation scheme. For more information, please read https://towardsdatascience.com/cross-validation-a-beginners-guide-5b8ca04962cd."
   ]
  },
  {
   "cell_type": "markdown",
   "metadata": {
    "papermill": {
     "duration": 0.026986,
     "end_time": "2020-11-20T20:33:20.471800",
     "exception": false,
     "start_time": "2020-11-20T20:33:20.444814",
     "status": "completed"
    },
    "tags": []
   },
   "source": [
    "#### K-Fold Cross Validation"
   ]
  },
  {
   "cell_type": "code",
   "execution_count": 12,
   "metadata": {
    "execution": {
     "iopub.execute_input": "2020-11-20T20:33:20.532285Z",
     "iopub.status.busy": "2020-11-20T20:33:20.531571Z",
     "iopub.status.idle": "2020-11-20T20:33:20.534650Z",
     "shell.execute_reply": "2020-11-20T20:33:20.534115Z"
    },
    "papermill": {
     "duration": 0.034606,
     "end_time": "2020-11-20T20:33:20.534764",
     "exception": false,
     "start_time": "2020-11-20T20:33:20.500158",
     "status": "completed"
    },
    "tags": []
   },
   "outputs": [],
   "source": [
    "#K-Fold Cross Validation code"
   ]
  },
  {
   "cell_type": "markdown",
   "metadata": {
    "papermill": {
     "duration": 0.027324,
     "end_time": "2020-11-20T20:33:20.589334",
     "exception": false,
     "start_time": "2020-11-20T20:33:20.562010",
     "status": "completed"
    },
    "tags": []
   },
   "source": [
    "<span id=\"linear-regression\"/>\n",
    "\n",
    "### 3.2 Linear Regression\n",
    "\n",
    "Fit a linear regression model to your data and report your RMSE."
   ]
  },
  {
   "cell_type": "code",
   "execution_count": 13,
   "metadata": {
    "execution": {
     "iopub.execute_input": "2020-11-20T20:33:20.648784Z",
     "iopub.status.busy": "2020-11-20T20:33:20.648169Z",
     "iopub.status.idle": "2020-11-20T20:33:20.651226Z",
     "shell.execute_reply": "2020-11-20T20:33:20.650552Z"
    },
    "papermill": {
     "duration": 0.034518,
     "end_time": "2020-11-20T20:33:20.651347",
     "exception": false,
     "start_time": "2020-11-20T20:33:20.616829",
     "status": "completed"
    },
    "tags": []
   },
   "outputs": [],
   "source": [
    "from sklearn.linear_model import LinearRegression"
   ]
  },
  {
   "cell_type": "code",
   "execution_count": 14,
   "metadata": {
    "execution": {
     "iopub.execute_input": "2020-11-20T20:33:20.730032Z",
     "iopub.status.busy": "2020-11-20T20:33:20.716145Z",
     "iopub.status.idle": "2020-11-20T20:33:20.817036Z",
     "shell.execute_reply": "2020-11-20T20:33:20.817682Z"
    },
    "papermill": {
     "duration": 0.139223,
     "end_time": "2020-11-20T20:33:20.817833",
     "exception": false,
     "start_time": "2020-11-20T20:33:20.678610",
     "status": "completed"
    },
    "tags": []
   },
   "outputs": [
    {
     "ename": "ValueError",
     "evalue": "could not convert string to float: 'train8017'",
     "output_type": "error",
     "traceback": [
      "\u001b[0;31m---------------------------------------------------------------------------\u001b[0m",
      "\u001b[0;31mValueError\u001b[0m                                Traceback (most recent call last)",
      "\u001b[0;32m<ipython-input-14-047538a782cb>\u001b[0m in \u001b[0;36m<module>\u001b[0;34m\u001b[0m\n\u001b[1;32m      3\u001b[0m \u001b[0;34m\u001b[0m\u001b[0m\n\u001b[1;32m      4\u001b[0m \u001b[0;31m# fitting model on training sets\u001b[0m\u001b[0;34m\u001b[0m\u001b[0;34m\u001b[0m\u001b[0;34m\u001b[0m\u001b[0m\n\u001b[0;32m----> 5\u001b[0;31m \u001b[0mlm\u001b[0m\u001b[0;34m.\u001b[0m\u001b[0mfit\u001b[0m\u001b[0;34m(\u001b[0m\u001b[0mtrain_X\u001b[0m\u001b[0;34m,\u001b[0m \u001b[0mtrain_y\u001b[0m\u001b[0;34m)\u001b[0m\u001b[0;34m\u001b[0m\u001b[0;34m\u001b[0m\u001b[0m\n\u001b[0m\u001b[1;32m      6\u001b[0m \u001b[0;34m\u001b[0m\u001b[0m\n\u001b[1;32m      7\u001b[0m \u001b[0;31m# using model to predict on validation set\u001b[0m\u001b[0;34m\u001b[0m\u001b[0;34m\u001b[0m\u001b[0;34m\u001b[0m\u001b[0m\n",
      "\u001b[0;32m/opt/conda/lib/python3.7/site-packages/sklearn/linear_model/_base.py\u001b[0m in \u001b[0;36mfit\u001b[0;34m(self, X, y, sample_weight)\u001b[0m\n\u001b[1;32m    504\u001b[0m         \u001b[0mn_jobs_\u001b[0m \u001b[0;34m=\u001b[0m \u001b[0mself\u001b[0m\u001b[0;34m.\u001b[0m\u001b[0mn_jobs\u001b[0m\u001b[0;34m\u001b[0m\u001b[0;34m\u001b[0m\u001b[0m\n\u001b[1;32m    505\u001b[0m         X, y = self._validate_data(X, y, accept_sparse=['csr', 'csc', 'coo'],\n\u001b[0;32m--> 506\u001b[0;31m                                    y_numeric=True, multi_output=True)\n\u001b[0m\u001b[1;32m    507\u001b[0m \u001b[0;34m\u001b[0m\u001b[0m\n\u001b[1;32m    508\u001b[0m         \u001b[0;32mif\u001b[0m \u001b[0msample_weight\u001b[0m \u001b[0;32mis\u001b[0m \u001b[0;32mnot\u001b[0m \u001b[0;32mNone\u001b[0m\u001b[0;34m:\u001b[0m\u001b[0;34m\u001b[0m\u001b[0;34m\u001b[0m\u001b[0m\n",
      "\u001b[0;32m/opt/conda/lib/python3.7/site-packages/sklearn/base.py\u001b[0m in \u001b[0;36m_validate_data\u001b[0;34m(self, X, y, reset, validate_separately, **check_params)\u001b[0m\n\u001b[1;32m    430\u001b[0m                 \u001b[0my\u001b[0m \u001b[0;34m=\u001b[0m \u001b[0mcheck_array\u001b[0m\u001b[0;34m(\u001b[0m\u001b[0my\u001b[0m\u001b[0;34m,\u001b[0m \u001b[0;34m**\u001b[0m\u001b[0mcheck_y_params\u001b[0m\u001b[0;34m)\u001b[0m\u001b[0;34m\u001b[0m\u001b[0;34m\u001b[0m\u001b[0m\n\u001b[1;32m    431\u001b[0m             \u001b[0;32melse\u001b[0m\u001b[0;34m:\u001b[0m\u001b[0;34m\u001b[0m\u001b[0;34m\u001b[0m\u001b[0m\n\u001b[0;32m--> 432\u001b[0;31m                 \u001b[0mX\u001b[0m\u001b[0;34m,\u001b[0m \u001b[0my\u001b[0m \u001b[0;34m=\u001b[0m \u001b[0mcheck_X_y\u001b[0m\u001b[0;34m(\u001b[0m\u001b[0mX\u001b[0m\u001b[0;34m,\u001b[0m \u001b[0my\u001b[0m\u001b[0;34m,\u001b[0m \u001b[0;34m**\u001b[0m\u001b[0mcheck_params\u001b[0m\u001b[0;34m)\u001b[0m\u001b[0;34m\u001b[0m\u001b[0;34m\u001b[0m\u001b[0m\n\u001b[0m\u001b[1;32m    433\u001b[0m             \u001b[0mout\u001b[0m \u001b[0;34m=\u001b[0m \u001b[0mX\u001b[0m\u001b[0;34m,\u001b[0m \u001b[0my\u001b[0m\u001b[0;34m\u001b[0m\u001b[0;34m\u001b[0m\u001b[0m\n\u001b[1;32m    434\u001b[0m \u001b[0;34m\u001b[0m\u001b[0m\n",
      "\u001b[0;32m/opt/conda/lib/python3.7/site-packages/sklearn/utils/validation.py\u001b[0m in \u001b[0;36minner_f\u001b[0;34m(*args, **kwargs)\u001b[0m\n\u001b[1;32m     70\u001b[0m                           FutureWarning)\n\u001b[1;32m     71\u001b[0m         \u001b[0mkwargs\u001b[0m\u001b[0;34m.\u001b[0m\u001b[0mupdate\u001b[0m\u001b[0;34m(\u001b[0m\u001b[0;34m{\u001b[0m\u001b[0mk\u001b[0m\u001b[0;34m:\u001b[0m \u001b[0marg\u001b[0m \u001b[0;32mfor\u001b[0m \u001b[0mk\u001b[0m\u001b[0;34m,\u001b[0m \u001b[0marg\u001b[0m \u001b[0;32min\u001b[0m \u001b[0mzip\u001b[0m\u001b[0;34m(\u001b[0m\u001b[0msig\u001b[0m\u001b[0;34m.\u001b[0m\u001b[0mparameters\u001b[0m\u001b[0;34m,\u001b[0m \u001b[0margs\u001b[0m\u001b[0;34m)\u001b[0m\u001b[0;34m}\u001b[0m\u001b[0;34m)\u001b[0m\u001b[0;34m\u001b[0m\u001b[0;34m\u001b[0m\u001b[0m\n\u001b[0;32m---> 72\u001b[0;31m         \u001b[0;32mreturn\u001b[0m \u001b[0mf\u001b[0m\u001b[0;34m(\u001b[0m\u001b[0;34m**\u001b[0m\u001b[0mkwargs\u001b[0m\u001b[0;34m)\u001b[0m\u001b[0;34m\u001b[0m\u001b[0;34m\u001b[0m\u001b[0m\n\u001b[0m\u001b[1;32m     73\u001b[0m     \u001b[0;32mreturn\u001b[0m \u001b[0minner_f\u001b[0m\u001b[0;34m\u001b[0m\u001b[0;34m\u001b[0m\u001b[0m\n\u001b[1;32m     74\u001b[0m \u001b[0;34m\u001b[0m\u001b[0m\n",
      "\u001b[0;32m/opt/conda/lib/python3.7/site-packages/sklearn/utils/validation.py\u001b[0m in \u001b[0;36mcheck_X_y\u001b[0;34m(X, y, accept_sparse, accept_large_sparse, dtype, order, copy, force_all_finite, ensure_2d, allow_nd, multi_output, ensure_min_samples, ensure_min_features, y_numeric, estimator)\u001b[0m\n\u001b[1;32m    800\u001b[0m                     \u001b[0mensure_min_samples\u001b[0m\u001b[0;34m=\u001b[0m\u001b[0mensure_min_samples\u001b[0m\u001b[0;34m,\u001b[0m\u001b[0;34m\u001b[0m\u001b[0;34m\u001b[0m\u001b[0m\n\u001b[1;32m    801\u001b[0m                     \u001b[0mensure_min_features\u001b[0m\u001b[0;34m=\u001b[0m\u001b[0mensure_min_features\u001b[0m\u001b[0;34m,\u001b[0m\u001b[0;34m\u001b[0m\u001b[0;34m\u001b[0m\u001b[0m\n\u001b[0;32m--> 802\u001b[0;31m                     estimator=estimator)\n\u001b[0m\u001b[1;32m    803\u001b[0m     \u001b[0;32mif\u001b[0m \u001b[0mmulti_output\u001b[0m\u001b[0;34m:\u001b[0m\u001b[0;34m\u001b[0m\u001b[0;34m\u001b[0m\u001b[0m\n\u001b[1;32m    804\u001b[0m         y = check_array(y, accept_sparse='csr', force_all_finite=True,\n",
      "\u001b[0;32m/opt/conda/lib/python3.7/site-packages/sklearn/utils/validation.py\u001b[0m in \u001b[0;36minner_f\u001b[0;34m(*args, **kwargs)\u001b[0m\n\u001b[1;32m     70\u001b[0m                           FutureWarning)\n\u001b[1;32m     71\u001b[0m         \u001b[0mkwargs\u001b[0m\u001b[0;34m.\u001b[0m\u001b[0mupdate\u001b[0m\u001b[0;34m(\u001b[0m\u001b[0;34m{\u001b[0m\u001b[0mk\u001b[0m\u001b[0;34m:\u001b[0m \u001b[0marg\u001b[0m \u001b[0;32mfor\u001b[0m \u001b[0mk\u001b[0m\u001b[0;34m,\u001b[0m \u001b[0marg\u001b[0m \u001b[0;32min\u001b[0m \u001b[0mzip\u001b[0m\u001b[0;34m(\u001b[0m\u001b[0msig\u001b[0m\u001b[0;34m.\u001b[0m\u001b[0mparameters\u001b[0m\u001b[0;34m,\u001b[0m \u001b[0margs\u001b[0m\u001b[0;34m)\u001b[0m\u001b[0;34m}\u001b[0m\u001b[0;34m)\u001b[0m\u001b[0;34m\u001b[0m\u001b[0;34m\u001b[0m\u001b[0m\n\u001b[0;32m---> 72\u001b[0;31m         \u001b[0;32mreturn\u001b[0m \u001b[0mf\u001b[0m\u001b[0;34m(\u001b[0m\u001b[0;34m**\u001b[0m\u001b[0mkwargs\u001b[0m\u001b[0;34m)\u001b[0m\u001b[0;34m\u001b[0m\u001b[0;34m\u001b[0m\u001b[0m\n\u001b[0m\u001b[1;32m     73\u001b[0m     \u001b[0;32mreturn\u001b[0m \u001b[0minner_f\u001b[0m\u001b[0;34m\u001b[0m\u001b[0;34m\u001b[0m\u001b[0m\n\u001b[1;32m     74\u001b[0m \u001b[0;34m\u001b[0m\u001b[0m\n",
      "\u001b[0;32m/opt/conda/lib/python3.7/site-packages/sklearn/utils/validation.py\u001b[0m in \u001b[0;36mcheck_array\u001b[0;34m(array, accept_sparse, accept_large_sparse, dtype, order, copy, force_all_finite, ensure_2d, allow_nd, ensure_min_samples, ensure_min_features, estimator)\u001b[0m\n\u001b[1;32m    596\u001b[0m                     \u001b[0marray\u001b[0m \u001b[0;34m=\u001b[0m \u001b[0marray\u001b[0m\u001b[0;34m.\u001b[0m\u001b[0mastype\u001b[0m\u001b[0;34m(\u001b[0m\u001b[0mdtype\u001b[0m\u001b[0;34m,\u001b[0m \u001b[0mcasting\u001b[0m\u001b[0;34m=\u001b[0m\u001b[0;34m\"unsafe\"\u001b[0m\u001b[0;34m,\u001b[0m \u001b[0mcopy\u001b[0m\u001b[0;34m=\u001b[0m\u001b[0;32mFalse\u001b[0m\u001b[0;34m)\u001b[0m\u001b[0;34m\u001b[0m\u001b[0;34m\u001b[0m\u001b[0m\n\u001b[1;32m    597\u001b[0m                 \u001b[0;32melse\u001b[0m\u001b[0;34m:\u001b[0m\u001b[0;34m\u001b[0m\u001b[0;34m\u001b[0m\u001b[0m\n\u001b[0;32m--> 598\u001b[0;31m                     \u001b[0marray\u001b[0m \u001b[0;34m=\u001b[0m \u001b[0mnp\u001b[0m\u001b[0;34m.\u001b[0m\u001b[0masarray\u001b[0m\u001b[0;34m(\u001b[0m\u001b[0marray\u001b[0m\u001b[0;34m,\u001b[0m \u001b[0morder\u001b[0m\u001b[0;34m=\u001b[0m\u001b[0morder\u001b[0m\u001b[0;34m,\u001b[0m \u001b[0mdtype\u001b[0m\u001b[0;34m=\u001b[0m\u001b[0mdtype\u001b[0m\u001b[0;34m)\u001b[0m\u001b[0;34m\u001b[0m\u001b[0;34m\u001b[0m\u001b[0m\n\u001b[0m\u001b[1;32m    599\u001b[0m             \u001b[0;32mexcept\u001b[0m \u001b[0mComplexWarning\u001b[0m\u001b[0;34m:\u001b[0m\u001b[0;34m\u001b[0m\u001b[0;34m\u001b[0m\u001b[0m\n\u001b[1;32m    600\u001b[0m                 raise ValueError(\"Complex data not supported\\n\"\n",
      "\u001b[0;32m/opt/conda/lib/python3.7/site-packages/numpy/core/_asarray.py\u001b[0m in \u001b[0;36masarray\u001b[0;34m(a, dtype, order)\u001b[0m\n\u001b[1;32m     83\u001b[0m \u001b[0;34m\u001b[0m\u001b[0m\n\u001b[1;32m     84\u001b[0m     \"\"\"\n\u001b[0;32m---> 85\u001b[0;31m     \u001b[0;32mreturn\u001b[0m \u001b[0marray\u001b[0m\u001b[0;34m(\u001b[0m\u001b[0ma\u001b[0m\u001b[0;34m,\u001b[0m \u001b[0mdtype\u001b[0m\u001b[0;34m,\u001b[0m \u001b[0mcopy\u001b[0m\u001b[0;34m=\u001b[0m\u001b[0;32mFalse\u001b[0m\u001b[0;34m,\u001b[0m \u001b[0morder\u001b[0m\u001b[0;34m=\u001b[0m\u001b[0morder\u001b[0m\u001b[0;34m)\u001b[0m\u001b[0;34m\u001b[0m\u001b[0;34m\u001b[0m\u001b[0m\n\u001b[0m\u001b[1;32m     86\u001b[0m \u001b[0;34m\u001b[0m\u001b[0m\n\u001b[1;32m     87\u001b[0m \u001b[0;34m\u001b[0m\u001b[0m\n",
      "\u001b[0;32m/opt/conda/lib/python3.7/site-packages/pandas/core/generic.py\u001b[0m in \u001b[0;36m__array__\u001b[0;34m(self, dtype)\u001b[0m\n\u001b[1;32m   1779\u001b[0m \u001b[0;34m\u001b[0m\u001b[0m\n\u001b[1;32m   1780\u001b[0m     \u001b[0;32mdef\u001b[0m \u001b[0m__array__\u001b[0m\u001b[0;34m(\u001b[0m\u001b[0mself\u001b[0m\u001b[0;34m,\u001b[0m \u001b[0mdtype\u001b[0m\u001b[0;34m=\u001b[0m\u001b[0;32mNone\u001b[0m\u001b[0;34m)\u001b[0m \u001b[0;34m->\u001b[0m \u001b[0mnp\u001b[0m\u001b[0;34m.\u001b[0m\u001b[0mndarray\u001b[0m\u001b[0;34m:\u001b[0m\u001b[0;34m\u001b[0m\u001b[0;34m\u001b[0m\u001b[0m\n\u001b[0;32m-> 1781\u001b[0;31m         \u001b[0;32mreturn\u001b[0m \u001b[0mnp\u001b[0m\u001b[0;34m.\u001b[0m\u001b[0masarray\u001b[0m\u001b[0;34m(\u001b[0m\u001b[0mself\u001b[0m\u001b[0;34m.\u001b[0m\u001b[0m_values\u001b[0m\u001b[0;34m,\u001b[0m \u001b[0mdtype\u001b[0m\u001b[0;34m=\u001b[0m\u001b[0mdtype\u001b[0m\u001b[0;34m)\u001b[0m\u001b[0;34m\u001b[0m\u001b[0;34m\u001b[0m\u001b[0m\n\u001b[0m\u001b[1;32m   1782\u001b[0m \u001b[0;34m\u001b[0m\u001b[0m\n\u001b[1;32m   1783\u001b[0m     \u001b[0;32mdef\u001b[0m \u001b[0m__array_wrap__\u001b[0m\u001b[0;34m(\u001b[0m\u001b[0mself\u001b[0m\u001b[0;34m,\u001b[0m \u001b[0mresult\u001b[0m\u001b[0;34m,\u001b[0m \u001b[0mcontext\u001b[0m\u001b[0;34m=\u001b[0m\u001b[0;32mNone\u001b[0m\u001b[0;34m)\u001b[0m\u001b[0;34m:\u001b[0m\u001b[0;34m\u001b[0m\u001b[0;34m\u001b[0m\u001b[0m\n",
      "\u001b[0;32m/opt/conda/lib/python3.7/site-packages/numpy/core/_asarray.py\u001b[0m in \u001b[0;36masarray\u001b[0;34m(a, dtype, order)\u001b[0m\n\u001b[1;32m     83\u001b[0m \u001b[0;34m\u001b[0m\u001b[0m\n\u001b[1;32m     84\u001b[0m     \"\"\"\n\u001b[0;32m---> 85\u001b[0;31m     \u001b[0;32mreturn\u001b[0m \u001b[0marray\u001b[0m\u001b[0;34m(\u001b[0m\u001b[0ma\u001b[0m\u001b[0;34m,\u001b[0m \u001b[0mdtype\u001b[0m\u001b[0;34m,\u001b[0m \u001b[0mcopy\u001b[0m\u001b[0;34m=\u001b[0m\u001b[0;32mFalse\u001b[0m\u001b[0;34m,\u001b[0m \u001b[0morder\u001b[0m\u001b[0;34m=\u001b[0m\u001b[0morder\u001b[0m\u001b[0;34m)\u001b[0m\u001b[0;34m\u001b[0m\u001b[0;34m\u001b[0m\u001b[0m\n\u001b[0m\u001b[1;32m     86\u001b[0m \u001b[0;34m\u001b[0m\u001b[0m\n\u001b[1;32m     87\u001b[0m \u001b[0;34m\u001b[0m\u001b[0m\n",
      "\u001b[0;31mValueError\u001b[0m: could not convert string to float: 'train8017'"
     ]
    }
   ],
   "source": [
    "# instantiating linear regression object (model)\n",
    "lm = LinearRegression()\n",
    "\n",
    "# fitting model on training sets\n",
    "lm.fit(train_X, train_y)\n",
    "\n",
    "# using model to predict on validation set\n",
    "y_valid_pred = lm.predict(valid_X)\n",
    "\n",
    "# IMPORTANT: This model is a \"dumb\" model that predicts negative values for some movie revenues\n",
    "# However, because we are using RMLSE we cannot have negative predictions\n",
    "# Ideally you create a better model that doesn't predict negative revenues\n",
    "y_valid_pred[y_valid_pred < 0] = 0\n",
    "\n",
    "# evaluating prediction on validation set\n",
    "evaluate(y_valid_pred, valid_y)"
   ]
  },
  {
   "cell_type": "markdown",
   "metadata": {
    "papermill": {
     "duration": 0.02764,
     "end_time": "2020-11-20T20:33:20.874250",
     "exception": false,
     "start_time": "2020-11-20T20:33:20.846610",
     "status": "completed"
    },
    "tags": []
   },
   "source": [
    "<span id=\"reg\" />\n",
    "\n",
    "### 3.3 Regularized Regression\n",
    "\n",
    "Fit a [LASSO regression model](http://scikit-learn.org/stable/modules/generated/sklearn.linear_model.Lasso.html) to your data with $\\lambda = 1$"
   ]
  },
  {
   "cell_type": "code",
   "execution_count": 15,
   "metadata": {
    "execution": {
     "iopub.execute_input": "2020-11-20T20:33:20.935518Z",
     "iopub.status.busy": "2020-11-20T20:33:20.934727Z",
     "iopub.status.idle": "2020-11-20T20:33:20.937808Z",
     "shell.execute_reply": "2020-11-20T20:33:20.937312Z"
    },
    "papermill": {
     "duration": 0.035586,
     "end_time": "2020-11-20T20:33:20.937959",
     "exception": false,
     "start_time": "2020-11-20T20:33:20.902373",
     "status": "completed"
    },
    "tags": []
   },
   "outputs": [],
   "source": [
    "from sklearn.linear_model import Lasso"
   ]
  },
  {
   "cell_type": "code",
   "execution_count": 16,
   "metadata": {
    "execution": {
     "iopub.execute_input": "2020-11-20T20:33:20.998853Z",
     "iopub.status.busy": "2020-11-20T20:33:20.998199Z",
     "iopub.status.idle": "2020-11-20T20:33:21.001157Z",
     "shell.execute_reply": "2020-11-20T20:33:21.000500Z"
    },
    "papermill": {
     "duration": 0.035084,
     "end_time": "2020-11-20T20:33:21.001273",
     "exception": false,
     "start_time": "2020-11-20T20:33:20.966189",
     "status": "completed"
    },
    "tags": []
   },
   "outputs": [],
   "source": [
    "# YOUR CODE HERE"
   ]
  },
  {
   "cell_type": "markdown",
   "metadata": {
    "papermill": {
     "duration": 0.027833,
     "end_time": "2020-11-20T20:33:21.057430",
     "exception": false,
     "start_time": "2020-11-20T20:33:21.029597",
     "status": "completed"
    },
    "tags": []
   },
   "source": [
    "#### 3.3.1 Hyperparameter Tuning\n",
    "\n",
    "Perform [3-fold cross-validation](https://scikit-learn.org/stable/modules/generated/sklearn.model_selection.KFold.html) on the parameter $\\lambda$, which is called **alpha** when you pass it into Lasso. Find the best parameter of $\\lambda \\in \\{0.001, 0.005, 0.01, 0.05, 0.1\\}$ and report the **RMSE** on the validation set if you use this parameter. \n",
    "PS: The given $\\lambda$ list may not contain the optimal $\\lambda$ for the model. Feel free to find better ones!"
   ]
  },
  {
   "cell_type": "code",
   "execution_count": 17,
   "metadata": {
    "execution": {
     "iopub.execute_input": "2020-11-20T20:33:21.122805Z",
     "iopub.status.busy": "2020-11-20T20:33:21.121656Z",
     "iopub.status.idle": "2020-11-20T20:33:21.125531Z",
     "shell.execute_reply": "2020-11-20T20:33:21.126071Z"
    },
    "papermill": {
     "duration": 0.039911,
     "end_time": "2020-11-20T20:33:21.126221",
     "exception": false,
     "start_time": "2020-11-20T20:33:21.086310",
     "status": "completed"
    },
    "tags": []
   },
   "outputs": [
    {
     "ename": "IndentationError",
     "evalue": "expected an indented block (<ipython-input-17-5a8aec5591ea>, line 14)",
     "output_type": "error",
     "traceback": [
      "\u001b[0;36m  File \u001b[0;32m\"<ipython-input-17-5a8aec5591ea>\"\u001b[0;36m, line \u001b[0;32m14\u001b[0m\n\u001b[0;31m    cv_scores[alphai] = scores.mean()\u001b[0m\n\u001b[0m            ^\u001b[0m\n\u001b[0;31mIndentationError\u001b[0m\u001b[0;31m:\u001b[0m expected an indented block\n"
     ]
    }
   ],
   "source": [
    "from sklearn.model_selection import KFold\n",
    "\n",
    "kf = KFold(n_splits=5)\n",
    "\n",
    "alphas = [1e-3, 5e-3, 1e-2, 5e-2, 0.1]\n",
    "\n",
    "cv_scores = np.zeros(len(alphas))\n",
    "\n",
    "for alphai, alpha in enumerate(alphas):\n",
    "    print('Training alpha =', alpha, end='\\t')\n",
    "    scores = np.zeros(5)\n",
    "    for i, (train_index, test_index) in enumerate(kf.split(X_train)):\n",
    "        # YOUR CODE HERE\n",
    "    cv_scores[alphai] = scores.mean()\n",
    "    print('RMSLE = ', cv_scores[alphai])"
   ]
  },
  {
   "cell_type": "code",
   "execution_count": 18,
   "metadata": {
    "execution": {
     "iopub.execute_input": "2020-11-20T20:33:21.200093Z",
     "iopub.status.busy": "2020-11-20T20:33:21.199058Z",
     "iopub.status.idle": "2020-11-20T20:33:21.204041Z",
     "shell.execute_reply": "2020-11-20T20:33:21.203351Z"
    },
    "papermill": {
     "duration": 0.048986,
     "end_time": "2020-11-20T20:33:21.204161",
     "exception": false,
     "start_time": "2020-11-20T20:33:21.155175",
     "status": "completed"
    },
    "tags": []
   },
   "outputs": [
    {
     "ename": "NameError",
     "evalue": "name 'alphas' is not defined",
     "output_type": "error",
     "traceback": [
      "\u001b[0;31m---------------------------------------------------------------------------\u001b[0m",
      "\u001b[0;31mNameError\u001b[0m                                 Traceback (most recent call last)",
      "\u001b[0;32m<ipython-input-18-b6a5bc96cbca>\u001b[0m in \u001b[0;36m<module>\u001b[0;34m\u001b[0m\n\u001b[0;32m----> 1\u001b[0;31m \u001b[0mbest_alpha\u001b[0m \u001b[0;34m=\u001b[0m \u001b[0malphas\u001b[0m\u001b[0;34m[\u001b[0m\u001b[0mnp\u001b[0m\u001b[0;34m.\u001b[0m\u001b[0margmax\u001b[0m\u001b[0;34m(\u001b[0m\u001b[0mcv_scores\u001b[0m\u001b[0;34m)\u001b[0m\u001b[0;34m]\u001b[0m\u001b[0;34m\u001b[0m\u001b[0;34m\u001b[0m\u001b[0m\n\u001b[0m\u001b[1;32m      2\u001b[0m \u001b[0mbest_alpha\u001b[0m\u001b[0;34m\u001b[0m\u001b[0;34m\u001b[0m\u001b[0m\n",
      "\u001b[0;31mNameError\u001b[0m: name 'alphas' is not defined"
     ]
    }
   ],
   "source": [
    "best_alpha = alphas[np.argmax(cv_scores)]\n",
    "best_alpha"
   ]
  },
  {
   "cell_type": "code",
   "execution_count": 19,
   "metadata": {
    "execution": {
     "iopub.execute_input": "2020-11-20T20:33:21.270890Z",
     "iopub.status.busy": "2020-11-20T20:33:21.269769Z",
     "iopub.status.idle": "2020-11-20T20:33:21.274520Z",
     "shell.execute_reply": "2020-11-20T20:33:21.273995Z"
    },
    "papermill": {
     "duration": 0.040937,
     "end_time": "2020-11-20T20:33:21.274649",
     "exception": false,
     "start_time": "2020-11-20T20:33:21.233712",
     "status": "completed"
    },
    "tags": []
   },
   "outputs": [
    {
     "ename": "SyntaxError",
     "evalue": "invalid syntax (<ipython-input-19-b80e8a18118b>, line 3)",
     "output_type": "error",
     "traceback": [
      "\u001b[0;36m  File \u001b[0;32m\"<ipython-input-19-b80e8a18118b>\"\u001b[0;36m, line \u001b[0;32m3\u001b[0m\n\u001b[0;31m    training_accuracy = # YOUR CODE HERE\u001b[0m\n\u001b[0m                                        ^\u001b[0m\n\u001b[0;31mSyntaxError\u001b[0m\u001b[0;31m:\u001b[0m invalid syntax\n"
     ]
    }
   ],
   "source": [
    "model = Lasso(alpha=best_alpha)\n",
    "model.fit(train_X, np.log(train_y))\n",
    "training_accuracy = # YOUR CODE HERE\n",
    "validation_accuracy = # YOUR CODE HERE\n",
    "\n",
    "print('Training accuracy', training_accuracy)\n",
    "print('Validation accuracy', validation_accuracy)"
   ]
  },
  {
   "cell_type": "markdown",
   "metadata": {
    "papermill": {
     "duration": 0.030715,
     "end_time": "2020-11-20T20:33:21.335947",
     "exception": false,
     "start_time": "2020-11-20T20:33:21.305232",
     "status": "completed"
    },
    "tags": []
   },
   "source": [
    "<span id=\"random-forest\"/>\n",
    "\n",
    "### 3.4 Random Forest\n",
    "\n",
    "Fit a random forest model to your data and report your RMSE.\n",
    "\n",
    "**NOTE:** If you're finding that your model is performing worse than your linear regression, make sure you tune the parameters to the RandomForestRegressor!\n",
    "\n",
    "Try to understand what the parameters mean by looking at the Decision Trees lecture."
   ]
  },
  {
   "cell_type": "code",
   "execution_count": 20,
   "metadata": {
    "execution": {
     "iopub.execute_input": "2020-11-20T20:33:21.401751Z",
     "iopub.status.busy": "2020-11-20T20:33:21.401025Z",
     "iopub.status.idle": "2020-11-20T20:33:21.487651Z",
     "shell.execute_reply": "2020-11-20T20:33:21.486962Z"
    },
    "papermill": {
     "duration": 0.121511,
     "end_time": "2020-11-20T20:33:21.487769",
     "exception": false,
     "start_time": "2020-11-20T20:33:21.366258",
     "status": "completed"
    },
    "tags": []
   },
   "outputs": [],
   "source": [
    "from sklearn.ensemble import RandomForestRegressor"
   ]
  },
  {
   "cell_type": "code",
   "execution_count": 21,
   "metadata": {
    "execution": {
     "iopub.execute_input": "2020-11-20T20:33:21.552722Z",
     "iopub.status.busy": "2020-11-20T20:33:21.551768Z",
     "iopub.status.idle": "2020-11-20T20:33:21.555068Z",
     "shell.execute_reply": "2020-11-20T20:33:21.554432Z"
    },
    "papermill": {
     "duration": 0.037057,
     "end_time": "2020-11-20T20:33:21.555184",
     "exception": false,
     "start_time": "2020-11-20T20:33:21.518127",
     "status": "completed"
    },
    "tags": []
   },
   "outputs": [],
   "source": [
    "# YOUR CODE HERE"
   ]
  },
  {
   "cell_type": "markdown",
   "metadata": {
    "papermill": {
     "duration": 0.029383,
     "end_time": "2020-11-20T20:33:21.614856",
     "exception": false,
     "start_time": "2020-11-20T20:33:21.585473",
     "status": "completed"
    },
    "tags": []
   },
   "source": [
    "<span id=\"nn\" />\n",
    "\n",
    "### 3.5 Neural Network"
   ]
  },
  {
   "cell_type": "markdown",
   "metadata": {
    "papermill": {
     "duration": 0.029315,
     "end_time": "2020-11-20T20:33:21.674115",
     "exception": false,
     "start_time": "2020-11-20T20:33:21.644800",
     "status": "completed"
    },
    "tags": []
   },
   "source": [
    "This section is optional.\n",
    "\n",
    "Train a neural network on the data. Report your RMSE.\n",
    "\n",
    "**NOTE**: Neural Networks require a lot of time to train and it is better to use GPU to train them. Kaggle provides free weekly GPU usage(37 hours/week). To use GPU, choose 'GPU' in the Accelerator from Settings located on the right side of your screen."
   ]
  },
  {
   "cell_type": "code",
   "execution_count": 22,
   "metadata": {
    "execution": {
     "iopub.execute_input": "2020-11-20T20:33:21.738341Z",
     "iopub.status.busy": "2020-11-20T20:33:21.737683Z",
     "iopub.status.idle": "2020-11-20T20:33:21.739940Z",
     "shell.execute_reply": "2020-11-20T20:33:21.740366Z"
    },
    "papermill": {
     "duration": 0.03634,
     "end_time": "2020-11-20T20:33:21.740510",
     "exception": false,
     "start_time": "2020-11-20T20:33:21.704170",
     "status": "completed"
    },
    "tags": []
   },
   "outputs": [],
   "source": [
    "# YOUR CODE HERE"
   ]
  },
  {
   "cell_type": "markdown",
   "metadata": {
    "papermill": {
     "duration": 0.029656,
     "end_time": "2020-11-20T20:33:21.800525",
     "exception": false,
     "start_time": "2020-11-20T20:33:21.770869",
     "status": "completed"
    },
    "tags": []
   },
   "source": [
    "<span id=\"xgb\" />\n",
    "\n",
    "### 3.6 XGBoost (Stretch)\n",
    "\n",
    "Now that we've tried many different types of classifiers, it's time to bring out the big guns.\n",
    "\n",
    "Below are hyperparameters for an XGBoost model: tinker around with these to achieve the best validation score (below). Learn about what some of the hyperparameters mean [here](https://xgboost.readthedocs.io/en/latest/python/python_api.html#xgboost.train).\n",
    "\n",
    "**NOTE**: Feel free to reach out on slack if you run into any trouble <3"
   ]
  },
  {
   "cell_type": "code",
   "execution_count": 23,
   "metadata": {
    "execution": {
     "iopub.execute_input": "2020-11-20T20:33:21.865224Z",
     "iopub.status.busy": "2020-11-20T20:33:21.864520Z",
     "iopub.status.idle": "2020-11-20T20:33:22.735137Z",
     "shell.execute_reply": "2020-11-20T20:33:22.734415Z"
    },
    "papermill": {
     "duration": 0.904717,
     "end_time": "2020-11-20T20:33:22.735262",
     "exception": false,
     "start_time": "2020-11-20T20:33:21.830545",
     "status": "completed"
    },
    "tags": []
   },
   "outputs": [],
   "source": [
    "from xgboost import train"
   ]
  },
  {
   "cell_type": "code",
   "execution_count": 24,
   "metadata": {
    "_uuid": "24a3ad9214f8c5210f69a1b6f887ce602ccd2b06",
    "execution": {
     "iopub.execute_input": "2020-11-20T20:33:22.802262Z",
     "iopub.status.busy": "2020-11-20T20:33:22.801195Z",
     "iopub.status.idle": "2020-11-20T20:33:22.805166Z",
     "shell.execute_reply": "2020-11-20T20:33:22.805595Z"
    },
    "papermill": {
     "duration": 0.040042,
     "end_time": "2020-11-20T20:33:22.805745",
     "exception": false,
     "start_time": "2020-11-20T20:33:22.765703",
     "status": "completed"
    },
    "tags": []
   },
   "outputs": [
    {
     "ename": "SyntaxError",
     "evalue": "invalid syntax (<ipython-input-24-bfddbe3f18d4>, line 3)",
     "output_type": "error",
     "traceback": [
      "\u001b[0;36m  File \u001b[0;32m\"<ipython-input-24-bfddbe3f18d4>\"\u001b[0;36m, line \u001b[0;32m3\u001b[0m\n\u001b[0;31m    'max_depth': # YOUR CODE HERE\u001b[0m\n\u001b[0m               ^\u001b[0m\n\u001b[0;31mSyntaxError\u001b[0m\u001b[0;31m:\u001b[0m invalid syntax\n"
     ]
    }
   ],
   "source": [
    "params = {\n",
    "    'eta': # YOUR CODE HERE\n",
    "    'max_depth': # YOUR CODE HERE\n",
    "    'subsample': # YOUR CODE HERE\n",
    "    'colsample_bytree': # YOUR CODE HERE\n",
    "    'silent': # YOUR CODE HERE\n",
    "}"
   ]
  },
  {
   "cell_type": "code",
   "execution_count": 25,
   "metadata": {
    "execution": {
     "iopub.execute_input": "2020-11-20T20:33:22.872312Z",
     "iopub.status.busy": "2020-11-20T20:33:22.871641Z",
     "iopub.status.idle": "2020-11-20T20:33:22.907450Z",
     "shell.execute_reply": "2020-11-20T20:33:22.906734Z"
    },
    "papermill": {
     "duration": 0.071178,
     "end_time": "2020-11-20T20:33:22.907577",
     "exception": false,
     "start_time": "2020-11-20T20:33:22.836399",
     "status": "completed"
    },
    "tags": []
   },
   "outputs": [
    {
     "ename": "ModuleNotFoundError",
     "evalue": "No module named 'xgb'",
     "output_type": "error",
     "traceback": [
      "\u001b[0;31m---------------------------------------------------------------------------\u001b[0m",
      "\u001b[0;31mModuleNotFoundError\u001b[0m                       Traceback (most recent call last)",
      "\u001b[0;32m<ipython-input-25-4098895ff490>\u001b[0m in \u001b[0;36m<module>\u001b[0;34m\u001b[0m\n\u001b[0;32m----> 1\u001b[0;31m \u001b[0;32mfrom\u001b[0m \u001b[0mxgb\u001b[0m \u001b[0;32mimport\u001b[0m \u001b[0mrun_xgb\u001b[0m\u001b[0;34m\u001b[0m\u001b[0;34m\u001b[0m\u001b[0m\n\u001b[0m\u001b[1;32m      2\u001b[0m \u001b[0mxgb_preds\u001b[0m \u001b[0;34m=\u001b[0m \u001b[0mrun_xgb\u001b[0m\u001b[0;34m(\u001b[0m\u001b[0;34m...\u001b[0m\u001b[0;34m)\u001b[0m \u001b[0;31m# change this\u001b[0m\u001b[0;34m\u001b[0m\u001b[0;34m\u001b[0m\u001b[0m\n",
      "\u001b[0;31mModuleNotFoundError\u001b[0m: No module named 'xgb'"
     ]
    }
   ],
   "source": [
    "from xgb import run_xgb\n",
    "xgb_preds = run_xgb(...) # change this"
   ]
  },
  {
   "cell_type": "markdown",
   "metadata": {
    "papermill": {
     "duration": 0.030959,
     "end_time": "2020-11-20T20:33:22.970279",
     "exception": false,
     "start_time": "2020-11-20T20:33:22.939320",
     "status": "completed"
    },
    "tags": []
   },
   "source": [
    "## Prediction"
   ]
  },
  {
   "cell_type": "code",
   "execution_count": 26,
   "metadata": {
    "execution": {
     "iopub.execute_input": "2020-11-20T20:33:23.038119Z",
     "iopub.status.busy": "2020-11-20T20:33:23.037316Z",
     "iopub.status.idle": "2020-11-20T20:33:23.041839Z",
     "shell.execute_reply": "2020-11-20T20:33:23.041165Z"
    },
    "papermill": {
     "duration": 0.040444,
     "end_time": "2020-11-20T20:33:23.041991",
     "exception": false,
     "start_time": "2020-11-20T20:33:23.001547",
     "status": "completed"
    },
    "tags": []
   },
   "outputs": [
    {
     "ename": "SyntaxError",
     "evalue": "invalid syntax (<ipython-input-26-9e2fa975816b>, line 1)",
     "output_type": "error",
     "traceback": [
      "\u001b[0;36m  File \u001b[0;32m\"<ipython-input-26-9e2fa975816b>\"\u001b[0;36m, line \u001b[0;32m1\u001b[0m\n\u001b[0;31m    1d arra\u001b[0m\n\u001b[0m     ^\u001b[0m\n\u001b[0;31mSyntaxError\u001b[0m\u001b[0;31m:\u001b[0m invalid syntax\n"
     ]
    }
   ],
   "source": [
    "1d arra"
   ]
  },
  {
   "cell_type": "code",
   "execution_count": 27,
   "metadata": {
    "execution": {
     "iopub.execute_input": "2020-11-20T20:33:23.114224Z",
     "iopub.status.busy": "2020-11-20T20:33:23.113121Z",
     "iopub.status.idle": "2020-11-20T20:33:23.116787Z",
     "shell.execute_reply": "2020-11-20T20:33:23.117278Z"
    },
    "papermill": {
     "duration": 0.043073,
     "end_time": "2020-11-20T20:33:23.117429",
     "exception": false,
     "start_time": "2020-11-20T20:33:23.074356",
     "status": "completed"
    },
    "tags": []
   },
   "outputs": [
    {
     "data": {
      "text/plain": [
       "(9289, 2)"
      ]
     },
     "execution_count": 27,
     "metadata": {},
     "output_type": "execute_result"
    }
   ],
   "source": [
    "sample_submission.shape"
   ]
  },
  {
   "cell_type": "code",
   "execution_count": 28,
   "metadata": {
    "execution": {
     "iopub.execute_input": "2020-11-20T20:33:23.189026Z",
     "iopub.status.busy": "2020-11-20T20:33:23.188255Z",
     "iopub.status.idle": "2020-11-20T20:33:23.191399Z",
     "shell.execute_reply": "2020-11-20T20:33:23.190724Z"
    },
    "papermill": {
     "duration": 0.041634,
     "end_time": "2020-11-20T20:33:23.191517",
     "exception": false,
     "start_time": "2020-11-20T20:33:23.149883",
     "status": "completed"
    },
    "tags": []
   },
   "outputs": [],
   "source": [
    "#model here should be your best model based on your validation accuracy; pred should be an array\n",
    "\n",
    "#replace the following line with model.predict(X_test) or similar statements to generate your predictions\n",
    "pred = np.ones((sample_submission.shape[0], 1))"
   ]
  },
  {
   "cell_type": "code",
   "execution_count": 29,
   "metadata": {
    "execution": {
     "iopub.execute_input": "2020-11-20T20:33:23.263957Z",
     "iopub.status.busy": "2020-11-20T20:33:23.262863Z",
     "iopub.status.idle": "2020-11-20T20:33:23.267462Z",
     "shell.execute_reply": "2020-11-20T20:33:23.266845Z"
    },
    "papermill": {
     "duration": 0.043962,
     "end_time": "2020-11-20T20:33:23.267591",
     "exception": false,
     "start_time": "2020-11-20T20:33:23.223629",
     "status": "completed"
    },
    "tags": []
   },
   "outputs": [
    {
     "data": {
      "text/plain": [
       "(9289, 1)"
      ]
     },
     "execution_count": 29,
     "metadata": {},
     "output_type": "execute_result"
    }
   ],
   "source": [
    "pred.shape"
   ]
  },
  {
   "cell_type": "code",
   "execution_count": 30,
   "metadata": {
    "execution": {
     "iopub.execute_input": "2020-11-20T20:33:23.340516Z",
     "iopub.status.busy": "2020-11-20T20:33:23.339786Z",
     "iopub.status.idle": "2020-11-20T20:33:23.344171Z",
     "shell.execute_reply": "2020-11-20T20:33:23.343459Z"
    },
    "papermill": {
     "duration": 0.043745,
     "end_time": "2020-11-20T20:33:23.344296",
     "exception": false,
     "start_time": "2020-11-20T20:33:23.300551",
     "status": "completed"
    },
    "tags": []
   },
   "outputs": [
    {
     "data": {
      "text/plain": [
       "True"
      ]
     },
     "execution_count": 30,
     "metadata": {},
     "output_type": "execute_result"
    }
   ],
   "source": [
    "#sanity check: you are predictiing 9289 targets\n",
    "#this statement should return true\n",
    "pred.shape[0] == 9289"
   ]
  },
  {
   "cell_type": "markdown",
   "metadata": {
    "papermill": {
     "duration": 0.033147,
     "end_time": "2020-11-20T20:33:23.411120",
     "exception": false,
     "start_time": "2020-11-20T20:33:23.377973",
     "status": "completed"
    },
    "tags": []
   },
   "source": [
    "## Submission"
   ]
  },
  {
   "cell_type": "code",
   "execution_count": 31,
   "metadata": {
    "execution": {
     "iopub.execute_input": "2020-11-20T20:33:23.483816Z",
     "iopub.status.busy": "2020-11-20T20:33:23.482894Z",
     "iopub.status.idle": "2020-11-20T20:33:23.486186Z",
     "shell.execute_reply": "2020-11-20T20:33:23.486634Z"
    },
    "papermill": {
     "duration": 0.042321,
     "end_time": "2020-11-20T20:33:23.486790",
     "exception": false,
     "start_time": "2020-11-20T20:33:23.444469",
     "status": "completed"
    },
    "tags": []
   },
   "outputs": [],
   "source": [
    "sample_submission['SALE PRICE'] = pred"
   ]
  },
  {
   "cell_type": "code",
   "execution_count": 32,
   "metadata": {
    "execution": {
     "iopub.execute_input": "2020-11-20T20:33:23.559353Z",
     "iopub.status.busy": "2020-11-20T20:33:23.558335Z",
     "iopub.status.idle": "2020-11-20T20:33:23.799083Z",
     "shell.execute_reply": "2020-11-20T20:33:23.798306Z"
    },
    "papermill": {
     "duration": 0.278932,
     "end_time": "2020-11-20T20:33:23.799207",
     "exception": false,
     "start_time": "2020-11-20T20:33:23.520275",
     "status": "completed"
    },
    "tags": []
   },
   "outputs": [],
   "source": [
    "sample_submission.to_csv(\"submission.csv\", index=False)"
   ]
  }
 ],
 "metadata": {
  "kernelspec": {
   "display_name": "Python 3",
   "language": "python",
   "name": "python3"
  },
  "language_info": {
   "codemirror_mode": {
    "name": "ipython",
    "version": 3
   },
   "file_extension": ".py",
   "mimetype": "text/x-python",
   "name": "python",
   "nbconvert_exporter": "python",
   "pygments_lexer": "ipython3",
   "version": "3.7.6-final"
  },
  "papermill": {
   "duration": 10.478629,
   "end_time": "2020-11-20T20:33:23.939710",
   "environment_variables": {},
   "exception": null,
   "input_path": "__notebook__.ipynb",
   "output_path": "__notebook__.ipynb",
   "parameters": {},
   "start_time": "2020-11-20T20:33:13.461081",
   "version": "2.1.0"
  }
 },
 "nbformat": 4,
 "nbformat_minor": 4
}