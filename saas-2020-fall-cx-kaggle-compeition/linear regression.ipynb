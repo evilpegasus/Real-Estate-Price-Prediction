{
 "metadata": {
  "language_info": {
   "codemirror_mode": {
    "name": "ipython",
    "version": 3
   },
   "file_extension": ".py",
   "mimetype": "text/x-python",
   "name": "python",
   "nbconvert_exporter": "python",
   "pygments_lexer": "ipython3",
   "version": "3.7.6-final"
  },
  "orig_nbformat": 2,
  "kernelspec": {
   "name": "python3",
   "display_name": "Python 3"
  }
 },
 "nbformat": 4,
 "nbformat_minor": 2,
 "cells": [
  {
   "cell_type": "code",
   "execution_count": 1,
   "metadata": {},
   "outputs": [],
   "source": [
    "import numpy as np # linear algebra\n",
    "import pandas as pd # data processing, CSV file I/O (e.g. pd.read_csv)\n",
    "from sklearn import linear_model\n",
    "import statsmodels.api as sm"
   ]
  },
  {
   "cell_type": "code",
   "execution_count": 2,
   "metadata": {},
   "outputs": [],
   "source": [
    "X_train = pd.read_csv(\"train_features.csv\")\n",
    "y_train = pd.read_csv(\"train_targets.csv\")\n",
    "X_test = pd.read_csv(\"test_features.csv\")\n",
    "sample_submission = pd.read_csv(\"sample_submission.csv\")"
   ]
  },
  {
   "cell_type": "code",
   "execution_count": 3,
   "metadata": {},
   "outputs": [
    {
     "output_type": "execute_result",
     "data": {
      "text/plain": [
       "          BOROUGH               NEIGHBORHOOD  \\\n",
       "id                                             \n",
       "test0           1                    CHELSEA   \n",
       "test1           3         BEDFORD STUYVESANT   \n",
       "test2           5                   ROSEBANK   \n",
       "test3           3                 PARK SLOPE   \n",
       "test4           3       DOWNTOWN-FULTON MALL   \n",
       "...           ...                        ...   \n",
       "test9284        1   WASHINGTON HEIGHTS LOWER   \n",
       "test9285        5  RICHMONDTOWN-LIGHTHS HILL   \n",
       "test9286        4                     CORONA   \n",
       "test9287        3                 GREENPOINT   \n",
       "test9288        2       MORRIS PARK/VAN NEST   \n",
       "\n",
       "                              BUILDING CLASS CATEGORY TAX CLASS AT PRESENT  \\\n",
       "id                                                                           \n",
       "test0     22 STORE BUILDINGS                                             4   \n",
       "test1     13 CONDOS - ELEVATOR APARTMENTS                                2   \n",
       "test2     02 TWO FAMILY DWELLINGS                                        1   \n",
       "test3     15 CONDOS - 2-10 UNIT RESIDENTIAL                             2C   \n",
       "test4     13 CONDOS - ELEVATOR APARTMENTS                                2   \n",
       "...                                               ...                  ...   \n",
       "test9284  07 RENTALS - WALKUP APARTMENTS                                 2   \n",
       "test9285  01 ONE FAMILY DWELLINGS                                        1   \n",
       "test9286  03 THREE FAMILY DWELLINGS                                      1   \n",
       "test9287  13 CONDOS - ELEVATOR APARTMENTS                                    \n",
       "test9288  01 ONE FAMILY DWELLINGS                                        1   \n",
       "\n",
       "          BLOCK   LOT EASE-MENT BUILDING CLASS AT PRESENT  \\\n",
       "id                                                          \n",
       "test0       717     5                                  K1   \n",
       "test1      1886  1550                                  R4   \n",
       "test2      2977    40                                  B9   \n",
       "test3       934  1405                                  R1   \n",
       "test4       269  1180                                  R4   \n",
       "...         ...   ...       ...                       ...   \n",
       "test9284   2117    20                                  C4   \n",
       "test9285   2287    85                                  A3   \n",
       "test9286   1940   134                                  C0   \n",
       "test9287   2562  1024                                       \n",
       "test9288   4131   142                                  A5   \n",
       "\n",
       "                         ADDRESS APARTMENT NUMBER  ...  TOTAL UNITS  \\\n",
       "id                                                 ...                \n",
       "test0     459 WEST 19TH   STREET                   ...            1   \n",
       "test1         49 SKILLMAN STREET               1B  ...            1   \n",
       "test2        47 FOX HILL TERRACE                   ...            2   \n",
       "test3        134 ST. MARKS PLACE               3A  ...            1   \n",
       "test4      110 LIVINGSTON STREET              10O  ...            1   \n",
       "...                          ...              ...  ...          ...   \n",
       "test9284     532 WEST 159 STREET                   ...           20   \n",
       "test9285   329 LIGHTHOUSE AVENUE                   ...            1   \n",
       "test9286        102-17 LEWIS AVE                   ...            3   \n",
       "test9287    50 GREENPOINT AVENUE                   ...            0   \n",
       "test9288      1812 HAIGHT AVENUE                   ...            1   \n",
       "\n",
       "          LAND SQUARE FEET  GROSS SQUARE FEET  YEAR BUILT  \\\n",
       "id                                                          \n",
       "test0               3800.0             3800.0        1910   \n",
       "test1                  0.0                0.0        2012   \n",
       "test2               3125.0             1584.0        2002   \n",
       "test3                  0.0                0.0           0   \n",
       "test4                  0.0                0.0        1926   \n",
       "...                    ...                ...         ...   \n",
       "test9284            2498.0             9685.0        1913   \n",
       "test9285           10600.0             2688.0        1970   \n",
       "test9286            2000.0             3162.0        1969   \n",
       "test9287               0.0                0.0           0   \n",
       "test9288            1800.0             1782.0        1940   \n",
       "\n",
       "          TAX CLASS AT TIME OF SALE  BUILDING CLASS AT TIME OF SALE  \\\n",
       "id                                                                    \n",
       "test0                             4                              K1   \n",
       "test1                             2                              R4   \n",
       "test2                             1                              B9   \n",
       "test3                             2                              R1   \n",
       "test4                             2                              R4   \n",
       "...                             ...                             ...   \n",
       "test9284                          2                              C4   \n",
       "test9285                          1                              A3   \n",
       "test9286                          1                              C0   \n",
       "test9287                          2                              R4   \n",
       "test9288                          1                              A5   \n",
       "\n",
       "                    SALE DATE  MEDIAN INCOME  MEAN INCOME POPULATION  \n",
       "id                                                                    \n",
       "test0     2017-06-27 00:00:00     92359.4888  160936.5432      45899  \n",
       "test1     2016-09-06 00:00:00     42903.7942   57436.7240      35648  \n",
       "test2     2017-07-27 00:00:00     58937.6580   75468.7376      37014  \n",
       "test3     2017-07-12 00:00:00     72610.5963  102949.5131      35641  \n",
       "test4     2016-11-29 00:00:00     92174.8101  140857.9804      48101  \n",
       "...                       ...            ...          ...        ...  \n",
       "test9284  2016-12-21 00:00:00     29535.9721   40902.4289      54744  \n",
       "test9285  2017-03-10 00:00:00     75212.0632   91445.7035      54812  \n",
       "test9286  2017-06-28 00:00:00     43962.6552   54259.4037      95662  \n",
       "test9287  2017-07-31 00:00:00     54366.9033   69808.6353      40003  \n",
       "test9288  2017-08-11 00:00:00     47715.8304   58036.9104      48081  \n",
       "\n",
       "[9289 rows x 23 columns]"
      ],
      "text/html": "<div>\n<style scoped>\n    .dataframe tbody tr th:only-of-type {\n        vertical-align: middle;\n    }\n\n    .dataframe tbody tr th {\n        vertical-align: top;\n    }\n\n    .dataframe thead th {\n        text-align: right;\n    }\n</style>\n<table border=\"1\" class=\"dataframe\">\n  <thead>\n    <tr style=\"text-align: right;\">\n      <th></th>\n      <th>BOROUGH</th>\n      <th>NEIGHBORHOOD</th>\n      <th>BUILDING CLASS CATEGORY</th>\n      <th>TAX CLASS AT PRESENT</th>\n      <th>BLOCK</th>\n      <th>LOT</th>\n      <th>EASE-MENT</th>\n      <th>BUILDING CLASS AT PRESENT</th>\n      <th>ADDRESS</th>\n      <th>APARTMENT NUMBER</th>\n      <th>...</th>\n      <th>TOTAL UNITS</th>\n      <th>LAND SQUARE FEET</th>\n      <th>GROSS SQUARE FEET</th>\n      <th>YEAR BUILT</th>\n      <th>TAX CLASS AT TIME OF SALE</th>\n      <th>BUILDING CLASS AT TIME OF SALE</th>\n      <th>SALE DATE</th>\n      <th>MEDIAN INCOME</th>\n      <th>MEAN INCOME</th>\n      <th>POPULATION</th>\n    </tr>\n    <tr>\n      <th>id</th>\n      <th></th>\n      <th></th>\n      <th></th>\n      <th></th>\n      <th></th>\n      <th></th>\n      <th></th>\n      <th></th>\n      <th></th>\n      <th></th>\n      <th></th>\n      <th></th>\n      <th></th>\n      <th></th>\n      <th></th>\n      <th></th>\n      <th></th>\n      <th></th>\n      <th></th>\n      <th></th>\n      <th></th>\n    </tr>\n  </thead>\n  <tbody>\n    <tr>\n      <th>test0</th>\n      <td>1</td>\n      <td>CHELSEA</td>\n      <td>22 STORE BUILDINGS</td>\n      <td>4</td>\n      <td>717</td>\n      <td>5</td>\n      <td></td>\n      <td>K1</td>\n      <td>459 WEST 19TH   STREET</td>\n      <td></td>\n      <td>...</td>\n      <td>1</td>\n      <td>3800.0</td>\n      <td>3800.0</td>\n      <td>1910</td>\n      <td>4</td>\n      <td>K1</td>\n      <td>2017-06-27 00:00:00</td>\n      <td>92359.4888</td>\n      <td>160936.5432</td>\n      <td>45899</td>\n    </tr>\n    <tr>\n      <th>test1</th>\n      <td>3</td>\n      <td>BEDFORD STUYVESANT</td>\n      <td>13 CONDOS - ELEVATOR APARTMENTS</td>\n      <td>2</td>\n      <td>1886</td>\n      <td>1550</td>\n      <td></td>\n      <td>R4</td>\n      <td>49 SKILLMAN STREET</td>\n      <td>1B</td>\n      <td>...</td>\n      <td>1</td>\n      <td>0.0</td>\n      <td>0.0</td>\n      <td>2012</td>\n      <td>2</td>\n      <td>R4</td>\n      <td>2016-09-06 00:00:00</td>\n      <td>42903.7942</td>\n      <td>57436.7240</td>\n      <td>35648</td>\n    </tr>\n    <tr>\n      <th>test2</th>\n      <td>5</td>\n      <td>ROSEBANK</td>\n      <td>02 TWO FAMILY DWELLINGS</td>\n      <td>1</td>\n      <td>2977</td>\n      <td>40</td>\n      <td></td>\n      <td>B9</td>\n      <td>47 FOX HILL TERRACE</td>\n      <td></td>\n      <td>...</td>\n      <td>2</td>\n      <td>3125.0</td>\n      <td>1584.0</td>\n      <td>2002</td>\n      <td>1</td>\n      <td>B9</td>\n      <td>2017-07-27 00:00:00</td>\n      <td>58937.6580</td>\n      <td>75468.7376</td>\n      <td>37014</td>\n    </tr>\n    <tr>\n      <th>test3</th>\n      <td>3</td>\n      <td>PARK SLOPE</td>\n      <td>15 CONDOS - 2-10 UNIT RESIDENTIAL</td>\n      <td>2C</td>\n      <td>934</td>\n      <td>1405</td>\n      <td></td>\n      <td>R1</td>\n      <td>134 ST. MARKS PLACE</td>\n      <td>3A</td>\n      <td>...</td>\n      <td>1</td>\n      <td>0.0</td>\n      <td>0.0</td>\n      <td>0</td>\n      <td>2</td>\n      <td>R1</td>\n      <td>2017-07-12 00:00:00</td>\n      <td>72610.5963</td>\n      <td>102949.5131</td>\n      <td>35641</td>\n    </tr>\n    <tr>\n      <th>test4</th>\n      <td>3</td>\n      <td>DOWNTOWN-FULTON MALL</td>\n      <td>13 CONDOS - ELEVATOR APARTMENTS</td>\n      <td>2</td>\n      <td>269</td>\n      <td>1180</td>\n      <td></td>\n      <td>R4</td>\n      <td>110 LIVINGSTON STREET</td>\n      <td>10O</td>\n      <td>...</td>\n      <td>1</td>\n      <td>0.0</td>\n      <td>0.0</td>\n      <td>1926</td>\n      <td>2</td>\n      <td>R4</td>\n      <td>2016-11-29 00:00:00</td>\n      <td>92174.8101</td>\n      <td>140857.9804</td>\n      <td>48101</td>\n    </tr>\n    <tr>\n      <th>...</th>\n      <td>...</td>\n      <td>...</td>\n      <td>...</td>\n      <td>...</td>\n      <td>...</td>\n      <td>...</td>\n      <td>...</td>\n      <td>...</td>\n      <td>...</td>\n      <td>...</td>\n      <td>...</td>\n      <td>...</td>\n      <td>...</td>\n      <td>...</td>\n      <td>...</td>\n      <td>...</td>\n      <td>...</td>\n      <td>...</td>\n      <td>...</td>\n      <td>...</td>\n      <td>...</td>\n    </tr>\n    <tr>\n      <th>test9284</th>\n      <td>1</td>\n      <td>WASHINGTON HEIGHTS LOWER</td>\n      <td>07 RENTALS - WALKUP APARTMENTS</td>\n      <td>2</td>\n      <td>2117</td>\n      <td>20</td>\n      <td></td>\n      <td>C4</td>\n      <td>532 WEST 159 STREET</td>\n      <td></td>\n      <td>...</td>\n      <td>20</td>\n      <td>2498.0</td>\n      <td>9685.0</td>\n      <td>1913</td>\n      <td>2</td>\n      <td>C4</td>\n      <td>2016-12-21 00:00:00</td>\n      <td>29535.9721</td>\n      <td>40902.4289</td>\n      <td>54744</td>\n    </tr>\n    <tr>\n      <th>test9285</th>\n      <td>5</td>\n      <td>RICHMONDTOWN-LIGHTHS HILL</td>\n      <td>01 ONE FAMILY DWELLINGS</td>\n      <td>1</td>\n      <td>2287</td>\n      <td>85</td>\n      <td></td>\n      <td>A3</td>\n      <td>329 LIGHTHOUSE AVENUE</td>\n      <td></td>\n      <td>...</td>\n      <td>1</td>\n      <td>10600.0</td>\n      <td>2688.0</td>\n      <td>1970</td>\n      <td>1</td>\n      <td>A3</td>\n      <td>2017-03-10 00:00:00</td>\n      <td>75212.0632</td>\n      <td>91445.7035</td>\n      <td>54812</td>\n    </tr>\n    <tr>\n      <th>test9286</th>\n      <td>4</td>\n      <td>CORONA</td>\n      <td>03 THREE FAMILY DWELLINGS</td>\n      <td>1</td>\n      <td>1940</td>\n      <td>134</td>\n      <td></td>\n      <td>C0</td>\n      <td>102-17 LEWIS AVE</td>\n      <td></td>\n      <td>...</td>\n      <td>3</td>\n      <td>2000.0</td>\n      <td>3162.0</td>\n      <td>1969</td>\n      <td>1</td>\n      <td>C0</td>\n      <td>2017-06-28 00:00:00</td>\n      <td>43962.6552</td>\n      <td>54259.4037</td>\n      <td>95662</td>\n    </tr>\n    <tr>\n      <th>test9287</th>\n      <td>3</td>\n      <td>GREENPOINT</td>\n      <td>13 CONDOS - ELEVATOR APARTMENTS</td>\n      <td></td>\n      <td>2562</td>\n      <td>1024</td>\n      <td></td>\n      <td></td>\n      <td>50 GREENPOINT AVENUE</td>\n      <td></td>\n      <td>...</td>\n      <td>0</td>\n      <td>0.0</td>\n      <td>0.0</td>\n      <td>0</td>\n      <td>2</td>\n      <td>R4</td>\n      <td>2017-07-31 00:00:00</td>\n      <td>54366.9033</td>\n      <td>69808.6353</td>\n      <td>40003</td>\n    </tr>\n    <tr>\n      <th>test9288</th>\n      <td>2</td>\n      <td>MORRIS PARK/VAN NEST</td>\n      <td>01 ONE FAMILY DWELLINGS</td>\n      <td>1</td>\n      <td>4131</td>\n      <td>142</td>\n      <td></td>\n      <td>A5</td>\n      <td>1812 HAIGHT AVENUE</td>\n      <td></td>\n      <td>...</td>\n      <td>1</td>\n      <td>1800.0</td>\n      <td>1782.0</td>\n      <td>1940</td>\n      <td>1</td>\n      <td>A5</td>\n      <td>2017-08-11 00:00:00</td>\n      <td>47715.8304</td>\n      <td>58036.9104</td>\n      <td>48081</td>\n    </tr>\n  </tbody>\n</table>\n<p>9289 rows × 23 columns</p>\n</div>"
     },
     "metadata": {},
     "execution_count": 3
    }
   ],
   "source": [
    "X_train.set_index(\"id\")\n",
    "y_train.set_index(\"id\")\n",
    "X_test.set_index(\"id\")"
   ]
  },
  {
   "cell_type": "code",
   "execution_count": 4,
   "metadata": {},
   "outputs": [],
   "source": [
    "X = X_train[[\"LAND SQUARE FEET\", \"GROSS SQUARE FEET\", \"MEDIAN INCOME\", \"MEAN INCOME\"]]\n",
    "Y = y_train[\"SALE PRICE\"]"
   ]
  },
  {
   "cell_type": "code",
   "execution_count": 5,
   "metadata": {},
   "outputs": [
    {
     "output_type": "stream",
     "name": "stdout",
     "text": [
      "Intercept: \n -839621.1447765732\nCoefficients: \n [-103.74858556  219.45065715 -134.32839719  131.63102758]\n"
     ]
    }
   ],
   "source": [
    "model = linear_model.LinearRegression()\n",
    "model.fit(X,Y)\n",
    "print('Intercept: \\n', model.intercept_)\n",
    "print('Coefficients: \\n', model.coef_)"
   ]
  },
  {
   "cell_type": "code",
   "execution_count": 6,
   "metadata": {},
   "outputs": [
    {
     "output_type": "execute_result",
     "data": {
      "text/plain": [
       "         SALE PRICE\n",
       "id                 \n",
       "test0  8.377787e+06\n",
       "test1  9.576359e+05\n",
       "test2  1.200801e+06\n",
       "test3  2.958064e+06\n",
       "test4  5.319965e+06"
      ],
      "text/html": "<div>\n<style scoped>\n    .dataframe tbody tr th:only-of-type {\n        vertical-align: middle;\n    }\n\n    .dataframe tbody tr th {\n        vertical-align: top;\n    }\n\n    .dataframe thead th {\n        text-align: right;\n    }\n</style>\n<table border=\"1\" class=\"dataframe\">\n  <thead>\n    <tr style=\"text-align: right;\">\n      <th></th>\n      <th>SALE PRICE</th>\n    </tr>\n    <tr>\n      <th>id</th>\n      <th></th>\n    </tr>\n  </thead>\n  <tbody>\n    <tr>\n      <th>test0</th>\n      <td>8.377787e+06</td>\n    </tr>\n    <tr>\n      <th>test1</th>\n      <td>9.576359e+05</td>\n    </tr>\n    <tr>\n      <th>test2</th>\n      <td>1.200801e+06</td>\n    </tr>\n    <tr>\n      <th>test3</th>\n      <td>2.958064e+06</td>\n    </tr>\n    <tr>\n      <th>test4</th>\n      <td>5.319965e+06</td>\n    </tr>\n  </tbody>\n</table>\n</div>"
     },
     "metadata": {},
     "execution_count": 6
    }
   ],
   "source": [
    "x_test_predictions = pd.DataFrame(model.predict(X_test[[\"LAND SQUARE FEET\", \"GROSS SQUARE FEET\", \"MEDIAN INCOME\", \"MEAN INCOME\"]]))\n",
    "x_test_predictions.index = X_test[\"id\"]\n",
    "x_test_predictions.columns = [\"SALE PRICE\"]\n",
    "x_test_predictions.to_csv(\"submission.csv\")\n",
    "x_test_predictions.head()"
   ]
  },
  {
   "cell_type": "code",
   "execution_count": 7,
   "metadata": {},
   "outputs": [],
   "source": [
    "# !kaggle competitions submit -c saas-2020-fall-cx-kaggle-compeition -f submission.csv -m \"Multiple Linear Regression test 1\""
   ]
  }
 ]
}