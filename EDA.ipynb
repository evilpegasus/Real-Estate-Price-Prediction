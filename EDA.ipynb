{
 "metadata": {
  "language_info": {
   "codemirror_mode": {
    "name": "ipython",
    "version": 3
   },
   "file_extension": ".py",
   "mimetype": "text/x-python",
   "name": "python",
   "nbconvert_exporter": "python",
   "pygments_lexer": "ipython3",
   "version": 3
  },
  "orig_nbformat": 2
 },
 "nbformat": 4,
 "nbformat_minor": 2,
 "cells": [
  {
   "source": [
    "# EDA"
   ],
   "cell_type": "markdown",
   "metadata": {}
  },
  {
   "cell_type": "code",
   "execution_count": null,
   "metadata": {},
   "outputs": [],
   "source": [
    "import numpy as np # linear algebra\n",
    "import pandas as pd # data processing, CSV file I/O (e.g. pd.read_csv)\n",
    "from sklearn import linear_model\n",
    "import statsmodels.api as sm\n",
    "import matplotlib.pyplot as plt\n",
    "import seaborn as sns\n",
    "from scipy import stats\n",
    "\n",
    "from sklearn.model_selection import KFold\n",
    "from IPython.display import HTML, display\n",
    "from sklearn.manifold import TSNE\n",
    "from sklearn.cluster import KMeans\n",
    "from sklearn.decomposition import PCA\n",
    "from sklearn.preprocessing import StandardScaler\n",
    "\n",
    "# EDA guide from past years: https://www.kaggle.com/dgawlik/house-prices-eda"
   ]
  },
  {
   "cell_type": "code",
   "execution_count": null,
   "metadata": {},
   "outputs": [],
   "source": [
    "X_train = pd.read_csv(\"data/train_features.csv\")\n",
    "y_train = pd.read_csv(\"data/train_targets.csv\")\n",
    "X_test = pd.read_csv(\"data/test_features.csv\")\n",
    "\n",
    "#To remove categories that don't really relate that much to the sale price\n",
    "X_train = X_train.drop('ADDRESS', axis=1)\n",
    "X_price = X_train['SALE PRICE']\n",
    "\n",
    "# To check the general distribution of sale prices\n",
    "import scipy.stats as st\n",
    "\n",
    "plt.figure(1); plt.title('DistributionTest')\n",
    "sns.distplot(X_price, kde=False, fit=st.distributiontest)\n",
    "plt.figure(2); plt.title('Normal')\n",
    "sns.distplot(X_price, kde=False, fit=st.norm)\n",
    "plt.figure(3); plt.title('Log Normal')\n",
    "sns.distplot(X_price, kde=False, fit=st.lognorm)"
   ]
  },
  {
   "cell_type": "code",
   "execution_count": null,
   "metadata": {},
   "outputs": [],
   "source": [
    "# X_zipcode = X_train['ZIP CODE']\n",
    "\n",
    "X_train['ZIP CODE'].unique()\n",
    "X_train['ZIP CODE'].value_counts()\n",
    "\n",
    "sns.countplot(x=X_train['SALE PRICE'], hue=X_train['ZIP CODE']);\n",
    "\n",
    "\n"
   ]
  }
 ]
}