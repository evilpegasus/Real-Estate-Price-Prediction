{
 "metadata": {
  "language_info": {
   "codemirror_mode": {
    "name": "ipython",
    "version": 3
   },
   "file_extension": ".py",
   "mimetype": "text/x-python",
   "name": "python",
   "nbconvert_exporter": "python",
   "pygments_lexer": "ipython3",
   "version": "3.7.6-final"
  },
  "orig_nbformat": 2,
  "kernelspec": {
   "name": "python3",
   "display_name": "Python 3"
  }
 },
 "nbformat": 4,
 "nbformat_minor": 2,
 "cells": [
  {
   "source": [
    "# Predicting Sale Price from NYC Property Sale Data\n",
    "## Berkeley SAAS CX Fall 2020 Kaggle Competition\n",
    "## Ming Fong and Yifan Zhang\n"
   ],
   "cell_type": "markdown",
   "metadata": {}
  },
  {
   "source": [
    "Helpful:\n",
    "\n",
    "https://www.kaggle.com/sahilrider/learn-regression-nyc#4.-Modelling"
   ],
   "cell_type": "markdown",
   "metadata": {}
  },
  {
   "cell_type": "code",
   "execution_count": 1,
   "metadata": {},
   "outputs": [],
   "source": [
    "import numpy as np # linear algebra\n",
    "import pandas as pd # data processing, CSV file I/O (e.g. pd.read_csv)\n",
    "from sklearn import linear_model\n",
    "import statsmodels.api as sm\n",
    "import matplotlib.pyplot as plt\n",
    "import seaborn as sns\n",
    "from scipy import stats"
   ]
  },
  {
   "cell_type": "code",
   "execution_count": 2,
   "metadata": {},
   "outputs": [],
   "source": [
    "# Display all columns of Dataframes\n",
    "pd.set_option('display.max_columns', None)"
   ]
  },
  {
   "cell_type": "code",
   "execution_count": 3,
   "metadata": {},
   "outputs": [],
   "source": [
    "X_train = pd.read_csv(\"data/train_features.csv\")\n",
    "y_train = pd.read_csv(\"data/train_targets.csv\")\n",
    "X_test = pd.read_csv(\"data/test_features.csv\")\n",
    "# sample_submission = pd.read_csv(\"output/sample_submission.csv\")"
   ]
  },
  {
   "cell_type": "code",
   "execution_count": 4,
   "metadata": {},
   "outputs": [],
   "source": [
    "# X_train.set_index(\"id\")\n",
    "# y_train.set_index(\"id\")\n",
    "# X_test.set_index(\"id\")\n",
    "# X_train.head()"
   ]
  },
  {
   "cell_type": "code",
   "execution_count": 5,
   "metadata": {},
   "outputs": [],
   "source": [
    "# merge sale price onto feature data\n",
    "df = X_train.merge(right = y_train, on = \"id\", how = \"outer\")\n",
    "\n",
    "# train_merged = X_train.merge(right = y_train, on = \"id\")"
   ]
  },
  {
   "cell_type": "code",
   "execution_count": 6,
   "metadata": {},
   "outputs": [],
   "source": [
    "# drop training rows with 0 gross or land sqft\n",
    "# makes score worse\n",
    "\n",
    "# df = df.drop(df[df[\"GROSS SQUARE FEET\"] == 0].index)\n",
    "# df = df.drop(df[df[\"LAND SQUARE FEET\"] == 0].index)"
   ]
  },
  {
   "cell_type": "code",
   "execution_count": 7,
   "metadata": {},
   "outputs": [],
   "source": [
    "df = pd.concat([df, X_test], axis=0, ignore_index = True)"
   ]
  },
  {
   "cell_type": "code",
   "execution_count": 8,
   "metadata": {},
   "outputs": [],
   "source": [
    "df = df.set_index(\"id\")"
   ]
  },
  {
   "cell_type": "code",
   "execution_count": 9,
   "metadata": {},
   "outputs": [],
   "source": [
    "# \"EASE-MENT\" is an empty column, delete it\n",
    "del df[\"EASE-MENT\"]\n",
    "\n",
    "# Delete date column\n",
    "del df[\"SALE DATE\"]\n",
    "\n",
    "del df[\"LOT\"]\n",
    "del df[\"ADDRESS\"]\n",
    "del df[\"APARTMENT NUMBER\"]"
   ]
  },
  {
   "cell_type": "code",
   "execution_count": 10,
   "metadata": {},
   "outputs": [],
   "source": [
    "# Correlation between features\n",
    "\n",
    "# corr = train_merged.corr()\n",
    "# print(corr['SALE PRICE'].sort_values(ascending=False))\n",
    "# sns.heatmap(corr)"
   ]
  },
  {
   "cell_type": "code",
   "execution_count": 11,
   "metadata": {},
   "outputs": [
    {
     "output_type": "stream",
     "name": "stdout",
     "text": [
      "<class 'pandas.core.frame.DataFrame'>\nIndex: 37153 entries, train0 to test9288\nData columns (total 19 columns):\n #   Column                          Non-Null Count  Dtype  \n---  ------                          --------------  -----  \n 0   BOROUGH                         37153 non-null  int64  \n 1   NEIGHBORHOOD                    37153 non-null  object \n 2   BUILDING CLASS CATEGORY         37153 non-null  object \n 3   TAX CLASS AT PRESENT            37153 non-null  object \n 4   BLOCK                           37153 non-null  int64  \n 5   BUILDING CLASS AT PRESENT       37153 non-null  object \n 6   ZIP CODE                        37153 non-null  int64  \n 7   RESIDENTIAL UNITS               37153 non-null  int64  \n 8   COMMERCIAL UNITS                37153 non-null  int64  \n 9   TOTAL UNITS                     37153 non-null  int64  \n 10  LAND SQUARE FEET                37153 non-null  float64\n 11  GROSS SQUARE FEET               37153 non-null  float64\n 12  YEAR BUILT                      37153 non-null  int64  \n 13  TAX CLASS AT TIME OF SALE       37153 non-null  int64  \n 14  BUILDING CLASS AT TIME OF SALE  37153 non-null  object \n 15  MEDIAN INCOME                   37153 non-null  float64\n 16  MEAN INCOME                     37153 non-null  float64\n 17  POPULATION                      37153 non-null  int64  \n 18  SALE PRICE                      27864 non-null  float64\ndtypes: float64(5), int64(9), object(5)\nmemory usage: 5.7+ MB\n"
     ]
    }
   ],
   "source": [
    "df.info()"
   ]
  },
  {
   "cell_type": "code",
   "execution_count": 12,
   "metadata": {},
   "outputs": [],
   "source": [
    "categorical_features = [\"BOROUGH\", \"BUILDING CLASS CATEGORY\", \"TAX CLASS AT TIME OF SALE\", \"ZIP CODE\"]\n",
    "\n",
    "del df[\"BUILDING CLASS AT PRESENT\"]\n",
    "del df[\"TAX CLASS AT PRESENT\"]\n",
    "del df[\"BUILDING CLASS AT TIME OF SALE\"]\n",
    "\n",
    "# Too many features for location\n",
    "del df[\"BLOCK\"]\n",
    "del df[\"NEIGHBORHOOD\"]\n",
    "# del df[\"ZIP CODE\"]"
   ]
  },
  {
   "cell_type": "code",
   "execution_count": 13,
   "metadata": {
    "tags": [
     "outputPrepend"
    ]
   },
   "outputs": [
    {
     "output_type": "stream",
     "name": "stdout",
     "text": [
      "             37153 non-null  uint8  \n 37  BUILDING CLASS CATEGORY_26 OTHER HOTELS                               37153 non-null  uint8  \n 38  BUILDING CLASS CATEGORY_27 FACTORIES                                  37153 non-null  uint8  \n 39  BUILDING CLASS CATEGORY_28 COMMERCIAL CONDOS                          37153 non-null  uint8  \n 40  BUILDING CLASS CATEGORY_29 COMMERCIAL GARAGES                         37153 non-null  uint8  \n 41  BUILDING CLASS CATEGORY_30 WAREHOUSES                                 37153 non-null  uint8  \n 42  BUILDING CLASS CATEGORY_31 COMMERCIAL VACANT LAND                     37153 non-null  uint8  \n 43  BUILDING CLASS CATEGORY_32 HOSPITAL AND HEALTH FACILITIES             37153 non-null  uint8  \n 44  BUILDING CLASS CATEGORY_33 EDUCATIONAL FACILITIES                     37153 non-null  uint8  \n 45  BUILDING CLASS CATEGORY_34 THEATRES                                   37153 non-null  uint8  \n 46  BUILDING CLASS CATEGORY_35 INDOOR PUBLIC AND CULTURAL FACILITIES      37153 non-null  uint8  \n 47  BUILDING CLASS CATEGORY_36 OUTDOOR RECREATIONAL FACILITIES            37153 non-null  uint8  \n 48  BUILDING CLASS CATEGORY_37 RELIGIOUS FACILITIES                       37153 non-null  uint8  \n 49  BUILDING CLASS CATEGORY_38 ASYLUMS AND HOMES                          37153 non-null  uint8  \n 50  BUILDING CLASS CATEGORY_40 SELECTED GOVERNMENTAL FACILITIES           37153 non-null  uint8  \n 51  BUILDING CLASS CATEGORY_41 TAX CLASS 4 - OTHER                        37153 non-null  uint8  \n 52  BUILDING CLASS CATEGORY_42 CONDO CULTURAL/MEDICAL/EDUCATIONAL/ETC     37153 non-null  uint8  \n 53  BUILDING CLASS CATEGORY_43 CONDO OFFICE BUILDINGS                     37153 non-null  uint8  \n 54  BUILDING CLASS CATEGORY_44 CONDO PARKING                              37153 non-null  uint8  \n 55  BUILDING CLASS CATEGORY_45 CONDO HOTELS                               37153 non-null  uint8  \n 56  BUILDING CLASS CATEGORY_46 CONDO STORE BUILDINGS                      37153 non-null  uint8  \n 57  BUILDING CLASS CATEGORY_47 CONDO NON-BUSINESS STORAGE                 37153 non-null  uint8  \n 58  BUILDING CLASS CATEGORY_48 CONDO TERRACES/GARDENS/CABANAS             37153 non-null  uint8  \n 59  TAX CLASS AT TIME OF SALE_1                                           37153 non-null  uint8  \n 60  TAX CLASS AT TIME OF SALE_2                                           37153 non-null  uint8  \n 61  TAX CLASS AT TIME OF SALE_4                                           37153 non-null  uint8  \n 62  ZIP CODE_10001                                                        37153 non-null  uint8  \n 63  ZIP CODE_10002                                                        37153 non-null  uint8  \n 64  ZIP CODE_10003                                                        37153 non-null  uint8  \n 65  ZIP CODE_10004                                                        37153 non-null  uint8  \n 66  ZIP CODE_10005                                                        37153 non-null  uint8  \n 67  ZIP CODE_10006                                                        37153 non-null  uint8  \n 68  ZIP CODE_10007                                                        37153 non-null  uint8  \n 69  ZIP CODE_10009                                                        37153 non-null  uint8  \n 70  ZIP CODE_10010                                                        37153 non-null  uint8  \n 71  ZIP CODE_10011                                                        37153 non-null  uint8  \n 72  ZIP CODE_10012                                                        37153 non-null  uint8  \n 73  ZIP CODE_10013                                                        37153 non-null  uint8  \n 74  ZIP CODE_10014                                                        37153 non-null  uint8  \n 75  ZIP CODE_10016                                                        37153 non-null  uint8  \n 76  ZIP CODE_10017                                                        37153 non-null  uint8  \n 77  ZIP CODE_10018                                                        37153 non-null  uint8  \n 78  ZIP CODE_10019                                                        37153 non-null  uint8  \n 79  ZIP CODE_10021                                                        37153 non-null  uint8  \n 80  ZIP CODE_10022                                                        37153 non-null  uint8  \n 81  ZIP CODE_10023                                                        37153 non-null  uint8  \n 82  ZIP CODE_10024                                                        37153 non-null  uint8  \n 83  ZIP CODE_10025                                                        37153 non-null  uint8  \n 84  ZIP CODE_10026                                                        37153 non-null  uint8  \n 85  ZIP CODE_10027                                                        37153 non-null  uint8  \n 86  ZIP CODE_10028                                                        37153 non-null  uint8  \n 87  ZIP CODE_10029                                                        37153 non-null  uint8  \n 88  ZIP CODE_10030                                                        37153 non-null  uint8  \n 89  ZIP CODE_10031                                                        37153 non-null  uint8  \n 90  ZIP CODE_10032                                                        37153 non-null  uint8  \n 91  ZIP CODE_10033                                                        37153 non-null  uint8  \n 92  ZIP CODE_10034                                                        37153 non-null  uint8  \n 93  ZIP CODE_10035                                                        37153 non-null  uint8  \n 94  ZIP CODE_10036                                                        37153 non-null  uint8  \n 95  ZIP CODE_10037                                                        37153 non-null  uint8  \n 96  ZIP CODE_10038                                                        37153 non-null  uint8  \n 97  ZIP CODE_10039                                                        37153 non-null  uint8  \n 98  ZIP CODE_10040                                                        37153 non-null  uint8  \n 99  ZIP CODE_10044                                                        37153 non-null  uint8  \n 100 ZIP CODE_10065                                                        37153 non-null  uint8  \n 101 ZIP CODE_10075                                                        37153 non-null  uint8  \n 102 ZIP CODE_10128                                                        37153 non-null  uint8  \n 103 ZIP CODE_10301                                                        37153 non-null  uint8  \n 104 ZIP CODE_10302                                                        37153 non-null  uint8  \n 105 ZIP CODE_10303                                                        37153 non-null  uint8  \n 106 ZIP CODE_10304                                                        37153 non-null  uint8  \n 107 ZIP CODE_10305                                                        37153 non-null  uint8  \n 108 ZIP CODE_10306                                                        37153 non-null  uint8  \n 109 ZIP CODE_10307                                                        37153 non-null  uint8  \n 110 ZIP CODE_10308                                                        37153 non-null  uint8  \n 111 ZIP CODE_10309                                                        37153 non-null  uint8  \n 112 ZIP CODE_10310                                                        37153 non-null  uint8  \n 113 ZIP CODE_10312                                                        37153 non-null  uint8  \n 114 ZIP CODE_10314                                                        37153 non-null  uint8  \n 115 ZIP CODE_10451                                                        37153 non-null  uint8  \n 116 ZIP CODE_10452                                                        37153 non-null  uint8  \n 117 ZIP CODE_10453                                                        37153 non-null  uint8  \n 118 ZIP CODE_10454                                                        37153 non-null  uint8  \n 119 ZIP CODE_10455                                                        37153 non-null  uint8  \n 120 ZIP CODE_10456                                                        37153 non-null  uint8  \n 121 ZIP CODE_10457                                                        37153 non-null  uint8  \n 122 ZIP CODE_10458                                                        37153 non-null  uint8  \n 123 ZIP CODE_10459                                                        37153 non-null  uint8  \n 124 ZIP CODE_10460                                                        37153 non-null  uint8  \n 125 ZIP CODE_10461                                                        37153 non-null  uint8  \n 126 ZIP CODE_10462                                                        37153 non-null  uint8  \n 127 ZIP CODE_10463                                                        37153 non-null  uint8  \n 128 ZIP CODE_10464                                                        37153 non-null  uint8  \n 129 ZIP CODE_10465                                                        37153 non-null  uint8  \n 130 ZIP CODE_10466                                                        37153 non-null  uint8  \n 131 ZIP CODE_10467                                                        37153 non-null  uint8  \n 132 ZIP CODE_10468                                                        37153 non-null  uint8  \n 133 ZIP CODE_10469                                                        37153 non-null  uint8  \n 134 ZIP CODE_10470                                                        37153 non-null  uint8  \n 135 ZIP CODE_10471                                                        37153 non-null  uint8  \n 136 ZIP CODE_10472                                                        37153 non-null  uint8  \n 137 ZIP CODE_10473                                                        37153 non-null  uint8  \n 138 ZIP CODE_10474                                                        37153 non-null  uint8  \n 139 ZIP CODE_10475                                                        37153 non-null  uint8  \n 140 ZIP CODE_10803                                                        37153 non-null  uint8  \n 141 ZIP CODE_11001                                                        37153 non-null  uint8  \n 142 ZIP CODE_11004                                                        37153 non-null  uint8  \n 143 ZIP CODE_11005                                                        37153 non-null  uint8  \n 144 ZIP CODE_11040                                                        37153 non-null  uint8  \n 145 ZIP CODE_11101                                                        37153 non-null  uint8  \n 146 ZIP CODE_11102                                                        37153 non-null  uint8  \n 147 ZIP CODE_11103                                                        37153 non-null  uint8  \n 148 ZIP CODE_11104                                                        37153 non-null  uint8  \n 149 ZIP CODE_11105                                                        37153 non-null  uint8  \n 150 ZIP CODE_11106                                                        37153 non-null  uint8  \n 151 ZIP CODE_11201                                                        37153 non-null  uint8  \n 152 ZIP CODE_11203                                                        37153 non-null  uint8  \n 153 ZIP CODE_11204                                                        37153 non-null  uint8  \n 154 ZIP CODE_11205                                                        37153 non-null  uint8  \n 155 ZIP CODE_11206                                                        37153 non-null  uint8  \n 156 ZIP CODE_11207                                                        37153 non-null  uint8  \n 157 ZIP CODE_11208                                                        37153 non-null  uint8  \n 158 ZIP CODE_11209                                                        37153 non-null  uint8  \n 159 ZIP CODE_11210                                                        37153 non-null  uint8  \n 160 ZIP CODE_11211                                                        37153 non-null  uint8  \n 161 ZIP CODE_11212                                                        37153 non-null  uint8  \n 162 ZIP CODE_11213                                                        37153 non-null  uint8  \n 163 ZIP CODE_11214                                                        37153 non-null  uint8  \n 164 ZIP CODE_11215                                                        37153 non-null  uint8  \n 165 ZIP CODE_11216                                                        37153 non-null  uint8  \n 166 ZIP CODE_11217                                                        37153 non-null  uint8  \n 167 ZIP CODE_11218                                                        37153 non-null  uint8  \n 168 ZIP CODE_11219                                                        37153 non-null  uint8  \n 169 ZIP CODE_11220                                                        37153 non-null  uint8  \n 170 ZIP CODE_11221                                                        37153 non-null  uint8  \n 171 ZIP CODE_11222                                                        37153 non-null  uint8  \n 172 ZIP CODE_11223                                                        37153 non-null  uint8  \n 173 ZIP CODE_11224                                                        37153 non-null  uint8  \n 174 ZIP CODE_11225                                                        37153 non-null  uint8  \n 175 ZIP CODE_11226                                                        37153 non-null  uint8  \n 176 ZIP CODE_11228                                                        37153 non-null  uint8  \n 177 ZIP CODE_11229                                                        37153 non-null  uint8  \n 178 ZIP CODE_11230                                                        37153 non-null  uint8  \n 179 ZIP CODE_11231                                                        37153 non-null  uint8  \n 180 ZIP CODE_11232                                                        37153 non-null  uint8  \n 181 ZIP CODE_11233                                                        37153 non-null  uint8  \n 182 ZIP CODE_11234                                                        37153 non-null  uint8  \n 183 ZIP CODE_11235                                                        37153 non-null  uint8  \n 184 ZIP CODE_11236                                                        37153 non-null  uint8  \n 185 ZIP CODE_11237                                                        37153 non-null  uint8  \n 186 ZIP CODE_11238                                                        37153 non-null  uint8  \n 187 ZIP CODE_11239                                                        37153 non-null  uint8  \n 188 ZIP CODE_11354                                                        37153 non-null  uint8  \n 189 ZIP CODE_11355                                                        37153 non-null  uint8  \n 190 ZIP CODE_11356                                                        37153 non-null  uint8  \n 191 ZIP CODE_11357                                                        37153 non-null  uint8  \n 192 ZIP CODE_11358                                                        37153 non-null  uint8  \n 193 ZIP CODE_11360                                                        37153 non-null  uint8  \n 194 ZIP CODE_11361                                                        37153 non-null  uint8  \n 195 ZIP CODE_11362                                                        37153 non-null  uint8  \n 196 ZIP CODE_11363                                                        37153 non-null  uint8  \n 197 ZIP CODE_11364                                                        37153 non-null  uint8  \n 198 ZIP CODE_11365                                                        37153 non-null  uint8  \n 199 ZIP CODE_11366                                                        37153 non-null  uint8  \n 200 ZIP CODE_11367                                                        37153 non-null  uint8  \n 201 ZIP CODE_11368                                                        37153 non-null  uint8  \n 202 ZIP CODE_11369                                                        37153 non-null  uint8  \n 203 ZIP CODE_11370                                                        37153 non-null  uint8  \n 204 ZIP CODE_11372                                                        37153 non-null  uint8  \n 205 ZIP CODE_11373                                                        37153 non-null  uint8  \n 206 ZIP CODE_11374                                                        37153 non-null  uint8  \n 207 ZIP CODE_11375                                                        37153 non-null  uint8  \n 208 ZIP CODE_11377                                                        37153 non-null  uint8  \n 209 ZIP CODE_11378                                                        37153 non-null  uint8  \n 210 ZIP CODE_11379                                                        37153 non-null  uint8  \n 211 ZIP CODE_11385                                                        37153 non-null  uint8  \n 212 ZIP CODE_11411                                                        37153 non-null  uint8  \n 213 ZIP CODE_11412                                                        37153 non-null  uint8  \n 214 ZIP CODE_11413                                                        37153 non-null  uint8  \n 215 ZIP CODE_11414                                                        37153 non-null  uint8  \n 216 ZIP CODE_11415                                                        37153 non-null  uint8  \n 217 ZIP CODE_11416                                                        37153 non-null  uint8  \n 218 ZIP CODE_11417                                                        37153 non-null  uint8  \n 219 ZIP CODE_11418                                                        37153 non-null  uint8  \n 220 ZIP CODE_11419                                                        37153 non-null  uint8  \n 221 ZIP CODE_11420                                                        37153 non-null  uint8  \n 222 ZIP CODE_11421                                                        37153 non-null  uint8  \n 223 ZIP CODE_11422                                                        37153 non-null  uint8  \n 224 ZIP CODE_11423                                                        37153 non-null  uint8  \n 225 ZIP CODE_11426                                                        37153 non-null  uint8  \n 226 ZIP CODE_11427                                                        37153 non-null  uint8  \n 227 ZIP CODE_11428                                                        37153 non-null  uint8  \n 228 ZIP CODE_11429                                                        37153 non-null  uint8  \n 229 ZIP CODE_11432                                                        37153 non-null  uint8  \n 230 ZIP CODE_11433                                                        37153 non-null  uint8  \n 231 ZIP CODE_11434                                                        37153 non-null  uint8  \n 232 ZIP CODE_11435                                                        37153 non-null  uint8  \n 233 ZIP CODE_11436                                                        37153 non-null  uint8  \n 234 ZIP CODE_11691                                                        37153 non-null  uint8  \n 235 ZIP CODE_11692                                                        37153 non-null  uint8  \n 236 ZIP CODE_11693                                                        37153 non-null  uint8  \n 237 ZIP CODE_11694                                                        37153 non-null  uint8  \ndtypes: float64(5), int64(5), uint8(228)\nmemory usage: 11.2+ MB\n"
     ]
    }
   ],
   "source": [
    "# One-hot encoding\n",
    "df = pd.get_dummies(df, columns = categorical_features)\n",
    "df.info(verbose = True, memory_usage = True, null_counts = True)"
   ]
  },
  {
   "source": [
    "# Regression"
   ],
   "cell_type": "markdown",
   "metadata": {}
  },
  {
   "cell_type": "code",
   "execution_count": 14,
   "metadata": {},
   "outputs": [
    {
     "output_type": "execute_result",
     "data": {
      "text/plain": [
       "9289"
      ]
     },
     "metadata": {},
     "execution_count": 14
    }
   ],
   "source": [
    "# Get the number of rows from the test data (should be 9289)\n",
    "\n",
    "test_row_count = X_test.shape[0]\n",
    "test_row_count"
   ]
  },
  {
   "cell_type": "code",
   "execution_count": 15,
   "metadata": {},
   "outputs": [],
   "source": [
    "# Split train and test data\n",
    "from sklearn.model_selection import train_test_split\n",
    "\n",
    "y = df[\"SALE PRICE\"][:(df.shape[0] - test_row_count)]\n",
    "X = df[:(df.shape[0] - test_row_count)].drop(\"SALE PRICE\", 1)\n",
    "X_train, X_valid, y_train, y_valid = train_test_split(X, y, test_size=0.2, random_state=42)"
   ]
  },
  {
   "cell_type": "code",
   "execution_count": 16,
   "metadata": {},
   "outputs": [],
   "source": [
    "from sklearn.metrics import mean_squared_error\n",
    "# Root mean squared error\n",
    "def rmse(y_test,y_pred):\n",
    "      return np.sqrt(mean_squared_error(y_test,y_pred))"
   ]
  },
  {
   "source": [
    "## Linear Regression"
   ],
   "cell_type": "markdown",
   "metadata": {}
  },
  {
   "cell_type": "code",
   "execution_count": 61,
   "metadata": {},
   "outputs": [
    {
     "output_type": "stream",
     "name": "stdout",
     "text": [
      "RMSE: 8018162.3439041255\nR-squared score (training): 0.542\nR-squared score (test): 0.369\n"
     ]
    }
   ],
   "source": [
    "# linear regression\n",
    "linreg = linear_model.LinearRegression()\n",
    "linreg.fit(X_train, y_train)\n",
    "y_pred_lin = linreg.predict(X_valid)\n",
    "rmse(y_valid, y_pred_lin)\n",
    "print(\"RMSE: \" + str(rmse(y_valid, y_pred_lin)))\n",
    "print('R-squared score (training): {:.3f}'.format(linreg.score(X_train, y_train)))\n",
    "print('R-squared score (test): {:.3f}'.format(linreg.score(X_valid, y_valid)))"
   ]
  },
  {
   "cell_type": "code",
   "execution_count": 18,
   "metadata": {},
   "outputs": [
    {
     "output_type": "execute_result",
     "data": {
      "text/plain": [
       "         SALE PRICE\n",
       "id                 \n",
       "test0  1.393442e+07\n",
       "test1  6.799121e+05\n",
       "test2  4.041972e+05\n",
       "test3  1.922549e+06\n",
       "test4  2.661554e+06"
      ],
      "text/html": "<div>\n<style scoped>\n    .dataframe tbody tr th:only-of-type {\n        vertical-align: middle;\n    }\n\n    .dataframe tbody tr th {\n        vertical-align: top;\n    }\n\n    .dataframe thead th {\n        text-align: right;\n    }\n</style>\n<table border=\"1\" class=\"dataframe\">\n  <thead>\n    <tr style=\"text-align: right;\">\n      <th></th>\n      <th>SALE PRICE</th>\n    </tr>\n    <tr>\n      <th>id</th>\n      <th></th>\n    </tr>\n  </thead>\n  <tbody>\n    <tr>\n      <th>test0</th>\n      <td>1.393442e+07</td>\n    </tr>\n    <tr>\n      <th>test1</th>\n      <td>6.799121e+05</td>\n    </tr>\n    <tr>\n      <th>test2</th>\n      <td>4.041972e+05</td>\n    </tr>\n    <tr>\n      <th>test3</th>\n      <td>1.922549e+06</td>\n    </tr>\n    <tr>\n      <th>test4</th>\n      <td>2.661554e+06</td>\n    </tr>\n  </tbody>\n</table>\n</div>"
     },
     "metadata": {},
     "execution_count": 18
    }
   ],
   "source": [
    "linear_submission = pd.DataFrame(linreg.predict(df[(df.shape[0] - test_row_count):].drop(\"SALE PRICE\", 1)))\n",
    "linear_submission.index = X_test[\"id\"]\n",
    "linear_submission.columns = [\"SALE PRICE\"]\n",
    "linear_submission.to_csv(\"output/linear_submission.csv\")\n",
    "linear_submission.head()"
   ]
  },
  {
   "source": [
    "## LASSO Regression"
   ],
   "cell_type": "markdown",
   "metadata": {}
  },
  {
   "cell_type": "code",
   "execution_count": 57,
   "metadata": {},
   "outputs": [],
   "source": [
    "from scipy.optimize import minimize "
   ]
  },
  {
   "cell_type": "code",
   "execution_count": 69,
   "metadata": {},
   "outputs": [],
   "source": [
    "# Lasso regression\n",
    "def lasso(alpha, iterations = 50):\n",
    "    lasso_regr = linear_model.Lasso(alpha = alpha, max_iter = iterations)\n",
    "    lasso_regr.fit(X_train, y_train)\n",
    "    Y_pred_lasso = lasso_regr.predict(X_valid)\n",
    "    # return rmse(y_valid,Y_pred_lasso)     # this will overfit\n",
    "    return lasso_regr.score(X_train, y_train) + lasso_regr.score(X_valid, y_valid)"
   ]
  },
  {
   "cell_type": "code",
   "execution_count": 70,
   "metadata": {},
   "outputs": [
    {
     "output_type": "execute_result",
     "data": {
      "text/plain": [
       "      fun: 0.4689144026425388\n",
       " hess_inv: array([[1]])\n",
       "      jac: array([-2.5331974e-07])\n",
       "  message: 'Optimization terminated successfully.'\n",
       "     nfev: 51\n",
       "      nit: 1\n",
       "     njev: 17\n",
       "   status: 0\n",
       "  success: True\n",
       "        x: array([31593.99999265])"
      ]
     },
     "metadata": {},
     "execution_count": 70
    }
   ],
   "source": [
    "lasso_res = minimize(lasso, x0 = 10)\n",
    "lasso_res"
   ]
  },
  {
   "cell_type": "code",
   "execution_count": 72,
   "metadata": {},
   "outputs": [
    {
     "output_type": "stream",
     "name": "stdout",
     "text": [
      "RMSE: 8018673.914060749\nR-squared score (training): 0.542\nR-squared score (test): 0.369\n"
     ]
    }
   ],
   "source": [
    "lasso_regr = linear_model.Lasso(alpha = 10, max_iter = 500)\n",
    "lasso_regr.fit(X_train, y_train)\n",
    "Y_pred_lasso = lasso_regr.predict(X_valid)\n",
    "print(\"RMSE: \" + str(rmse(y_valid, Y_pred_lasso)))\n",
    "print('R-squared score (training): {:.3f}'.format(lasso_regr.score(X_train, y_train)))\n",
    "print('R-squared score (test): {:.3f}'.format(lasso_regr.score(X_valid, y_valid)))"
   ]
  },
  {
   "cell_type": "code",
   "execution_count": 97,
   "metadata": {},
   "outputs": [
    {
     "output_type": "execute_result",
     "data": {
      "text/plain": [
       "         SALE PRICE\n",
       "id                 \n",
       "test0  9.935354e+06\n",
       "test1  1.168445e+06\n",
       "test2  1.575592e+06\n",
       "test3  8.742068e+05\n",
       "test4  2.802492e+06"
      ],
      "text/html": "<div>\n<style scoped>\n    .dataframe tbody tr th:only-of-type {\n        vertical-align: middle;\n    }\n\n    .dataframe tbody tr th {\n        vertical-align: top;\n    }\n\n    .dataframe thead th {\n        text-align: right;\n    }\n</style>\n<table border=\"1\" class=\"dataframe\">\n  <thead>\n    <tr style=\"text-align: right;\">\n      <th></th>\n      <th>SALE PRICE</th>\n    </tr>\n    <tr>\n      <th>id</th>\n      <th></th>\n    </tr>\n  </thead>\n  <tbody>\n    <tr>\n      <th>test0</th>\n      <td>9.935354e+06</td>\n    </tr>\n    <tr>\n      <th>test1</th>\n      <td>1.168445e+06</td>\n    </tr>\n    <tr>\n      <th>test2</th>\n      <td>1.575592e+06</td>\n    </tr>\n    <tr>\n      <th>test3</th>\n      <td>8.742068e+05</td>\n    </tr>\n    <tr>\n      <th>test4</th>\n      <td>2.802492e+06</td>\n    </tr>\n  </tbody>\n</table>\n</div>"
     },
     "metadata": {},
     "execution_count": 97
    }
   ],
   "source": [
    "lasso_submission = pd.DataFrame(lasso_regr.predict(df[(df.shape[0] - test_row_count):].drop(\"SALE PRICE\", 1)))\n",
    "lasso_submission.index = X_test[\"id\"]\n",
    "lasso_submission.columns = [\"SALE PRICE\"]\n",
    "lasso_submission[lasso_submission[\"SALE PRICE\"] < 1000] = y_train.median()       # hard code set < 1000 to median\n",
    "lasso_submission.to_csv(\"output/lasso_submission.csv\")\n",
    "lasso_submission.head()"
   ]
  },
  {
   "source": [
    "## Ridge Regression"
   ],
   "cell_type": "markdown",
   "metadata": {}
  },
  {
   "cell_type": "code",
   "execution_count": 54,
   "metadata": {},
   "outputs": [
    {
     "output_type": "stream",
     "name": "stdout",
     "text": [
      "RMSE: 7990095.857629159\nR-squared score (training): 0.537\nR-squared score (test): 0.374\n"
     ]
    }
   ],
   "source": [
    "# Ridge regression\n",
    "ridge = linear_model.Ridge(alpha = 0.029, normalize = True)\n",
    "ridge.fit(X_train, y_train)\n",
    "Y_pred_ridge = ridge.predict(X_valid)\n",
    "print(\"RMSE: \" + str(rmse(y_valid, Y_pred_ridge)))\n",
    "print('R-squared score (training): {:.3f}'.format(ridge.score(X_train, y_train)))\n",
    "print('R-squared score (test): {:.3f}'.format(ridge.score(X_valid, y_valid)))"
   ]
  },
  {
   "cell_type": "code",
   "execution_count": 117,
   "metadata": {},
   "outputs": [
    {
     "output_type": "execute_result",
     "data": {
      "text/plain": [
       "         SALE PRICE\n",
       "id                 \n",
       "test0  1.396353e+07\n",
       "test1  6.846967e+05\n",
       "test2  4.095589e+05\n",
       "test3  1.877738e+06\n",
       "test4  2.753596e+06"
      ],
      "text/html": "<div>\n<style scoped>\n    .dataframe tbody tr th:only-of-type {\n        vertical-align: middle;\n    }\n\n    .dataframe tbody tr th {\n        vertical-align: top;\n    }\n\n    .dataframe thead th {\n        text-align: right;\n    }\n</style>\n<table border=\"1\" class=\"dataframe\">\n  <thead>\n    <tr style=\"text-align: right;\">\n      <th></th>\n      <th>SALE PRICE</th>\n    </tr>\n    <tr>\n      <th>id</th>\n      <th></th>\n    </tr>\n  </thead>\n  <tbody>\n    <tr>\n      <th>test0</th>\n      <td>1.396353e+07</td>\n    </tr>\n    <tr>\n      <th>test1</th>\n      <td>6.846967e+05</td>\n    </tr>\n    <tr>\n      <th>test2</th>\n      <td>4.095589e+05</td>\n    </tr>\n    <tr>\n      <th>test3</th>\n      <td>1.877738e+06</td>\n    </tr>\n    <tr>\n      <th>test4</th>\n      <td>2.753596e+06</td>\n    </tr>\n  </tbody>\n</table>\n</div>"
     },
     "metadata": {},
     "execution_count": 117
    }
   ],
   "source": [
    "ridge_submission = pd.DataFrame(ridge.predict(df[(df.shape[0] - test_row_count):].drop(\"SALE PRICE\", 1)))\n",
    "ridge_submission.index = X_test[\"id\"]\n",
    "ridge_submission.columns = [\"SALE PRICE\"]\n",
    "ridge_submission.to_csv(\"output/ridge_submission.csv\")\n",
    "ridge_submission.head()"
   ]
  },
  {
   "source": [
    "## Random Forest"
   ],
   "cell_type": "markdown",
   "metadata": {}
  },
  {
   "cell_type": "code",
   "execution_count": 62,
   "metadata": {},
   "outputs": [],
   "source": [
    "from sklearn.ensemble import RandomForestRegressor"
   ]
  },
  {
   "cell_type": "code",
   "execution_count": 63,
   "metadata": {},
   "outputs": [
    {
     "output_type": "stream",
     "name": "stdout",
     "text": [
      "RMSE: 8636618.95218705\n",
      "R-squared score (training): 0.839\n",
      "R-squared score (test): 0.268\n"
     ]
    }
   ],
   "source": [
    "# Random forest\n",
    "rf_regr = RandomForestRegressor()\n",
    "rf_regr.fit(X_train, y_train)\n",
    "Y_pred_rf = rf_regr.predict(X_valid)\n",
    "rmse(y_valid, Y_pred_rf)\n",
    "print(\"RMSE: \" + str(rmse(y_valid, Y_pred_rf)))\n",
    "print('R-squared score (training): {:.3f}'.format(rf_regr.score(X_train, y_train)))\n",
    "print('R-squared score (test): {:.3f}'.format(rf_regr.score(X_valid, y_valid)))"
   ]
  },
  {
   "cell_type": "code",
   "execution_count": 91,
   "metadata": {},
   "outputs": [
    {
     "output_type": "execute_result",
     "data": {
      "text/plain": [
       "         SALE PRICE\n",
       "id                 \n",
       "test0  8.562035e+06\n",
       "test1  6.330833e+05\n",
       "test2  5.337176e+05\n",
       "test3  1.182609e+06\n",
       "test4  9.077677e+05"
      ],
      "text/html": "<div>\n<style scoped>\n    .dataframe tbody tr th:only-of-type {\n        vertical-align: middle;\n    }\n\n    .dataframe tbody tr th {\n        vertical-align: top;\n    }\n\n    .dataframe thead th {\n        text-align: right;\n    }\n</style>\n<table border=\"1\" class=\"dataframe\">\n  <thead>\n    <tr style=\"text-align: right;\">\n      <th></th>\n      <th>SALE PRICE</th>\n    </tr>\n    <tr>\n      <th>id</th>\n      <th></th>\n    </tr>\n  </thead>\n  <tbody>\n    <tr>\n      <th>test0</th>\n      <td>8.562035e+06</td>\n    </tr>\n    <tr>\n      <th>test1</th>\n      <td>6.330833e+05</td>\n    </tr>\n    <tr>\n      <th>test2</th>\n      <td>5.337176e+05</td>\n    </tr>\n    <tr>\n      <th>test3</th>\n      <td>1.182609e+06</td>\n    </tr>\n    <tr>\n      <th>test4</th>\n      <td>9.077677e+05</td>\n    </tr>\n  </tbody>\n</table>\n</div>"
     },
     "metadata": {},
     "execution_count": 91
    }
   ],
   "source": [
    "rf_submission = pd.DataFrame(rf_regr.predict(df[(df.shape[0] - test_row_count):].drop(\"SALE PRICE\", 1)))\n",
    "rf_submission.index = X_test[\"id\"]\n",
    "rf_submission.columns = [\"SALE PRICE\"]\n",
    "rf_submission.to_csv(\"output/rf_submission.csv\")\n",
    "rf_submission.head()"
   ]
  },
  {
   "source": [
    "## XGBoost\n",
    "\n",
    "Helpful:\n",
    "\n",
    "https://www.kaggle.com/darkknight98/how-a-data-scientist-buys-a-house-a-tutorial"
   ],
   "cell_type": "markdown",
   "metadata": {}
  },
  {
   "cell_type": "code",
   "execution_count": 24,
   "metadata": {},
   "outputs": [],
   "source": [
    "import xgboost\n",
    "from sklearn.model_selection import RandomizedSearchCV"
   ]
  },
  {
   "cell_type": "code",
   "execution_count": 18,
   "metadata": {},
   "outputs": [],
   "source": [
    "# regressor = xgboost.XGBRegressor()\n",
    "# n_estimators = [100, 500, 900, 1100, 1500]\n",
    "# max_depth = [2, 3, 5, 10, 15]\n",
    "# booster = ['gbtree','gblinear']\n",
    "# learning_rate = [0.05, 0.1, 0.15, 0.20]\n",
    "# min_child_weight = [1, 2, 3, 4]\n",
    "# base_score = [0.25, 0.5, 0.75, 1]\n",
    "\n",
    "# # Define the grid of hyperparameters to search\n",
    "# hyperparameter_grid = {\n",
    "#     'n_estimators': n_estimators,\n",
    "#     'max_depth': max_depth,\n",
    "#     'learning_rate': learning_rate,\n",
    "#     'min_child_weight': min_child_weight,\n",
    "#     'booster': booster,\n",
    "#     'base_score': base_score\n",
    "#     }\n",
    "# random_cv = RandomizedSearchCV(estimator=regressor,\n",
    "#             param_distributions=hyperparameter_grid,\n",
    "#             cv=5, n_iter=50,\n",
    "#             scoring = 'neg_mean_absolute_error',n_jobs = -1,\n",
    "#             verbose = 5, \n",
    "#             return_train_score = True,\n",
    "#             random_state=42)"
   ]
  },
  {
   "cell_type": "code",
   "execution_count": 19,
   "metadata": {},
   "outputs": [],
   "source": [
    "# random_cv.fit(X_train, y_train)"
   ]
  },
  {
   "cell_type": "code",
   "execution_count": 20,
   "metadata": {},
   "outputs": [],
   "source": [
    "# random_cv.best_estimator_"
   ]
  },
  {
   "cell_type": "code",
   "execution_count": 67,
   "metadata": {},
   "outputs": [],
   "source": [
    "# TODO tweak these params to find the best one (see code above)\n",
    "\n",
    "# overfitting documentation: https://xgboost.readthedocs.io/en/latest/tutorials/param_tuning.html\n",
    "# parameter documentation: https://xgboost.readthedocs.io/en/latest/parameter.html\n",
    "regressor = xgboost.XGBRegressor(base_score=1, booster='gbtree', colsample_bylevel=1,\n",
    "             colsample_bynode=1, colsample_bytree=1, gamma=0, gpu_id=-1,\n",
    "             importance_type='gain', interaction_constraints='',\n",
    "             learning_rate=0.1, max_delta_step=0, max_depth=3,\n",
    "             min_child_weight=1, monotone_constraints='()',\n",
    "             n_estimators=900, n_jobs=0, num_parallel_tree=1, random_state=0,\n",
    "             reg_alpha=0, reg_lambda=1, scale_pos_weight=1, subsample=1,\n",
    "             tree_method='exact', validate_parameters=1, verbosity=None)"
   ]
  },
  {
   "cell_type": "code",
   "execution_count": 68,
   "metadata": {},
   "outputs": [
    {
     "output_type": "stream",
     "name": "stdout",
     "text": [
      "RMSE: 8286745.1771032205\n",
      "R-squared score (training): 0.987\n",
      "R-squared score (test): 0.326\n"
     ]
    }
   ],
   "source": [
    "regressor.fit(X_train, y_train)\n",
    "Y_pred_xgb = regressor.predict(X_valid)\n",
    "\n",
    "print(\"RMSE: \" + str(rmse(y_valid, Y_pred_xgb)))\n",
    "print('R-squared score (training): {:.3f}'.format(regressor.score(X_train, y_train)))\n",
    "# regressor.fit(X_valid, y_valid)\n",
    "print('R-squared score (test): {:.3f}'.format(regressor.score(X_valid, y_valid)))"
   ]
  },
  {
   "cell_type": "code",
   "execution_count": 70,
   "metadata": {},
   "outputs": [
    {
     "output_type": "execute_result",
     "data": {
      "text/plain": [
       "         SALE PRICE\n",
       "id                 \n",
       "test0  9.011357e+06\n",
       "test1  6.629601e+05\n",
       "test2  4.261658e+05\n",
       "test3  1.224445e+06\n",
       "test4  1.833526e+06"
      ],
      "text/html": "<div>\n<style scoped>\n    .dataframe tbody tr th:only-of-type {\n        vertical-align: middle;\n    }\n\n    .dataframe tbody tr th {\n        vertical-align: top;\n    }\n\n    .dataframe thead th {\n        text-align: right;\n    }\n</style>\n<table border=\"1\" class=\"dataframe\">\n  <thead>\n    <tr style=\"text-align: right;\">\n      <th></th>\n      <th>SALE PRICE</th>\n    </tr>\n    <tr>\n      <th>id</th>\n      <th></th>\n    </tr>\n  </thead>\n  <tbody>\n    <tr>\n      <th>test0</th>\n      <td>9.011357e+06</td>\n    </tr>\n    <tr>\n      <th>test1</th>\n      <td>6.629601e+05</td>\n    </tr>\n    <tr>\n      <th>test2</th>\n      <td>4.261658e+05</td>\n    </tr>\n    <tr>\n      <th>test3</th>\n      <td>1.224445e+06</td>\n    </tr>\n    <tr>\n      <th>test4</th>\n      <td>1.833526e+06</td>\n    </tr>\n  </tbody>\n</table>\n</div>"
     },
     "metadata": {},
     "execution_count": 70
    }
   ],
   "source": [
    "xgb_pred = regressor.predict(df[(df.shape[0] - test_row_count):].drop(\"SALE PRICE\", 1))\n",
    "xgb_pred = pd.DataFrame(xgb_pred)\n",
    "\n",
    "xgb_pred.index = X_test[\"id\"]\n",
    "xgb_pred.columns = [\"SALE PRICE\"]\n",
    "xgb_pred[xgb_pred[\"SALE PRICE\"] < 0] = y_train.median()       # hard code set < 0 to median\n",
    "xgb_pred.to_csv(\"output/xgb_submission.csv\")\n",
    "xgb_pred.head()"
   ]
  },
  {
   "source": [
    "# Submit to Kaggle\n",
    "Run this command to send a submission to the Kaggle competition"
   ],
   "cell_type": "markdown",
   "metadata": {}
  },
  {
   "cell_type": "code",
   "execution_count": 58,
   "metadata": {},
   "outputs": [
    {
     "output_type": "stream",
     "name": "stdout",
     "text": [
      "Successfully submitted to SAAS 2020 Fall CX Kaggle Compeition\n",
      "\n",
      "  0%|          | 0.00/176k [00:00<?, ?B/s]\n",
      " 45%|████▌     | 80.0k/176k [00:00<00:00, 766kB/s]\n",
      " 59%|█████▉    | 104k/176k [00:00<00:00, 238kB/s] \n",
      " 73%|███████▎  | 128k/176k [00:00<00:00, 164kB/s]\n",
      " 82%|████████▏ | 144k/176k [00:00<00:00, 131kB/s]\n",
      " 91%|█████████ | 160k/176k [00:00<00:00, 119kB/s]\n",
      "100%|█████████▉| 176k/176k [00:01<00:00, 109kB/s]\n",
      "100%|██████████| 176k/176k [00:03<00:00, 47.8kB/s]\n"
     ]
    }
   ],
   "source": [
    "# !kaggle competitions submit -c saas-2020-fall-cx-kaggle-compeition -f output/xgb_submission.csv -m \"xgb 1 (negatives = 10)\""
   ]
  }
 ]
}