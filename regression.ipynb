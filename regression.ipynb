{
 "metadata": {
  "language_info": {
   "codemirror_mode": {
    "name": "ipython",
    "version": 3
   },
   "file_extension": ".py",
   "mimetype": "text/x-python",
   "name": "python",
   "nbconvert_exporter": "python",
   "pygments_lexer": "ipython3",
   "version": "3.7.6-final"
  },
  "orig_nbformat": 2,
  "kernelspec": {
   "name": "python3",
   "display_name": "Python 3"
  }
 },
 "nbformat": 4,
 "nbformat_minor": 2,
 "cells": [
  {
   "source": [
    "# Predicting Sale Price from NYC Property Sale Data\n",
    "## Berkeley SAAS CX Fall 2020 Kaggle Competition\n",
    "## Ming Fong and Yifan Zhang\n"
   ],
   "cell_type": "markdown",
   "metadata": {}
  },
  {
   "source": [
    "Helpful:\n",
    "\n",
    "https://www.kaggle.com/sahilrider/learn-regression-nyc#4.-Modelling"
   ],
   "cell_type": "markdown",
   "metadata": {}
  },
  {
   "cell_type": "code",
   "execution_count": 116,
   "metadata": {},
   "outputs": [],
   "source": [
    "import numpy as np # linear algebra\n",
    "import pandas as pd # data processing, CSV file I/O (e.g. pd.read_csv)\n",
    "from sklearn import linear_model\n",
    "import statsmodels.api as sm\n",
    "import matplotlib.pyplot as plt\n",
    "import seaborn as sns\n",
    "from scipy import stats"
   ]
  },
  {
   "cell_type": "code",
   "execution_count": 117,
   "metadata": {},
   "outputs": [],
   "source": [
    "# Display all columns of Dataframes\n",
    "pd.set_option('display.max_columns', None)"
   ]
  },
  {
   "cell_type": "code",
   "execution_count": 118,
   "metadata": {},
   "outputs": [],
   "source": [
    "X_train = pd.read_csv(\"data/train_features.csv\")\n",
    "y_train = pd.read_csv(\"data/train_targets.csv\")\n",
    "X_test = pd.read_csv(\"data/test_features.csv\")\n",
    "# sample_submission = pd.read_csv(\"output/sample_submission.csv\")"
   ]
  },
  {
   "cell_type": "code",
   "execution_count": 119,
   "metadata": {},
   "outputs": [],
   "source": [
    "# X_train.set_index(\"id\")\n",
    "# y_train.set_index(\"id\")\n",
    "# X_test.set_index(\"id\")\n",
    "# X_train.head()"
   ]
  },
  {
   "cell_type": "code",
   "execution_count": 120,
   "metadata": {},
   "outputs": [],
   "source": [
    "# merge sale price onto feature data\n",
    "df = X_train.merge(right = y_train, on = \"id\", how = \"outer\")\n",
    "\n",
    "# train_merged = X_train.merge(right = y_train, on = \"id\")"
   ]
  },
  {
   "cell_type": "code",
   "execution_count": 121,
   "metadata": {},
   "outputs": [],
   "source": [
    "# drop training rows with 0 gross or land sqft\n",
    "df = df.drop(df[df[\"GROSS SQUARE FEET\"] == 0].index)\n",
    "df = df.drop(df[df[\"LAND SQUARE FEET\"] == 0].index)"
   ]
  },
  {
   "cell_type": "code",
   "execution_count": 122,
   "metadata": {},
   "outputs": [],
   "source": [
    "df = pd.concat([df, X_test], axis=0, ignore_index = True)"
   ]
  },
  {
   "cell_type": "code",
   "execution_count": 123,
   "metadata": {},
   "outputs": [],
   "source": [
    "df = df.set_index(\"id\")"
   ]
  },
  {
   "cell_type": "code",
   "execution_count": 124,
   "metadata": {},
   "outputs": [],
   "source": [
    "# \"EASE-MENT\" is an empty column, delete it\n",
    "del df[\"EASE-MENT\"]\n",
    "\n",
    "# Delete date column\n",
    "del df[\"SALE DATE\"]\n",
    "\n",
    "del df[\"LOT\"]\n",
    "del df[\"ADDRESS\"]\n",
    "del df[\"APARTMENT NUMBER\"]"
   ]
  },
  {
   "cell_type": "code",
   "execution_count": 125,
   "metadata": {},
   "outputs": [],
   "source": [
    "# Correlation between features\n",
    "\n",
    "# corr = train_merged.corr()\n",
    "# print(corr['SALE PRICE'].sort_values(ascending=False))\n",
    "# sns.heatmap(corr)"
   ]
  },
  {
   "cell_type": "code",
   "execution_count": 126,
   "metadata": {},
   "outputs": [
    {
     "output_type": "stream",
     "name": "stdout",
     "text": [
      "<class 'pandas.core.frame.DataFrame'>\nIndex: 31209 entries, train0 to test9288\nData columns (total 19 columns):\n #   Column                          Non-Null Count  Dtype  \n---  ------                          --------------  -----  \n 0   BOROUGH                         31209 non-null  int64  \n 1   NEIGHBORHOOD                    31209 non-null  object \n 2   BUILDING CLASS CATEGORY         31209 non-null  object \n 3   TAX CLASS AT PRESENT            31209 non-null  object \n 4   BLOCK                           31209 non-null  int64  \n 5   BUILDING CLASS AT PRESENT       31209 non-null  object \n 6   ZIP CODE                        31209 non-null  int64  \n 7   RESIDENTIAL UNITS               31209 non-null  int64  \n 8   COMMERCIAL UNITS                31209 non-null  int64  \n 9   TOTAL UNITS                     31209 non-null  int64  \n 10  LAND SQUARE FEET                31209 non-null  float64\n 11  GROSS SQUARE FEET               31209 non-null  float64\n 12  YEAR BUILT                      31209 non-null  int64  \n 13  TAX CLASS AT TIME OF SALE       31209 non-null  int64  \n 14  BUILDING CLASS AT TIME OF SALE  31209 non-null  object \n 15  MEDIAN INCOME                   31209 non-null  float64\n 16  MEAN INCOME                     31209 non-null  float64\n 17  POPULATION                      31209 non-null  int64  \n 18  SALE PRICE                      21920 non-null  float64\ndtypes: float64(5), int64(9), object(5)\nmemory usage: 4.8+ MB\n"
     ]
    }
   ],
   "source": [
    "df.info()"
   ]
  },
  {
   "cell_type": "code",
   "execution_count": 127,
   "metadata": {},
   "outputs": [],
   "source": [
    "categorical_features = [\"BOROUGH\", \"ZIP CODE\", \"BUILDING CLASS CATEGORY\", \"TAX CLASS AT TIME OF SALE\", \"BUILDING CLASS AT TIME OF SALE\"]\n",
    "\n",
    "del df[\"BUILDING CLASS AT PRESENT\"]\n",
    "del df[\"TAX CLASS AT PRESENT\"]\n",
    "# del df[\"BUILDING CLASS AT TIME OF SALE\"]\n",
    "\n",
    "# Too many features for location\n",
    "del df[\"BLOCK\"]\n",
    "del df[\"NEIGHBORHOOD\"]\n",
    "# del df[\"ZIP CODE\"]"
   ]
  },
  {
   "cell_type": "code",
   "execution_count": 128,
   "metadata": {
    "tags": [
     "outputPrepend"
    ]
   },
   "outputs": [
    {
     "output_type": "stream",
     "name": "stdout",
     "text": [
      "             31209 non-null  uint8  \n 180 ZIP CODE_11428                                                        31209 non-null  uint8  \n 181 ZIP CODE_11429                                                        31209 non-null  uint8  \n 182 ZIP CODE_11432                                                        31209 non-null  uint8  \n 183 ZIP CODE_11433                                                        31209 non-null  uint8  \n 184 ZIP CODE_11434                                                        31209 non-null  uint8  \n 185 ZIP CODE_11435                                                        31209 non-null  uint8  \n 186 ZIP CODE_11436                                                        31209 non-null  uint8  \n 187 ZIP CODE_11691                                                        31209 non-null  uint8  \n 188 ZIP CODE_11692                                                        31209 non-null  uint8  \n 189 ZIP CODE_11693                                                        31209 non-null  uint8  \n 190 ZIP CODE_11694                                                        31209 non-null  uint8  \n 191 BUILDING CLASS CATEGORY_01 ONE FAMILY DWELLINGS                       31209 non-null  uint8  \n 192 BUILDING CLASS CATEGORY_02 TWO FAMILY DWELLINGS                       31209 non-null  uint8  \n 193 BUILDING CLASS CATEGORY_03 THREE FAMILY DWELLINGS                     31209 non-null  uint8  \n 194 BUILDING CLASS CATEGORY_04 TAX CLASS 1 CONDOS                         31209 non-null  uint8  \n 195 BUILDING CLASS CATEGORY_05 TAX CLASS 1 VACANT LAND                    31209 non-null  uint8  \n 196 BUILDING CLASS CATEGORY_06 TAX CLASS 1 - OTHER                        31209 non-null  uint8  \n 197 BUILDING CLASS CATEGORY_07 RENTALS - WALKUP APARTMENTS                31209 non-null  uint8  \n 198 BUILDING CLASS CATEGORY_08 RENTALS - ELEVATOR APARTMENTS              31209 non-null  uint8  \n 199 BUILDING CLASS CATEGORY_09 COOPS - WALKUP APARTMENTS                  31209 non-null  uint8  \n 200 BUILDING CLASS CATEGORY_10 COOPS - ELEVATOR APARTMENTS                31209 non-null  uint8  \n 201 BUILDING CLASS CATEGORY_11 SPECIAL CONDO BILLING LOTS                 31209 non-null  uint8  \n 202 BUILDING CLASS CATEGORY_11A CONDO-RENTALS                             31209 non-null  uint8  \n 203 BUILDING CLASS CATEGORY_12 CONDOS - WALKUP APARTMENTS                 31209 non-null  uint8  \n 204 BUILDING CLASS CATEGORY_13 CONDOS - ELEVATOR APARTMENTS               31209 non-null  uint8  \n 205 BUILDING CLASS CATEGORY_14 RENTALS - 4-10 UNIT                        31209 non-null  uint8  \n 206 BUILDING CLASS CATEGORY_15 CONDOS - 2-10 UNIT RESIDENTIAL             31209 non-null  uint8  \n 207 BUILDING CLASS CATEGORY_16 CONDOS - 2-10 UNIT WITH COMMERCIAL UNIT    31209 non-null  uint8  \n 208 BUILDING CLASS CATEGORY_17 CONDO COOPS                                31209 non-null  uint8  \n 209 BUILDING CLASS CATEGORY_21 OFFICE BUILDINGS                           31209 non-null  uint8  \n 210 BUILDING CLASS CATEGORY_22 STORE BUILDINGS                            31209 non-null  uint8  \n 211 BUILDING CLASS CATEGORY_23 LOFT BUILDINGS                             31209 non-null  uint8  \n 212 BUILDING CLASS CATEGORY_25 LUXURY HOTELS                              31209 non-null  uint8  \n 213 BUILDING CLASS CATEGORY_26 OTHER HOTELS                               31209 non-null  uint8  \n 214 BUILDING CLASS CATEGORY_27 FACTORIES                                  31209 non-null  uint8  \n 215 BUILDING CLASS CATEGORY_29 COMMERCIAL GARAGES                         31209 non-null  uint8  \n 216 BUILDING CLASS CATEGORY_30 WAREHOUSES                                 31209 non-null  uint8  \n 217 BUILDING CLASS CATEGORY_31 COMMERCIAL VACANT LAND                     31209 non-null  uint8  \n 218 BUILDING CLASS CATEGORY_32 HOSPITAL AND HEALTH FACILITIES             31209 non-null  uint8  \n 219 BUILDING CLASS CATEGORY_33 EDUCATIONAL FACILITIES                     31209 non-null  uint8  \n 220 BUILDING CLASS CATEGORY_34 THEATRES                                   31209 non-null  uint8  \n 221 BUILDING CLASS CATEGORY_35 INDOOR PUBLIC AND CULTURAL FACILITIES      31209 non-null  uint8  \n 222 BUILDING CLASS CATEGORY_36 OUTDOOR RECREATIONAL FACILITIES            31209 non-null  uint8  \n 223 BUILDING CLASS CATEGORY_37 RELIGIOUS FACILITIES                       31209 non-null  uint8  \n 224 BUILDING CLASS CATEGORY_38 ASYLUMS AND HOMES                          31209 non-null  uint8  \n 225 BUILDING CLASS CATEGORY_40 SELECTED GOVERNMENTAL FACILITIES           31209 non-null  uint8  \n 226 BUILDING CLASS CATEGORY_41 TAX CLASS 4 - OTHER                        31209 non-null  uint8  \n 227 BUILDING CLASS CATEGORY_42 CONDO CULTURAL/MEDICAL/EDUCATIONAL/ETC     31209 non-null  uint8  \n 228 BUILDING CLASS CATEGORY_43 CONDO OFFICE BUILDINGS                     31209 non-null  uint8  \n 229 BUILDING CLASS CATEGORY_44 CONDO PARKING                              31209 non-null  uint8  \n 230 BUILDING CLASS CATEGORY_46 CONDO STORE BUILDINGS                      31209 non-null  uint8  \n 231 BUILDING CLASS CATEGORY_47 CONDO NON-BUSINESS STORAGE                 31209 non-null  uint8  \n 232 BUILDING CLASS CATEGORY_48 CONDO TERRACES/GARDENS/CABANAS             31209 non-null  uint8  \n 233 TAX CLASS AT TIME OF SALE_1                                           31209 non-null  uint8  \n 234 TAX CLASS AT TIME OF SALE_2                                           31209 non-null  uint8  \n 235 TAX CLASS AT TIME OF SALE_4                                           31209 non-null  uint8  \n 236 BUILDING CLASS AT TIME OF SALE_A0                                     31209 non-null  uint8  \n 237 BUILDING CLASS AT TIME OF SALE_A1                                     31209 non-null  uint8  \n 238 BUILDING CLASS AT TIME OF SALE_A2                                     31209 non-null  uint8  \n 239 BUILDING CLASS AT TIME OF SALE_A3                                     31209 non-null  uint8  \n 240 BUILDING CLASS AT TIME OF SALE_A4                                     31209 non-null  uint8  \n 241 BUILDING CLASS AT TIME OF SALE_A5                                     31209 non-null  uint8  \n 242 BUILDING CLASS AT TIME OF SALE_A6                                     31209 non-null  uint8  \n 243 BUILDING CLASS AT TIME OF SALE_A7                                     31209 non-null  uint8  \n 244 BUILDING CLASS AT TIME OF SALE_A9                                     31209 non-null  uint8  \n 245 BUILDING CLASS AT TIME OF SALE_B1                                     31209 non-null  uint8  \n 246 BUILDING CLASS AT TIME OF SALE_B2                                     31209 non-null  uint8  \n 247 BUILDING CLASS AT TIME OF SALE_B3                                     31209 non-null  uint8  \n 248 BUILDING CLASS AT TIME OF SALE_B9                                     31209 non-null  uint8  \n 249 BUILDING CLASS AT TIME OF SALE_C0                                     31209 non-null  uint8  \n 250 BUILDING CLASS AT TIME OF SALE_C1                                     31209 non-null  uint8  \n 251 BUILDING CLASS AT TIME OF SALE_C2                                     31209 non-null  uint8  \n 252 BUILDING CLASS AT TIME OF SALE_C3                                     31209 non-null  uint8  \n 253 BUILDING CLASS AT TIME OF SALE_C4                                     31209 non-null  uint8  \n 254 BUILDING CLASS AT TIME OF SALE_C5                                     31209 non-null  uint8  \n 255 BUILDING CLASS AT TIME OF SALE_C6                                     31209 non-null  uint8  \n 256 BUILDING CLASS AT TIME OF SALE_C7                                     31209 non-null  uint8  \n 257 BUILDING CLASS AT TIME OF SALE_C9                                     31209 non-null  uint8  \n 258 BUILDING CLASS AT TIME OF SALE_CM                                     31209 non-null  uint8  \n 259 BUILDING CLASS AT TIME OF SALE_D1                                     31209 non-null  uint8  \n 260 BUILDING CLASS AT TIME OF SALE_D2                                     31209 non-null  uint8  \n 261 BUILDING CLASS AT TIME OF SALE_D3                                     31209 non-null  uint8  \n 262 BUILDING CLASS AT TIME OF SALE_D4                                     31209 non-null  uint8  \n 263 BUILDING CLASS AT TIME OF SALE_D5                                     31209 non-null  uint8  \n 264 BUILDING CLASS AT TIME OF SALE_D6                                     31209 non-null  uint8  \n 265 BUILDING CLASS AT TIME OF SALE_D7                                     31209 non-null  uint8  \n 266 BUILDING CLASS AT TIME OF SALE_D9                                     31209 non-null  uint8  \n 267 BUILDING CLASS AT TIME OF SALE_E1                                     31209 non-null  uint8  \n 268 BUILDING CLASS AT TIME OF SALE_E2                                     31209 non-null  uint8  \n 269 BUILDING CLASS AT TIME OF SALE_E7                                     31209 non-null  uint8  \n 270 BUILDING CLASS AT TIME OF SALE_E9                                     31209 non-null  uint8  \n 271 BUILDING CLASS AT TIME OF SALE_F1                                     31209 non-null  uint8  \n 272 BUILDING CLASS AT TIME OF SALE_F2                                     31209 non-null  uint8  \n 273 BUILDING CLASS AT TIME OF SALE_F4                                     31209 non-null  uint8  \n 274 BUILDING CLASS AT TIME OF SALE_F5                                     31209 non-null  uint8  \n 275 BUILDING CLASS AT TIME OF SALE_F9                                     31209 non-null  uint8  \n 276 BUILDING CLASS AT TIME OF SALE_G0                                     31209 non-null  uint8  \n 277 BUILDING CLASS AT TIME OF SALE_G1                                     31209 non-null  uint8  \n 278 BUILDING CLASS AT TIME OF SALE_G2                                     31209 non-null  uint8  \n 279 BUILDING CLASS AT TIME OF SALE_G4                                     31209 non-null  uint8  \n 280 BUILDING CLASS AT TIME OF SALE_G5                                     31209 non-null  uint8  \n 281 BUILDING CLASS AT TIME OF SALE_G6                                     31209 non-null  uint8  \n 282 BUILDING CLASS AT TIME OF SALE_G7                                     31209 non-null  uint8  \n 283 BUILDING CLASS AT TIME OF SALE_G8                                     31209 non-null  uint8  \n 284 BUILDING CLASS AT TIME OF SALE_G9                                     31209 non-null  uint8  \n 285 BUILDING CLASS AT TIME OF SALE_GU                                     31209 non-null  uint8  \n 286 BUILDING CLASS AT TIME OF SALE_GW                                     31209 non-null  uint8  \n 287 BUILDING CLASS AT TIME OF SALE_H1                                     31209 non-null  uint8  \n 288 BUILDING CLASS AT TIME OF SALE_H2                                     31209 non-null  uint8  \n 289 BUILDING CLASS AT TIME OF SALE_H3                                     31209 non-null  uint8  \n 290 BUILDING CLASS AT TIME OF SALE_H4                                     31209 non-null  uint8  \n 291 BUILDING CLASS AT TIME OF SALE_H6                                     31209 non-null  uint8  \n 292 BUILDING CLASS AT TIME OF SALE_H8                                     31209 non-null  uint8  \n 293 BUILDING CLASS AT TIME OF SALE_H9                                     31209 non-null  uint8  \n 294 BUILDING CLASS AT TIME OF SALE_HB                                     31209 non-null  uint8  \n 295 BUILDING CLASS AT TIME OF SALE_HH                                     31209 non-null  uint8  \n 296 BUILDING CLASS AT TIME OF SALE_HR                                     31209 non-null  uint8  \n 297 BUILDING CLASS AT TIME OF SALE_HS                                     31209 non-null  uint8  \n 298 BUILDING CLASS AT TIME OF SALE_I1                                     31209 non-null  uint8  \n 299 BUILDING CLASS AT TIME OF SALE_I3                                     31209 non-null  uint8  \n 300 BUILDING CLASS AT TIME OF SALE_I4                                     31209 non-null  uint8  \n 301 BUILDING CLASS AT TIME OF SALE_I5                                     31209 non-null  uint8  \n 302 BUILDING CLASS AT TIME OF SALE_I6                                     31209 non-null  uint8  \n 303 BUILDING CLASS AT TIME OF SALE_I7                                     31209 non-null  uint8  \n 304 BUILDING CLASS AT TIME OF SALE_I9                                     31209 non-null  uint8  \n 305 BUILDING CLASS AT TIME OF SALE_J1                                     31209 non-null  uint8  \n 306 BUILDING CLASS AT TIME OF SALE_J4                                     31209 non-null  uint8  \n 307 BUILDING CLASS AT TIME OF SALE_J8                                     31209 non-null  uint8  \n 308 BUILDING CLASS AT TIME OF SALE_J9                                     31209 non-null  uint8  \n 309 BUILDING CLASS AT TIME OF SALE_K1                                     31209 non-null  uint8  \n 310 BUILDING CLASS AT TIME OF SALE_K2                                     31209 non-null  uint8  \n 311 BUILDING CLASS AT TIME OF SALE_K3                                     31209 non-null  uint8  \n 312 BUILDING CLASS AT TIME OF SALE_K4                                     31209 non-null  uint8  \n 313 BUILDING CLASS AT TIME OF SALE_K5                                     31209 non-null  uint8  \n 314 BUILDING CLASS AT TIME OF SALE_K6                                     31209 non-null  uint8  \n 315 BUILDING CLASS AT TIME OF SALE_K7                                     31209 non-null  uint8  \n 316 BUILDING CLASS AT TIME OF SALE_K8                                     31209 non-null  uint8  \n 317 BUILDING CLASS AT TIME OF SALE_K9                                     31209 non-null  uint8  \n 318 BUILDING CLASS AT TIME OF SALE_L1                                     31209 non-null  uint8  \n 319 BUILDING CLASS AT TIME OF SALE_L3                                     31209 non-null  uint8  \n 320 BUILDING CLASS AT TIME OF SALE_L8                                     31209 non-null  uint8  \n 321 BUILDING CLASS AT TIME OF SALE_L9                                     31209 non-null  uint8  \n 322 BUILDING CLASS AT TIME OF SALE_M1                                     31209 non-null  uint8  \n 323 BUILDING CLASS AT TIME OF SALE_M2                                     31209 non-null  uint8  \n 324 BUILDING CLASS AT TIME OF SALE_M3                                     31209 non-null  uint8  \n 325 BUILDING CLASS AT TIME OF SALE_M4                                     31209 non-null  uint8  \n 326 BUILDING CLASS AT TIME OF SALE_M9                                     31209 non-null  uint8  \n 327 BUILDING CLASS AT TIME OF SALE_N2                                     31209 non-null  uint8  \n 328 BUILDING CLASS AT TIME OF SALE_N9                                     31209 non-null  uint8  \n 329 BUILDING CLASS AT TIME OF SALE_O1                                     31209 non-null  uint8  \n 330 BUILDING CLASS AT TIME OF SALE_O2                                     31209 non-null  uint8  \n 331 BUILDING CLASS AT TIME OF SALE_O3                                     31209 non-null  uint8  \n 332 BUILDING CLASS AT TIME OF SALE_O4                                     31209 non-null  uint8  \n 333 BUILDING CLASS AT TIME OF SALE_O5                                     31209 non-null  uint8  \n 334 BUILDING CLASS AT TIME OF SALE_O6                                     31209 non-null  uint8  \n 335 BUILDING CLASS AT TIME OF SALE_O7                                     31209 non-null  uint8  \n 336 BUILDING CLASS AT TIME OF SALE_O8                                     31209 non-null  uint8  \n 337 BUILDING CLASS AT TIME OF SALE_O9                                     31209 non-null  uint8  \n 338 BUILDING CLASS AT TIME OF SALE_P2                                     31209 non-null  uint8  \n 339 BUILDING CLASS AT TIME OF SALE_P5                                     31209 non-null  uint8  \n 340 BUILDING CLASS AT TIME OF SALE_P6                                     31209 non-null  uint8  \n 341 BUILDING CLASS AT TIME OF SALE_P8                                     31209 non-null  uint8  \n 342 BUILDING CLASS AT TIME OF SALE_P9                                     31209 non-null  uint8  \n 343 BUILDING CLASS AT TIME OF SALE_Q8                                     31209 non-null  uint8  \n 344 BUILDING CLASS AT TIME OF SALE_R0                                     31209 non-null  uint8  \n 345 BUILDING CLASS AT TIME OF SALE_R1                                     31209 non-null  uint8  \n 346 BUILDING CLASS AT TIME OF SALE_R2                                     31209 non-null  uint8  \n 347 BUILDING CLASS AT TIME OF SALE_R3                                     31209 non-null  uint8  \n 348 BUILDING CLASS AT TIME OF SALE_R4                                     31209 non-null  uint8  \n 349 BUILDING CLASS AT TIME OF SALE_R6                                     31209 non-null  uint8  \n 350 BUILDING CLASS AT TIME OF SALE_R8                                     31209 non-null  uint8  \n 351 BUILDING CLASS AT TIME OF SALE_R9                                     31209 non-null  uint8  \n 352 BUILDING CLASS AT TIME OF SALE_RA                                     31209 non-null  uint8  \n 353 BUILDING CLASS AT TIME OF SALE_RB                                     31209 non-null  uint8  \n 354 BUILDING CLASS AT TIME OF SALE_RG                                     31209 non-null  uint8  \n 355 BUILDING CLASS AT TIME OF SALE_RK                                     31209 non-null  uint8  \n 356 BUILDING CLASS AT TIME OF SALE_RP                                     31209 non-null  uint8  \n 357 BUILDING CLASS AT TIME OF SALE_RR                                     31209 non-null  uint8  \n 358 BUILDING CLASS AT TIME OF SALE_RS                                     31209 non-null  uint8  \n 359 BUILDING CLASS AT TIME OF SALE_RT                                     31209 non-null  uint8  \n 360 BUILDING CLASS AT TIME OF SALE_S0                                     31209 non-null  uint8  \n 361 BUILDING CLASS AT TIME OF SALE_S1                                     31209 non-null  uint8  \n 362 BUILDING CLASS AT TIME OF SALE_S2                                     31209 non-null  uint8  \n 363 BUILDING CLASS AT TIME OF SALE_S3                                     31209 non-null  uint8  \n 364 BUILDING CLASS AT TIME OF SALE_S4                                     31209 non-null  uint8  \n 365 BUILDING CLASS AT TIME OF SALE_S5                                     31209 non-null  uint8  \n 366 BUILDING CLASS AT TIME OF SALE_S9                                     31209 non-null  uint8  \n 367 BUILDING CLASS AT TIME OF SALE_V0                                     31209 non-null  uint8  \n 368 BUILDING CLASS AT TIME OF SALE_V1                                     31209 non-null  uint8  \n 369 BUILDING CLASS AT TIME OF SALE_V2                                     31209 non-null  uint8  \n 370 BUILDING CLASS AT TIME OF SALE_V9                                     31209 non-null  uint8  \n 371 BUILDING CLASS AT TIME OF SALE_W1                                     31209 non-null  uint8  \n 372 BUILDING CLASS AT TIME OF SALE_W2                                     31209 non-null  uint8  \n 373 BUILDING CLASS AT TIME OF SALE_W3                                     31209 non-null  uint8  \n 374 BUILDING CLASS AT TIME OF SALE_W4                                     31209 non-null  uint8  \n 375 BUILDING CLASS AT TIME OF SALE_W8                                     31209 non-null  uint8  \n 376 BUILDING CLASS AT TIME OF SALE_W9                                     31209 non-null  uint8  \n 377 BUILDING CLASS AT TIME OF SALE_Y1                                     31209 non-null  uint8  \n 378 BUILDING CLASS AT TIME OF SALE_Y3                                     31209 non-null  uint8  \n 379 BUILDING CLASS AT TIME OF SALE_Z0                                     31209 non-null  uint8  \n 380 BUILDING CLASS AT TIME OF SALE_Z9                                     31209 non-null  uint8  \ndtypes: float64(5), int64(5), uint8(371)\nmemory usage: 13.7+ MB\n"
     ]
    }
   ],
   "source": [
    "# One-hot encoding\n",
    "df = pd.get_dummies(df, columns = categorical_features)\n",
    "df.info(verbose = True, memory_usage = True, null_counts = True)"
   ]
  },
  {
   "source": [
    "# Regression"
   ],
   "cell_type": "markdown",
   "metadata": {}
  },
  {
   "cell_type": "code",
   "execution_count": 129,
   "metadata": {},
   "outputs": [
    {
     "output_type": "execute_result",
     "data": {
      "text/plain": [
       "9289"
      ]
     },
     "metadata": {},
     "execution_count": 129
    }
   ],
   "source": [
    "test_row_count = X_test.shape[0]\n",
    "test_row_count"
   ]
  },
  {
   "cell_type": "code",
   "execution_count": 130,
   "metadata": {},
   "outputs": [
    {
     "output_type": "execute_result",
     "data": {
      "text/plain": [
       "       0   \n",
       "train27858                                  0   \n",
       "train27860                                  0   \n",
       "train27861                                  0   \n",
       "train27863                                  0   \n",
       "\n",
       "            BUILDING CLASS AT TIME OF SALE_R8  \\\n",
       "id                                              \n",
       "train0                                      0   \n",
       "train1                                      0   \n",
       "train2                                      0   \n",
       "train3                                      0   \n",
       "train4                                      0   \n",
       "...                                       ...   \n",
       "train27857                                  0   \n",
       "train27858                                  0   \n",
       "train27860                                  0   \n",
       "train27861                                  0   \n",
       "train27863                                  0   \n",
       "\n",
       "            BUILDING CLASS AT TIME OF SALE_R9  \\\n",
       "id                                              \n",
       "train0                                      0   \n",
       "train1                                      0   \n",
       "train2                                      0   \n",
       "train3                                      0   \n",
       "train4                                      0   \n",
       "...                                       ...   \n",
       "train27857                                  0   \n",
       "train27858                                  0   \n",
       "train27860                                  0   \n",
       "train27861                                  0   \n",
       "train27863                                  0   \n",
       "\n",
       "            BUILDING CLASS AT TIME OF SALE_RA  \\\n",
       "id                                              \n",
       "train0                                      0   \n",
       "train1                                      0   \n",
       "train2                                      0   \n",
       "train3                                      0   \n",
       "train4                                      0   \n",
       "...                                       ...   \n",
       "train27857                                  0   \n",
       "train27858                                  0   \n",
       "train27860                                  0   \n",
       "train27861                                  0   \n",
       "train27863                                  0   \n",
       "\n",
       "            BUILDING CLASS AT TIME OF SALE_RB  \\\n",
       "id                                              \n",
       "train0                                      0   \n",
       "train1                                      0   \n",
       "train2                                      0   \n",
       "train3                                      0   \n",
       "train4                                      0   \n",
       "...                                       ...   \n",
       "train27857                                  0   \n",
       "train27858                                  0   \n",
       "train27860                                  0   \n",
       "train27861                                  0   \n",
       "train27863                                  0   \n",
       "\n",
       "            BUILDING CLASS AT TIME OF SALE_RG  \\\n",
       "id                                              \n",
       "train0                                      0   \n",
       "train1                                      0   \n",
       "train2                                      0   \n",
       "train3                                      0   \n",
       "train4                                      0   \n",
       "...                                       ...   \n",
       "train27857                                  0   \n",
       "train27858                                  0   \n",
       "train27860                                  0   \n",
       "train27861                                  0   \n",
       "train27863                                  0   \n",
       "\n",
       "            BUILDING CLASS AT TIME OF SALE_RK  \\\n",
       "id                                              \n",
       "train0                                      0   \n",
       "train1                                      0   \n",
       "train2                                      0   \n",
       "train3                                      0   \n",
       "train4                                      0   \n",
       "...                                       ...   \n",
       "train27857                                  0   \n",
       "train27858                                  0   \n",
       "train27860                                  0   \n",
       "train27861                                  0   \n",
       "train27863                                  0   \n",
       "\n",
       "            BUILDING CLASS AT TIME OF SALE_RP  \\\n",
       "id                                              \n",
       "train0                                      0   \n",
       "train1                                      0   \n",
       "train2                                      0   \n",
       "train3                                      0   \n",
       "train4                                      0   \n",
       "...                                       ...   \n",
       "train27857                                  0   \n",
       "train27858                                  0   \n",
       "train27860                                  0   \n",
       "train27861                                  0   \n",
       "train27863                                  0   \n",
       "\n",
       "            BUILDING CLASS AT TIME OF SALE_RR  \\\n",
       "id                                              \n",
       "train0                                      0   \n",
       "train1                                      0   \n",
       "train2                                      0   \n",
       "train3                                      0   \n",
       "train4                                      0   \n",
       "...                                       ...   \n",
       "train27857                                  0   \n",
       "train27858                                  0   \n",
       "train27860                                  0   \n",
       "train27861                                  0   \n",
       "train27863                                  0   \n",
       "\n",
       "            BUILDING CLASS AT TIME OF SALE_RS  \\\n",
       "id                                              \n",
       "train0                                      0   \n",
       "train1                                      0   \n",
       "train2                                      0   \n",
       "train3                                      0   \n",
       "train4                                      0   \n",
       "...                                       ...   \n",
       "train27857                                  0   \n",
       "train27858                                  0   \n",
       "train27860                                  0   \n",
       "train27861                                  0   \n",
       "train27863                                  0   \n",
       "\n",
       "            BUILDING CLASS AT TIME OF SALE_RT  \\\n",
       "id                                              \n",
       "train0                                      0   \n",
       "train1                                      0   \n",
       "train2                                      0   \n",
       "train3                                      0   \n",
       "train4                                      0   \n",
       "...                                       ...   \n",
       "train27857                                  0   \n",
       "train27858                                  0   \n",
       "train27860                                  0   \n",
       "train27861                                  0   \n",
       "train27863                                  0   \n",
       "\n",
       "            BUILDING CLASS AT TIME OF SALE_S0  \\\n",
       "id                                              \n",
       "train0                                      0   \n",
       "train1                                      0   \n",
       "train2                                      0   \n",
       "train3                                      0   \n",
       "train4                                      0   \n",
       "...                                       ...   \n",
       "train27857                                  0   \n",
       "train27858                                  0   \n",
       "train27860                                  0   \n",
       "train27861                                  0   \n",
       "train27863                                  0   \n",
       "\n",
       "            BUILDING CLASS AT TIME OF SALE_S1  \\\n",
       "id                                              \n",
       "train0                                      0   \n",
       "train1                                      0   \n",
       "train2                                      0   \n",
       "train3                                      0   \n",
       "train4                                      0   \n",
       "...                                       ...   \n",
       "train27857                                  0   \n",
       "train27858                                  0   \n",
       "train27860                                  0   \n",
       "train27861                                  0   \n",
       "train27863                                  0   \n",
       "\n",
       "            BUILDING CLASS AT TIME OF SALE_S2  \\\n",
       "id                                              \n",
       "train0                                      0   \n",
       "train1                                      0   \n",
       "train2                                      0   \n",
       "train3                                      0   \n",
       "train4                                      0   \n",
       "...                                       ...   \n",
       "train27857                                  0   \n",
       "train27858                                  0   \n",
       "train27860                                  0   \n",
       "train27861                                  0   \n",
       "train27863                                  0   \n",
       "\n",
       "            BUILDING CLASS AT TIME OF SALE_S3  \\\n",
       "id                                              \n",
       "train0                                      0   \n",
       "train1                                      0   \n",
       "train2                                      0   \n",
       "train3                                      0   \n",
       "train4                                      0   \n",
       "...                                       ...   \n",
       "train27857                                  0   \n",
       "train27858                                  0   \n",
       "train27860                                  0   \n",
       "train27861                                  0   \n",
       "train27863                                  0   \n",
       "\n",
       "            BUILDING CLASS AT TIME OF SALE_S4  \\\n",
       "id                                              \n",
       "train0                                      0   \n",
       "train1                                      0   \n",
       "train2                                      0   \n",
       "train3                                      0   \n",
       "train4                                      0   \n",
       "...                                       ...   \n",
       "train27857                                  0   \n",
       "train27858                                  0   \n",
       "train27860                                  0   \n",
       "train27861                                  0   \n",
       "train27863                                  0   \n",
       "\n",
       "            BUILDING CLASS AT TIME OF SALE_S5  \\\n",
       "id                                              \n",
       "train0                                      0   \n",
       "train1                                      0   \n",
       "train2                                      0   \n",
       "train3                                      0   \n",
       "train4                                      0   \n",
       "...                                       ...   \n",
       "train27857                                  0   \n",
       "train27858                                  0   \n",
       "train27860                                  0   \n",
       "train27861                                  0   \n",
       "train27863                                  0   \n",
       "\n",
       "            BUILDING CLASS AT TIME OF SALE_S9  \\\n",
       "id                                              \n",
       "train0                                      0   \n",
       "train1                                      0   \n",
       "train2                                      0   \n",
       "train3                                      0   \n",
       "train4                                      0   \n",
       "...                                       ...   \n",
       "train27857                                  0   \n",
       "train27858                                  0   \n",
       "train27860                                  0   \n",
       "train27861                                  0   \n",
       "train27863                                  0   \n",
       "\n",
       "            BUILDING CLASS AT TIME OF SALE_V0  \\\n",
       "id                                              \n",
       "train0                                      0   \n",
       "train1                                      0   \n",
       "train2                                      0   \n",
       "train3                                      0   \n",
       "train4                                      0   \n",
       "...                                       ...   \n",
       "train27857                                  0   \n",
       "train27858                                  0   \n",
       "train27860                                  0   \n",
       "train27861                                  0   \n",
       "train27863                                  0   \n",
       "\n",
       "            BUILDING CLASS AT TIME OF SALE_V1  \\\n",
       "id                                              \n",
       "train0                                      0   \n",
       "train1                                      0   \n",
       "train2                                      0   \n",
       "train3                                      0   \n",
       "train4                                      0   \n",
       "...                                       ...   \n",
       "train27857                                  0   \n",
       "train27858                                  0   \n",
       "train27860                                  0   \n",
       "train27861                                  0   \n",
       "train27863                                  0   \n",
       "\n",
       "            BUILDING CLASS AT TIME OF SALE_V2  \\\n",
       "id                                              \n",
       "train0                                      0   \n",
       "train1                                      0   \n",
       "train2                                      0   \n",
       "train3                                      0   \n",
       "train4                                      0   \n",
       "...                                       ...   \n",
       "train27857                                  0   \n",
       "train27858                                  0   \n",
       "train27860                                  0   \n",
       "train27861                                  0   \n",
       "train27863                                  0   \n",
       "\n",
       "            BUILDING CLASS AT TIME OF SALE_V9  \\\n",
       "id                                              \n",
       "train0                                      0   \n",
       "train1                                      0   \n",
       "train2                                      0   \n",
       "train3                                      0   \n",
       "train4                                      0   \n",
       "...                                       ...   \n",
       "train27857                                  0   \n",
       "train27858                                  0   \n",
       "train27860                                  0   \n",
       "train27861                                  0   \n",
       "train27863                                  0   \n",
       "\n",
       "            BUILDING CLASS AT TIME OF SALE_W1  \\\n",
       "id                                              \n",
       "train0                                      0   \n",
       "train1                                      0   \n",
       "train2                                      0   \n",
       "train3                                      0   \n",
       "train4                                      0   \n",
       "...                                       ...   \n",
       "train27857                                  0   \n",
       "train27858                                  0   \n",
       "train27860                                  0   \n",
       "train27861                                  0   \n",
       "train27863                                  0   \n",
       "\n",
       "            BUILDING CLASS AT TIME OF SALE_W2  \\\n",
       "id                                              \n",
       "train0                                      0   \n",
       "train1                                      0   \n",
       "train2                                      0   \n",
       "train3                                      0   \n",
       "train4                                      0   \n",
       "...                                       ...   \n",
       "train27857                                  0   \n",
       "train27858                                  0   \n",
       "train27860                                  0   \n",
       "train27861                                  0   \n",
       "train27863                                  0   \n",
       "\n",
       "            BUILDING CLASS AT TIME OF SALE_W3  \\\n",
       "id                                              \n",
       "train0                                      0   \n",
       "train1                                      0   \n",
       "train2                                      0   \n",
       "train3                                      0   \n",
       "train4                                      0   \n",
       "...                                       ...   \n",
       "train27857                                  0   \n",
       "train27858                                  0   \n",
       "train27860                                  0   \n",
       "train27861                                  0   \n",
       "train27863                                  0   \n",
       "\n",
       "            BUILDING CLASS AT TIME OF SALE_W4  \\\n",
       "id                                              \n",
       "train0                                      0   \n",
       "train1                                      0   \n",
       "train2                                      0   \n",
       "train3                                      0   \n",
       "train4                                      0   \n",
       "...                                       ...   \n",
       "train27857                                  0   \n",
       "train27858                                  0   \n",
       "train27860                                  0   \n",
       "train27861                                  0   \n",
       "train27863                                  0   \n",
       "\n",
       "            BUILDING CLASS AT TIME OF SALE_W8  \\\n",
       "id                                              \n",
       "train0                                      0   \n",
       "train1                                      0   \n",
       "train2                                      0   \n",
       "train3                                      0   \n",
       "train4                                      0   \n",
       "...                                       ...   \n",
       "train27857                                  0   \n",
       "train27858                                  0   \n",
       "train27860                                  0   \n",
       "train27861                                  0   \n",
       "train27863                                  0   \n",
       "\n",
       "            BUILDING CLASS AT TIME OF SALE_W9  \\\n",
       "id                                              \n",
       "train0                                      0   \n",
       "train1                                      0   \n",
       "train2                                      0   \n",
       "train3                                      0   \n",
       "train4                                      0   \n",
       "...                                       ...   \n",
       "train27857                                  0   \n",
       "train27858                                  0   \n",
       "train27860                                  0   \n",
       "train27861                                  0   \n",
       "train27863                                  0   \n",
       "\n",
       "            BUILDING CLASS AT TIME OF SALE_Y1  \\\n",
       "id                                              \n",
       "train0                                      0   \n",
       "train1                                      0   \n",
       "train2                                      0   \n",
       "train3                                      0   \n",
       "train4                                      0   \n",
       "...                                       ...   \n",
       "train27857                                  0   \n",
       "train27858                                  0   \n",
       "train27860                                  0   \n",
       "train27861                                  0   \n",
       "train27863                                  0   \n",
       "\n",
       "            BUILDING CLASS AT TIME OF SALE_Y3  \\\n",
       "id                                              \n",
       "train0                                      0   \n",
       "train1                                      0   \n",
       "train2                                      0   \n",
       "train3                                      0   \n",
       "train4                                      0   \n",
       "...                                       ...   \n",
       "train27857                                  0   \n",
       "train27858                                  0   \n",
       "train27860                                  0   \n",
       "train27861                                  0   \n",
       "train27863                                  0   \n",
       "\n",
       "            BUILDING CLASS AT TIME OF SALE_Z0  \\\n",
       "id                                              \n",
       "train0                                      0   \n",
       "train1                                      0   \n",
       "train2                                      0   \n",
       "train3                                      0   \n",
       "train4                                      0   \n",
       "...                                       ...   \n",
       "train27857                                  0   \n",
       "train27858                                  0   \n",
       "train27860                                  0   \n",
       "train27861                                  0   \n",
       "train27863                                  0   \n",
       "\n",
       "            BUILDING CLASS AT TIME OF SALE_Z9  \n",
       "id                                             \n",
       "train0                                      0  \n",
       "train1                                      0  \n",
       "train2                                      0  \n",
       "train3                                      0  \n",
       "train4                                      0  \n",
       "...                                       ...  \n",
       "train27857                                  0  \n",
       "train27858                                  0  \n",
       "train27860                                  0  \n",
       "train27861                                  0  \n",
       "train27863                                  0  \n",
       "\n",
       "[21920 rows x 380 columns]"
      ],
      "text/html": "<div>\n<style scoped>\n    .dataframe tbody tr th:only-of-type {\n        vertical-align: middle;\n    }\n\n    .dataframe tbody tr th {\n        vertical-align: top;\n    }\n\n    .dataframe thead th {\n        text-align: right;\n    }\n</style>\n<table border=\"1\" class=\"dataframe\">\n  <thead>\n    <tr style=\"text-align: right;\">\n      <th></th>\n      <th>RESIDENTIAL UNITS</th>\n      <th>COMMERCIAL UNITS</th>\n      <th>TOTAL UNITS</th>\n      <th>LAND SQUARE FEET</th>\n      <th>GROSS SQUARE FEET</th>\n      <th>YEAR BUILT</th>\n      <th>MEDIAN INCOME</th>\n      <th>MEAN INCOME</th>\n      <th>POPULATION</th>\n      <th>BOROUGH_1</th>\n      <th>BOROUGH_2</th>\n      <th>BOROUGH_3</th>\n      <th>BOROUGH_4</th>\n      <th>BOROUGH_5</th>\n      <th>ZIP CODE_10001</th>\n      <th>ZIP CODE_10002</th>\n      <th>ZIP CODE_10003</th>\n      <th>ZIP CODE_10004</th>\n      <th>ZIP CODE_10005</th>\n      <th>ZIP CODE_10006</th>\n      <th>ZIP CODE_10007</th>\n      <th>ZIP CODE_10009</th>\n      <th>ZIP CODE_10010</th>\n      <th>ZIP CODE_10011</th>\n      <th>ZIP CODE_10012</th>\n      <th>ZIP CODE_10013</th>\n      <th>ZIP CODE_10014</th>\n      <th>ZIP CODE_10016</th>\n      <th>ZIP CODE_10017</th>\n      <th>ZIP CODE_10018</th>\n      <th>ZIP CODE_10019</th>\n      <th>ZIP CODE_10021</th>\n      <th>ZIP CODE_10022</th>\n      <th>ZIP CODE_10023</th>\n      <th>ZIP CODE_10024</th>\n      <th>ZIP CODE_10025</th>\n      <th>ZIP CODE_10026</th>\n      <th>ZIP CODE_10027</th>\n      <th>ZIP CODE_10028</th>\n      <th>ZIP CODE_10029</th>\n      <th>ZIP CODE_10030</th>\n      <th>ZIP CODE_10031</th>\n      <th>ZIP CODE_10032</th>\n      <th>ZIP CODE_10033</th>\n      <th>ZIP CODE_10034</th>\n      <th>ZIP CODE_10035</th>\n      <th>ZIP CODE_10036</th>\n      <th>ZIP CODE_10037</th>\n      <th>ZIP CODE_10038</th>\n      <th>ZIP CODE_10039</th>\n      <th>ZIP CODE_10040</th>\n      <th>ZIP CODE_10044</th>\n      <th>ZIP CODE_10065</th>\n      <th>ZIP CODE_10075</th>\n      <th>ZIP CODE_10128</th>\n      <th>ZIP CODE_10301</th>\n      <th>ZIP CODE_10302</th>\n      <th>ZIP CODE_10303</th>\n      <th>ZIP CODE_10304</th>\n      <th>ZIP CODE_10305</th>\n      <th>ZIP CODE_10306</th>\n      <th>ZIP CODE_10307</th>\n      <th>ZIP CODE_10308</th>\n      <th>ZIP CODE_10309</th>\n      <th>ZIP CODE_10310</th>\n      <th>ZIP CODE_10312</th>\n      <th>ZIP CODE_10314</th>\n      <th>ZIP CODE_10451</th>\n      <th>ZIP CODE_10452</th>\n      <th>ZIP CODE_10453</th>\n      <th>ZIP CODE_10454</th>\n      <th>ZIP CODE_10455</th>\n      <th>ZIP CODE_10456</th>\n      <th>ZIP CODE_10457</th>\n      <th>ZIP CODE_10458</th>\n      <th>ZIP CODE_10459</th>\n      <th>ZIP CODE_10460</th>\n      <th>ZIP CODE_10461</th>\n      <th>ZIP CODE_10462</th>\n      <th>ZIP CODE_10463</th>\n      <th>ZIP CODE_10464</th>\n      <th>ZIP CODE_10465</th>\n      <th>ZIP CODE_10466</th>\n      <th>ZIP CODE_10467</th>\n      <th>ZIP CODE_10468</th>\n      <th>ZIP CODE_10469</th>\n      <th>ZIP CODE_10470</th>\n      <th>ZIP CODE_10471</th>\n      <th>ZIP CODE_10472</th>\n      <th>ZIP CODE_10473</th>\n      <th>ZIP CODE_10474</th>\n      <th>ZIP CODE_10475</th>\n      <th>ZIP CODE_10803</th>\n      <th>ZIP CODE_11001</th>\n      <th>ZIP CODE_11004</th>\n      <th>ZIP CODE_11005</th>\n      <th>ZIP CODE_11040</th>\n      <th>ZIP CODE_11101</th>\n      <th>ZIP CODE_11102</th>\n      <th>ZIP CODE_11103</th>\n      <th>ZIP CODE_11104</th>\n      <th>ZIP CODE_11105</th>\n      <th>ZIP CODE_11106</th>\n      <th>ZIP CODE_11201</th>\n      <th>ZIP CODE_11203</th>\n      <th>ZIP CODE_11204</th>\n      <th>ZIP CODE_11205</th>\n      <th>ZIP CODE_11206</th>\n      <th>ZIP CODE_11207</th>\n      <th>ZIP CODE_11208</th>\n      <th>ZIP CODE_11209</th>\n      <th>ZIP CODE_11210</th>\n      <th>ZIP CODE_11211</th>\n      <th>ZIP CODE_11212</th>\n      <th>ZIP CODE_11213</th>\n      <th>ZIP CODE_11214</th>\n      <th>ZIP CODE_11215</th>\n      <th>ZIP CODE_11216</th>\n      <th>ZIP CODE_11217</th>\n      <th>ZIP CODE_11218</th>\n      <th>ZIP CODE_11219</th>\n      <th>ZIP CODE_11220</th>\n      <th>ZIP CODE_11221</th>\n      <th>ZIP CODE_11222</th>\n      <th>ZIP CODE_11223</th>\n      <th>ZIP CODE_11224</th>\n      <th>ZIP CODE_11225</th>\n      <th>ZIP CODE_11226</th>\n      <th>ZIP CODE_11228</th>\n      <th>ZIP CODE_11229</th>\n      <th>ZIP CODE_11230</th>\n      <th>ZIP CODE_11231</th>\n      <th>ZIP CODE_11232</th>\n      <th>ZIP CODE_11233</th>\n      <th>ZIP CODE_11234</th>\n      <th>ZIP CODE_11235</th>\n      <th>ZIP CODE_11236</th>\n      <th>ZIP CODE_11237</th>\n      <th>ZIP CODE_11238</th>\n      <th>ZIP CODE_11239</th>\n      <th>ZIP CODE_11354</th>\n      <th>ZIP CODE_11355</th>\n      <th>ZIP CODE_11356</th>\n      <th>ZIP CODE_11357</th>\n      <th>ZIP CODE_11358</th>\n      <th>ZIP CODE_11360</th>\n      <th>ZIP CODE_11361</th>\n      <th>ZIP CODE_11362</th>\n      <th>ZIP CODE_11363</th>\n      <th>ZIP CODE_11364</th>\n      <th>ZIP CODE_11365</th>\n      <th>ZIP CODE_11366</th>\n      <th>ZIP CODE_11367</th>\n      <th>ZIP CODE_11368</th>\n      <th>ZIP CODE_11369</th>\n      <th>ZIP CODE_11370</th>\n      <th>ZIP CODE_11372</th>\n      <th>ZIP CODE_11373</th>\n      <th>ZIP CODE_11374</th>\n      <th>ZIP CODE_11375</th>\n      <th>ZIP CODE_11377</th>\n      <th>ZIP CODE_11378</th>\n      <th>ZIP CODE_11379</th>\n      <th>ZIP CODE_11385</th>\n      <th>ZIP CODE_11411</th>\n      <th>ZIP CODE_11412</th>\n      <th>ZIP CODE_11413</th>\n      <th>ZIP CODE_11414</th>\n      <th>ZIP CODE_11415</th>\n      <th>ZIP CODE_11416</th>\n      <th>ZIP CODE_11417</th>\n      <th>ZIP CODE_11418</th>\n      <th>ZIP CODE_11419</th>\n      <th>ZIP CODE_11420</th>\n      <th>ZIP CODE_11421</th>\n      <th>ZIP CODE_11422</th>\n      <th>ZIP CODE_11423</th>\n      <th>ZIP CODE_11426</th>\n      <th>ZIP CODE_11427</th>\n      <th>ZIP CODE_11428</th>\n      <th>ZIP CODE_11429</th>\n      <th>ZIP CODE_11432</th>\n      <th>ZIP CODE_11433</th>\n      <th>ZIP CODE_11434</th>\n      <th>ZIP CODE_11435</th>\n      <th>ZIP CODE_11436</th>\n      <th>ZIP CODE_11691</th>\n      <th>ZIP CODE_11692</th>\n      <th>ZIP CODE_11693</th>\n      <th>ZIP CODE_11694</th>\n      <th>BUILDING CLASS CATEGORY_01 ONE FAMILY DWELLINGS</th>\n      <th>BUILDING CLASS CATEGORY_02 TWO FAMILY DWELLINGS</th>\n      <th>BUILDING CLASS CATEGORY_03 THREE FAMILY DWELLINGS</th>\n      <th>BUILDING CLASS CATEGORY_04 TAX CLASS 1 CONDOS</th>\n      <th>BUILDING CLASS CATEGORY_05 TAX CLASS 1 VACANT LAND</th>\n      <th>BUILDING CLASS CATEGORY_06 TAX CLASS 1 - OTHER</th>\n      <th>BUILDING CLASS CATEGORY_07 RENTALS - WALKUP APARTMENTS</th>\n      <th>BUILDING CLASS CATEGORY_08 RENTALS - ELEVATOR APARTMENTS</th>\n      <th>BUILDING CLASS CATEGORY_09 COOPS - WALKUP APARTMENTS</th>\n      <th>BUILDING CLASS CATEGORY_10 COOPS - ELEVATOR APARTMENTS</th>\n      <th>BUILDING CLASS CATEGORY_11 SPECIAL CONDO BILLING LOTS</th>\n      <th>BUILDING CLASS CATEGORY_11A CONDO-RENTALS</th>\n      <th>BUILDING CLASS CATEGORY_12 CONDOS - WALKUP APARTMENTS</th>\n      <th>BUILDING CLASS CATEGORY_13 CONDOS - ELEVATOR APARTMENTS</th>\n      <th>BUILDING CLASS CATEGORY_14 RENTALS - 4-10 UNIT</th>\n      <th>BUILDING CLASS CATEGORY_15 CONDOS - 2-10 UNIT RESIDENTIAL</th>\n      <th>BUILDING CLASS CATEGORY_16 CONDOS - 2-10 UNIT WITH COMMERCIAL UNIT</th>\n      <th>BUILDING CLASS CATEGORY_17 CONDO COOPS</th>\n      <th>BUILDING CLASS CATEGORY_21 OFFICE BUILDINGS</th>\n      <th>BUILDING CLASS CATEGORY_22 STORE BUILDINGS</th>\n      <th>BUILDING CLASS CATEGORY_23 LOFT BUILDINGS</th>\n      <th>BUILDING CLASS CATEGORY_25 LUXURY HOTELS</th>\n      <th>BUILDING CLASS CATEGORY_26 OTHER HOTELS</th>\n      <th>BUILDING CLASS CATEGORY_27 FACTORIES</th>\n      <th>BUILDING CLASS CATEGORY_29 COMMERCIAL GARAGES</th>\n      <th>BUILDING CLASS CATEGORY_30 WAREHOUSES</th>\n      <th>BUILDING CLASS CATEGORY_31 COMMERCIAL VACANT LAND</th>\n      <th>BUILDING CLASS CATEGORY_32 HOSPITAL AND HEALTH FACILITIES</th>\n      <th>BUILDING CLASS CATEGORY_33 EDUCATIONAL FACILITIES</th>\n      <th>BUILDING CLASS CATEGORY_34 THEATRES</th>\n      <th>BUILDING CLASS CATEGORY_35 INDOOR PUBLIC AND CULTURAL FACILITIES</th>\n      <th>BUILDING CLASS CATEGORY_36 OUTDOOR RECREATIONAL FACILITIES</th>\n      <th>BUILDING CLASS CATEGORY_37 RELIGIOUS FACILITIES</th>\n      <th>BUILDING CLASS CATEGORY_38 ASYLUMS AND HOMES</th>\n      <th>BUILDING CLASS CATEGORY_40 SELECTED GOVERNMENTAL FACILITIES</th>\n      <th>BUILDING CLASS CATEGORY_41 TAX CLASS 4 - OTHER</th>\n      <th>BUILDING CLASS CATEGORY_42 CONDO CULTURAL/MEDICAL/EDUCATIONAL/ETC</th>\n      <th>BUILDING CLASS CATEGORY_43 CONDO OFFICE BUILDINGS</th>\n      <th>BUILDING CLASS CATEGORY_44 CONDO PARKING</th>\n      <th>BUILDING CLASS CATEGORY_46 CONDO STORE BUILDINGS</th>\n      <th>BUILDING CLASS CATEGORY_47 CONDO NON-BUSINESS STORAGE</th>\n      <th>BUILDING CLASS CATEGORY_48 CONDO TERRACES/GARDENS/CABANAS</th>\n      <th>TAX CLASS AT TIME OF SALE_1</th>\n      <th>TAX CLASS AT TIME OF SALE_2</th>\n      <th>TAX CLASS AT TIME OF SALE_4</th>\n      <th>BUILDING CLASS AT TIME OF SALE_A0</th>\n      <th>BUILDING CLASS AT TIME OF SALE_A1</th>\n      <th>BUILDING CLASS AT TIME OF SALE_A2</th>\n      <th>BUILDING CLASS AT TIME OF SALE_A3</th>\n      <th>BUILDING CLASS AT TIME OF SALE_A4</th>\n      <th>BUILDING CLASS AT TIME OF SALE_A5</th>\n      <th>BUILDING CLASS AT TIME OF SALE_A6</th>\n      <th>BUILDING CLASS AT TIME OF SALE_A7</th>\n      <th>BUILDING CLASS AT TIME OF SALE_A9</th>\n      <th>BUILDING CLASS AT TIME OF SALE_B1</th>\n      <th>BUILDING CLASS AT TIME OF SALE_B2</th>\n      <th>BUILDING CLASS AT TIME OF SALE_B3</th>\n      <th>BUILDING CLASS AT TIME OF SALE_B9</th>\n      <th>BUILDING CLASS AT TIME OF SALE_C0</th>\n      <th>BUILDING CLASS AT TIME OF SALE_C1</th>\n      <th>BUILDING CLASS AT TIME OF SALE_C2</th>\n      <th>BUILDING CLASS AT TIME OF SALE_C3</th>\n      <th>BUILDING CLASS AT TIME OF SALE_C4</th>\n      <th>BUILDING CLASS AT TIME OF SALE_C5</th>\n      <th>BUILDING CLASS AT TIME OF SALE_C6</th>\n      <th>BUILDING CLASS AT TIME OF SALE_C7</th>\n      <th>BUILDING CLASS AT TIME OF SALE_C9</th>\n      <th>BUILDING CLASS AT TIME OF SALE_CM</th>\n      <th>BUILDING CLASS AT TIME OF SALE_D1</th>\n      <th>BUILDING CLASS AT TIME OF SALE_D2</th>\n      <th>BUILDING CLASS AT TIME OF SALE_D3</th>\n      <th>BUILDING CLASS AT TIME OF SALE_D4</th>\n      <th>BUILDING CLASS AT TIME OF SALE_D5</th>\n      <th>BUILDING CLASS AT TIME OF SALE_D6</th>\n      <th>BUILDING CLASS AT TIME OF SALE_D7</th>\n      <th>BUILDING CLASS AT TIME OF SALE_D9</th>\n      <th>BUILDING CLASS AT TIME OF SALE_E1</th>\n      <th>BUILDING CLASS AT TIME OF SALE_E2</th>\n      <th>BUILDING CLASS AT TIME OF SALE_E7</th>\n      <th>BUILDING CLASS AT TIME OF SALE_E9</th>\n      <th>BUILDING CLASS AT TIME OF SALE_F1</th>\n      <th>BUILDING CLASS AT TIME OF SALE_F2</th>\n      <th>BUILDING CLASS AT TIME OF SALE_F4</th>\n      <th>BUILDING CLASS AT TIME OF SALE_F5</th>\n      <th>BUILDING CLASS AT TIME OF SALE_F9</th>\n      <th>BUILDING CLASS AT TIME OF SALE_G0</th>\n      <th>BUILDING CLASS AT TIME OF SALE_G1</th>\n      <th>BUILDING CLASS AT TIME OF SALE_G2</th>\n      <th>BUILDING CLASS AT TIME OF SALE_G4</th>\n      <th>BUILDING CLASS AT TIME OF SALE_G5</th>\n      <th>BUILDING CLASS AT TIME OF SALE_G6</th>\n      <th>BUILDING CLASS AT TIME OF SALE_G7</th>\n      <th>BUILDING CLASS AT TIME OF SALE_G8</th>\n      <th>BUILDING CLASS AT TIME OF SALE_G9</th>\n      <th>BUILDING CLASS AT TIME OF SALE_GU</th>\n      <th>BUILDING CLASS AT TIME OF SALE_GW</th>\n      <th>BUILDING CLASS AT TIME OF SALE_H1</th>\n      <th>BUILDING CLASS AT TIME OF SALE_H2</th>\n      <th>BUILDING CLASS AT TIME OF SALE_H3</th>\n      <th>BUILDING CLASS AT TIME OF SALE_H4</th>\n      <th>BUILDING CLASS AT TIME OF SALE_H6</th>\n      <th>BUILDING CLASS AT TIME OF SALE_H8</th>\n      <th>BUILDING CLASS AT TIME OF SALE_H9</th>\n      <th>BUILDING CLASS AT TIME OF SALE_HB</th>\n      <th>BUILDING CLASS AT TIME OF SALE_HH</th>\n      <th>BUILDING CLASS AT TIME OF SALE_HR</th>\n      <th>BUILDING CLASS AT TIME OF SALE_HS</th>\n      <th>BUILDING CLASS AT TIME OF SALE_I1</th>\n      <th>BUILDING CLASS AT TIME OF SALE_I3</th>\n      <th>BUILDING CLASS AT TIME OF SALE_I4</th>\n      <th>BUILDING CLASS AT TIME OF SALE_I5</th>\n      <th>BUILDING CLASS AT TIME OF SALE_I6</th>\n      <th>BUILDING CLASS AT TIME OF SALE_I7</th>\n      <th>BUILDING CLASS AT TIME OF SALE_I9</th>\n      <th>BUILDING CLASS AT TIME OF SALE_J1</th>\n      <th>BUILDING CLASS AT TIME OF SALE_J4</th>\n      <th>BUILDING CLASS AT TIME OF SALE_J8</th>\n      <th>BUILDING CLASS AT TIME OF SALE_J9</th>\n      <th>BUILDING CLASS AT TIME OF SALE_K1</th>\n      <th>BUILDING CLASS AT TIME OF SALE_K2</th>\n      <th>BUILDING CLASS AT TIME OF SALE_K3</th>\n      <th>BUILDING CLASS AT TIME OF SALE_K4</th>\n      <th>BUILDING CLASS AT TIME OF SALE_K5</th>\n      <th>BUILDING CLASS AT TIME OF SALE_K6</th>\n      <th>BUILDING CLASS AT TIME OF SALE_K7</th>\n      <th>BUILDING CLASS AT TIME OF SALE_K8</th>\n      <th>BUILDING CLASS AT TIME OF SALE_K9</th>\n      <th>BUILDING CLASS AT TIME OF SALE_L1</th>\n      <th>BUILDING CLASS AT TIME OF SALE_L3</th>\n      <th>BUILDING CLASS AT TIME OF SALE_L8</th>\n      <th>BUILDING CLASS AT TIME OF SALE_L9</th>\n      <th>BUILDING CLASS AT TIME OF SALE_M1</th>\n      <th>BUILDING CLASS AT TIME OF SALE_M2</th>\n      <th>BUILDING CLASS AT TIME OF SALE_M3</th>\n      <th>BUILDING CLASS AT TIME OF SALE_M4</th>\n      <th>BUILDING CLASS AT TIME OF SALE_M9</th>\n      <th>BUILDING CLASS AT TIME OF SALE_N2</th>\n      <th>BUILDING CLASS AT TIME OF SALE_N9</th>\n      <th>BUILDING CLASS AT TIME OF SALE_O1</th>\n      <th>BUILDING CLASS AT TIME OF SALE_O2</th>\n      <th>BUILDING CLASS AT TIME OF SALE_O3</th>\n      <th>BUILDING CLASS AT TIME OF SALE_O4</th>\n      <th>BUILDING CLASS AT TIME OF SALE_O5</th>\n      <th>BUILDING CLASS AT TIME OF SALE_O6</th>\n      <th>BUILDING CLASS AT TIME OF SALE_O7</th>\n      <th>BUILDING CLASS AT TIME OF SALE_O8</th>\n      <th>BUILDING CLASS AT TIME OF SALE_O9</th>\n      <th>BUILDING CLASS AT TIME OF SALE_P2</th>\n      <th>BUILDING CLASS AT TIME OF SALE_P5</th>\n      <th>BUILDING CLASS AT TIME OF SALE_P6</th>\n      <th>BUILDING CLASS AT TIME OF SALE_P8</th>\n      <th>BUILDING CLASS AT TIME OF SALE_P9</th>\n      <th>BUILDING CLASS AT TIME OF SALE_Q8</th>\n      <th>BUILDING CLASS AT TIME OF SALE_R0</th>\n      <th>BUILDING CLASS AT TIME OF SALE_R1</th>\n      <th>BUILDING CLASS AT TIME OF SALE_R2</th>\n      <th>BUILDING CLASS AT TIME OF SALE_R3</th>\n      <th>BUILDING CLASS AT TIME OF SALE_R4</th>\n      <th>BUILDING CLASS AT TIME OF SALE_R6</th>\n      <th>BUILDING CLASS AT TIME OF SALE_R8</th>\n      <th>BUILDING CLASS AT TIME OF SALE_R9</th>\n      <th>BUILDING CLASS AT TIME OF SALE_RA</th>\n      <th>BUILDING CLASS AT TIME OF SALE_RB</th>\n      <th>BUILDING CLASS AT TIME OF SALE_RG</th>\n      <th>BUILDING CLASS AT TIME OF SALE_RK</th>\n      <th>BUILDING CLASS AT TIME OF SALE_RP</th>\n      <th>BUILDING CLASS AT TIME OF SALE_RR</th>\n      <th>BUILDING CLASS AT TIME OF SALE_RS</th>\n      <th>BUILDING CLASS AT TIME OF SALE_RT</th>\n      <th>BUILDING CLASS AT TIME OF SALE_S0</th>\n      <th>BUILDING CLASS AT TIME OF SALE_S1</th>\n      <th>BUILDING CLASS AT TIME OF SALE_S2</th>\n      <th>BUILDING CLASS AT TIME OF SALE_S3</th>\n      <th>BUILDING CLASS AT TIME OF SALE_S4</th>\n      <th>BUILDING CLASS AT TIME OF SALE_S5</th>\n      <th>BUILDING CLASS AT TIME OF SALE_S9</th>\n      <th>BUILDING CLASS AT TIME OF SALE_V0</th>\n      <th>BUILDING CLASS AT TIME OF SALE_V1</th>\n      <th>BUILDING CLASS AT TIME OF SALE_V2</th>\n      <th>BUILDING CLASS AT TIME OF SALE_V9</th>\n      <th>BUILDING CLASS AT TIME OF SALE_W1</th>\n      <th>BUILDING CLASS AT TIME OF SALE_W2</th>\n      <th>BUILDING CLASS AT TIME OF SALE_W3</th>\n      <th>BUILDING CLASS AT TIME OF SALE_W4</th>\n      <th>BUILDING CLASS AT TIME OF SALE_W8</th>\n      <th>BUILDING CLASS AT TIME OF SALE_W9</th>\n      <th>BUILDING CLASS AT TIME OF SALE_Y1</th>\n      <th>BUILDING CLASS AT TIME OF SALE_Y3</th>\n      <th>BUILDING CLASS AT TIME OF SALE_Z0</th>\n      <th>BUILDING CLASS AT TIME OF SALE_Z9</th>\n    </tr>\n    <tr>\n      <th>id</th>\n      <th></th>\n      <th></th>\n      <th></th>\n      <th></th>\n      <th></th>\n      <th></th>\n      <th></th>\n      <th></th>\n      <th></th>\n      <th></th>\n      <th></th>\n      <th></th>\n      <th></th>\n      <th></th>\n      <th></th>\n      <th></th>\n      <th></th>\n      <th></th>\n      <th></th>\n      <th></th>\n      <th></th>\n      <th></th>\n      <th></th>\n      <th></th>\n      <th></th>\n      <th></th>\n      <th></th>\n      <th></th>\n      <th></th>\n      <th></th>\n      <th></th>\n      <th></th>\n      <th></th>\n      <th></th>\n      <th></th>\n      <th></th>\n      <th></th>\n      <th></th>\n      <th></th>\n      <th></th>\n      <th></th>\n      <th></th>\n      <th></th>\n      <th></th>\n      <th></th>\n      <th></th>\n      <th></th>\n      <th></th>\n      <th></th>\n      <th></th>\n      <th></th>\n      <th></th>\n      <th></th>\n      <th></th>\n      <th></th>\n      <th></th>\n      <th></th>\n      <th></th>\n      <th></th>\n      <th></th>\n      <th></th>\n      <th></th>\n      <th></th>\n      <th></th>\n      <th></th>\n      <th></th>\n      <th></th>\n      <th></th>\n      <th></th>\n      <th></th>\n      <th></th>\n      <th></th>\n      <th></th>\n      <th></th>\n      <th></th>\n      <th></th>\n      <th></th>\n      <th></th>\n      <th></th>\n      <th></th>\n      <th></th>\n      <th></th>\n      <th></th>\n      <th></th>\n      <th></th>\n      <th></th>\n      <th></th>\n      <th></th>\n      <th></th>\n      <th></th>\n      <th></th>\n      <th></th>\n      <th></th>\n      <th></th>\n      <th></th>\n      <th></th>\n      <th></th>\n      <th></th>\n      <th></th>\n      <th></th>\n      <th></th>\n      <th></th>\n      <th></th>\n      <th></th>\n      <th></th>\n      <th></th>\n      <th></th>\n      <th></th>\n      <th></th>\n      <th></th>\n      <th></th>\n      <th></th>\n      <th></th>\n      <th></th>\n      <th></th>\n      <th></th>\n      <th></th>\n      <th></th>\n      <th></th>\n      <th></th>\n      <th></th>\n      <th></th>\n      <th></th>\n      <th></th>\n      <th></th>\n      <th></th>\n      <th></th>\n      <th></th>\n      <th></th>\n      <th></th>\n      <th></th>\n      <th></th>\n      <th></th>\n      <th></th>\n      <th></th>\n      <th></th>\n      <th></th>\n      <th></th>\n      <th></th>\n      <th></th>\n      <th></th>\n      <th></th>\n      <th></th>\n      <th></th>\n      <th></th>\n      <th></th>\n      <th></th>\n      <th></th>\n      <th></th>\n      <th></th>\n      <th></th>\n      <th></th>\n      <th></th>\n      <th></th>\n      <th></th>\n      <th></th>\n      <th></th>\n      <th></th>\n      <th></th>\n      <th></th>\n      <th></th>\n      <th></th>\n      <th></th>\n      <th></th>\n      <th></th>\n      <th></th>\n      <th></th>\n      <th></th>\n      <th></th>\n      <th></th>\n      <th></th>\n      <th></th>\n      <th></th>\n      <th></th>\n      <th></th>\n      <th></th>\n      <th></th>\n      <th></th>\n      <th></th>\n      <th></th>\n      <th></th>\n      <th></th>\n      <th></th>\n      <th></th>\n      <th></th>\n      <th></th>\n      <th></th>\n      <th></th>\n      <th></th>\n      <th></th>\n      <th></th>\n      <th></th>\n      <th></th>\n      <th></th>\n      <th></th>\n      <th></th>\n      <th></th>\n      <th></th>\n      <th></th>\n      <th></th>\n      <th></th>\n      <th></th>\n      <th></th>\n      <th></th>\n      <th></th>\n      <th></th>\n      <th></th>\n      <th></th>\n      <th></th>\n      <th></th>\n      <th></th>\n      <th></th>\n      <th></th>\n      <th></th>\n      <th></th>\n      <th></th>\n      <th></th>\n      <th></th>\n      <th></th>\n      <th></th>\n      <th></th>\n      <th></th>\n      <th></th>\n      <th></th>\n      <th></th>\n      <th></th>\n      <th></th>\n      <th></th>\n      <th></th>\n      <th></th>\n      <th></th>\n      <th></th>\n      <th></th>\n      <th></th>\n      <th></th>\n      <th></th>\n      <th></th>\n      <th></th>\n      <th></th>\n      <th></th>\n      <th></th>\n      <th></th>\n      <th></th>\n      <th></th>\n      <th></th>\n      <th></th>\n      <th></th>\n      <th></th>\n      <th></th>\n      <th></th>\n      <th></th>\n      <th></th>\n      <th></th>\n      <th></th>\n      <th></th>\n      <th></th>\n      <th></th>\n      <th></th>\n      <th></th>\n      <th></th>\n      <th></th>\n      <th></th>\n      <th></th>\n      <th></th>\n      <th></th>\n      <th></th>\n      <th></th>\n      <th></th>\n      <th></th>\n      <th></th>\n      <th></th>\n      <th></th>\n      <th></th>\n      <th></th>\n      <th></th>\n      <th></th>\n      <th></th>\n      <th></th>\n      <th></th>\n      <th></th>\n      <th></th>\n      <th></th>\n      <th></th>\n      <th></th>\n      <th></th>\n      <th></th>\n      <th></th>\n      <th></th>\n      <th></th>\n      <th></th>\n      <th></th>\n      <th></th>\n      <th></th>\n      <th></th>\n      <th></th>\n      <th></th>\n      <th></th>\n      <th></th>\n      <th></th>\n      <th></th>\n      <th></th>\n      <th></th>\n      <th></th>\n      <th></th>\n      <th></th>\n      <th></th>\n      <th></th>\n      <th></th>\n      <th></th>\n      <th></th>\n      <th></th>\n      <th></th>\n      <th></th>\n      <th></th>\n      <th></th>\n      <th></th>\n      <th></th>\n      <th></th>\n      <th></th>\n      <th></th>\n      <th></th>\n      <th></th>\n      <th></th>\n      <th></th>\n      <th></th>\n      <th></th>\n      <th></th>\n      <th></th>\n      <th></th>\n      <th></th>\n      <th></th>\n      <th></th>\n      <th></th>\n      <th></th>\n      <th></th>\n      <th></th>\n      <th></th>\n      <th></th>\n      <th></th>\n      <th></th>\n      <th></th>\n      <th></th>\n      <th></th>\n      <th></th>\n      <th></th>\n      <th></th>\n      <th></th>\n      <th></th>\n      <th></th>\n      <th></th>\n      <th></th>\n      <th></th>\n      <th></th>\n      <th></th>\n      <th></th>\n      <th></th>\n      <th></th>\n      <th></th>\n      <th></th>\n      <th></th>\n      <th></th>\n      <th></th>\n      <th></th>\n      <th></th>\n      <th></th>\n      <th></th>\n      <th></th>\n      <th></th>\n      <th></th>\n      <th></th>\n      <th></th>\n      <th></th>\n      <th></th>\n      <th></th>\n      <th></th>\n      <th></th>\n      <th></th>\n      <th></th>\n      <th></th>\n      <th></th>\n    </tr>\n  </thead>\n  <tbody>\n    <tr>\n      <th>train0</th>\n      <td>1</td>\n      <td>0</td>\n      <td>1</td>\n      <td>2760.0</td>\n      <td>1056.0</td>\n      <td>1925</td>\n      <td>48469.7389</td>\n      <td>57368.0989</td>\n      <td>68662</td>\n      <td>0</td>\n      <td>1</td>\n      <td>0</td>\n      <td>0</td>\n      <td>0</td>\n      <td>0</td>\n      <td>0</td>\n      <td>0</td>\n      <td>0</td>\n      <td>0</td>\n      <td>0</td>\n      <td>0</td>\n      <td>0</td>\n      <td>0</td>\n      <td>0</td>\n      <td>0</td>\n      <td>0</td>\n      <td>0</td>\n      <td>0</td>\n      <td>0</td>\n      <td>0</td>\n      <td>0</td>\n      <td>0</td>\n      <td>0</td>\n      <td>0</td>\n      <td>0</td>\n      <td>0</td>\n      <td>0</td>\n      <td>0</td>\n      <td>0</td>\n      <td>0</td>\n      <td>0</td>\n      <td>0</td>\n      <td>0</td>\n      <td>0</td>\n      <td>0</td>\n      <td>0</td>\n      <td>0</td>\n      <td>0</td>\n      <td>0</td>\n      <td>0</td>\n      <td>0</td>\n      <td>0</td>\n      <td>0</td>\n      <td>0</td>\n      <td>0</td>\n      <td>0</td>\n      <td>0</td>\n      <td>0</td>\n      <td>0</td>\n      <td>0</td>\n      <td>0</td>\n      <td>0</td>\n      <td>0</td>\n      <td>0</td>\n      <td>0</td>\n      <td>0</td>\n      <td>0</td>\n      <td>0</td>\n      <td>0</td>\n      <td>0</td>\n      <td>0</td>\n      <td>0</td>\n      <td>0</td>\n      <td>0</td>\n      <td>0</td>\n      <td>0</td>\n      <td>0</td>\n      <td>0</td>\n      <td>0</td>\n      <td>0</td>\n      <td>0</td>\n      <td>0</td>\n      <td>1</td>\n      <td>0</td>\n      <td>0</td>\n      <td>0</td>\n      <td>0</td>\n      <td>0</td>\n      <td>0</td>\n      <td>0</td>\n      <td>0</td>\n      <td>0</td>\n      <td>0</td>\n      <td>0</td>\n      <td>0</td>\n      <td>0</td>\n      <td>0</td>\n      <td>0</td>\n      <td>0</td>\n      <td>0</td>\n      <td>0</td>\n      <td>0</td>\n      <td>0</td>\n      <td>0</td>\n      <td>0</td>\n      <td>0</td>\n      <td>0</td>\n      <td>0</td>\n      <td>0</td>\n      <td>0</td>\n      <td>0</td>\n      <td>0</td>\n      <td>0</td>\n      <td>0</td>\n      <td>0</td>\n      <td>0</td>\n      <td>0</td>\n      <td>0</td>\n      <td>0</td>\n      <td>0</td>\n      <td>0</td>\n      <td>0</td>\n      <td>0</td>\n      <td>0</td>\n      <td>0</td>\n      <td>0</td>\n      <td>0</td>\n      <td>0</td>\n      <td>0</td>\n      <td>0</td>\n      <td>0</td>\n      <td>0</td>\n      <td>0</td>\n      <td>0</td>\n      <td>0</td>\n      <td>0</td>\n      <td>0</td>\n      <td>0</td>\n      <td>0</td>\n      <td>0</td>\n      <td>0</td>\n      <td>0</td>\n      <td>0</td>\n      <td>0</td>\n      <td>0</td>\n      <td>0</td>\n      <td>0</td>\n      <td>0</td>\n      <td>0</td>\n      <td>0</td>\n      <td>0</td>\n      <td>0</td>\n      <td>0</td>\n      <td>0</td>\n      <td>0</td>\n      <td>0</td>\n      <td>0</td>\n      <td>0</td>\n      <td>0</td>\n      <td>0</td>\n      <td>0</td>\n      <td>0</td>\n      <td>0</td>\n      <td>0</td>\n      <td>0</td>\n      <td>0</td>\n      <td>0</td>\n      <td>0</td>\n      <td>0</td>\n      <td>0</td>\n      <td>0</td>\n      <td>0</td>\n      <td>0</td>\n      <td>0</td>\n      <td>0</td>\n      <td>0</td>\n      <td>0</td>\n      <td>0</td>\n      <td>0</td>\n      <td>0</td>\n      <td>0</td>\n      <td>0</td>\n      <td>0</td>\n      <td>0</td>\n      <td>0</td>\n      <td>0</td>\n      <td>0</td>\n      <td>0</td>\n      <td>0</td>\n      <td>0</td>\n      <td>1</td>\n      <td>0</td>\n      <td>0</td>\n      <td>0</td>\n      <td>0</td>\n      <td>0</td>\n      <td>0</td>\n      <td>0</td>\n      <td>0</td>\n      <td>0</td>\n      <td>0</td>\n      <td>0</td>\n      <td>0</td>\n      <td>0</td>\n      <td>0</td>\n      <td>0</td>\n      <td>0</td>\n      <td>0</td>\n      <td>0</td>\n      <td>0</td>\n      <td>0</td>\n      <td>0</td>\n      <td>0</td>\n      <td>0</td>\n      <td>0</td>\n      <td>0</td>\n      <td>0</td>\n      <td>0</td>\n      <td>0</td>\n      <td>0</td>\n      <td>0</td>\n      <td>0</td>\n      <td>0</td>\n      <td>0</td>\n      <td>0</td>\n      <td>0</td>\n      <td>0</td>\n      <td>0</td>\n      <td>0</td>\n      <td>0</td>\n      <td>0</td>\n      <td>0</td>\n      <td>1</td>\n      <td>0</td>\n      <td>0</td>\n      <td>0</td>\n      <td>1</td>\n      <td>0</td>\n      <td>0</td>\n      <td>0</td>\n      <td>0</td>\n      <td>0</td>\n      <td>0</td>\n      <td>0</td>\n      <td>0</td>\n      <td>0</td>\n      <td>0</td>\n      <td>0</td>\n      <td>0</td>\n      <td>0</td>\n      <td>0</td>\n      <td>0</td>\n      <td>0</td>\n      <td>0</td>\n      <td>0</td>\n      <td>0</td>\n      <td>0</td>\n      <td>0</td>\n      <td>0</td>\n      <td>0</td>\n      <td>0</td>\n      <td>0</td>\n      <td>0</td>\n      <td>0</td>\n      <td>0</td>\n      <td>0</td>\n      <td>0</td>\n      <td>0</td>\n      <td>0</td>\n      <td>0</td>\n      <td>0</td>\n      <td>0</td>\n      <td>0</td>\n      <td>0</td>\n      <td>0</td>\n      <td>0</td>\n      <td>0</td>\n      <td>0</td>\n      <td>0</td>\n      <td>0</td>\n      <td>0</td>\n      <td>0</td>\n      <td>0</td>\n      <td>0</td>\n      <td>0</td>\n      <td>0</td>\n      <td>0</td>\n      <td>0</td>\n      <td>0</td>\n      <td>0</td>\n      <td>0</td>\n      <td>0</td>\n      <td>0</td>\n      <td>0</td>\n      <td>0</td>\n      <td>0</td>\n      <td>0</td>\n      <td>0</td>\n      <td>0</td>\n      <td>0</td>\n      <td>0</td>\n      <td>0</td>\n      <td>0</td>\n      <td>0</td>\n      <td>0</td>\n      <td>0</td>\n      <td>0</td>\n      <td>0</td>\n      <td>0</td>\n      <td>0</td>\n      <td>0</td>\n      <td>0</td>\n      <td>0</td>\n      <td>0</td>\n      <td>0</td>\n      <td>0</td>\n      <td>0</td>\n      <td>0</td>\n      <td>0</td>\n      <td>0</td>\n      <td>0</td>\n      <td>0</td>\n      <td>0</td>\n      <td>0</td>\n      <td>0</td>\n      <td>0</td>\n      <td>0</td>\n      <td>0</td>\n      <td>0</td>\n      <td>0</td>\n      <td>0</td>\n      <td>0</td>\n      <td>0</td>\n      <td>0</td>\n      <td>0</td>\n      <td>0</td>\n      <td>0</td>\n      <td>0</td>\n      <td>0</td>\n      <td>0</td>\n      <td>0</td>\n      <td>0</td>\n      <td>0</td>\n      <td>0</td>\n      <td>0</td>\n      <td>0</td>\n      <td>0</td>\n      <td>0</td>\n      <td>0</td>\n      <td>0</td>\n      <td>0</td>\n      <td>0</td>\n      <td>0</td>\n      <td>0</td>\n      <td>0</td>\n      <td>0</td>\n      <td>0</td>\n      <td>0</td>\n      <td>0</td>\n      <td>0</td>\n      <td>0</td>\n      <td>0</td>\n      <td>0</td>\n      <td>0</td>\n      <td>0</td>\n      <td>0</td>\n      <td>0</td>\n      <td>0</td>\n      <td>0</td>\n      <td>0</td>\n      <td>0</td>\n      <td>0</td>\n      <td>0</td>\n      <td>0</td>\n      <td>0</td>\n      <td>0</td>\n      <td>0</td>\n      <td>0</td>\n      <td>0</td>\n      <td>0</td>\n    </tr>\n    <tr>\n      <th>train1</th>\n      <td>1</td>\n      <td>0</td>\n      <td>1</td>\n      <td>4317.0</td>\n      <td>2424.0</td>\n      <td>1960</td>\n      <td>67952.9473</td>\n      <td>77076.9976</td>\n      <td>81033</td>\n      <td>0</td>\n      <td>0</td>\n      <td>1</td>\n      <td>0</td>\n      <td>0</td>\n      <td>0</td>\n      <td>0</td>\n      <td>0</td>\n      <td>0</td>\n      <td>0</td>\n      <td>0</td>\n      <td>0</td>\n      <td>0</td>\n      <td>0</td>\n      <td>0</td>\n      <td>0</td>\n      <td>0</td>\n      <td>0</td>\n      <td>0</td>\n      <td>0</td>\n      <td>0</td>\n      <td>0</td>\n      <td>0</td>\n      <td>0</td>\n      <td>0</td>\n      <td>0</td>\n      <td>0</td>\n      <td>0</td>\n      <td>0</td>\n      <td>0</td>\n      <td>0</td>\n      <td>0</td>\n      <td>0</td>\n      <td>0</td>\n      <td>0</td>\n      <td>0</td>\n      <td>0</td>\n      <td>0</td>\n      <td>0</td>\n      <td>0</td>\n      <td>0</td>\n      <td>0</td>\n      <td>0</td>\n      <td>0</td>\n      <td>0</td>\n      <td>0</td>\n      <td>0</td>\n      <td>0</td>\n      <td>0</td>\n      <td>0</td>\n      <td>0</td>\n      <td>0</td>\n      <td>0</td>\n      <td>0</td>\n      <td>0</td>\n      <td>0</td>\n      <td>0</td>\n      <td>0</td>\n      <td>0</td>\n      <td>0</td>\n      <td>0</td>\n      <td>0</td>\n      <td>0</td>\n      <td>0</td>\n      <td>0</td>\n      <td>0</td>\n      <td>0</td>\n      <td>0</td>\n      <td>0</td>\n      <td>0</td>\n      <td>0</td>\n      <td>0</td>\n      <td>0</td>\n      <td>0</td>\n      <td>0</td>\n      <td>0</td>\n      <td>0</td>\n      <td>0</td>\n      <td>0</td>\n      <td>0</td>\n      <td>0</td>\n      <td>0</td>\n      <td>0</td>\n      <td>0</td>\n      <td>0</td>\n      <td>0</td>\n      <td>0</td>\n      <td>0</td>\n      <td>0</td>\n      <td>0</td>\n      <td>0</td>\n      <td>0</td>\n      <td>0</td>\n      <td>0</td>\n      <td>0</td>\n      <td>0</td>\n      <td>0</td>\n      <td>0</td>\n      <td>0</td>\n      <td>0</td>\n      <td>0</td>\n      <td>0</td>\n      <td>0</td>\n      <td>0</td>\n      <td>0</td>\n      <td>0</td>\n      <td>0</td>\n      <td>0</td>\n      <td>0</td>\n      <td>0</td>\n      <td>0</td>\n      <td>0</td>\n      <td>0</td>\n      <td>0</td>\n      <td>0</td>\n      <td>0</td>\n      <td>0</td>\n      <td>0</td>\n      <td>0</td>\n      <td>0</td>\n      <td>0</td>\n      <td>0</td>\n      <td>0</td>\n      <td>0</td>\n      <td>0</td>\n      <td>1</td>\n      <td>0</td>\n      <td>0</td>\n      <td>0</td>\n      <td>0</td>\n      <td>0</td>\n      <td>0</td>\n      <td>0</td>\n      <td>0</td>\n      <td>0</td>\n      <td>0</td>\n      <td>0</td>\n      <td>0</td>\n      <td>0</td>\n      <td>0</td>\n      <td>0</td>\n      <td>0</td>\n      <td>0</td>\n      <td>0</td>\n      <td>0</td>\n      <td>0</td>\n      <td>0</td>\n      <td>0</td>\n      <td>0</td>\n      <td>0</td>\n      <td>0</td>\n      <td>0</td>\n      <td>0</td>\n      <td>0</td>\n      <td>0</td>\n      <td>0</td>\n      <td>0</td>\n      <td>0</td>\n      <td>0</td>\n      <td>0</td>\n      <td>0</td>\n      <td>0</td>\n      <td>0</td>\n      <td>0</td>\n      <td>0</td>\n      <td>0</td>\n      <td>0</td>\n      <td>0</td>\n      <td>0</td>\n      <td>0</td>\n      <td>0</td>\n      <td>0</td>\n      <td>0</td>\n      <td>0</td>\n      <td>0</td>\n      <td>0</td>\n      <td>0</td>\n      <td>0</td>\n      <td>0</td>\n      <td>0</td>\n      <td>0</td>\n      <td>1</td>\n      <td>0</td>\n      <td>0</td>\n      <td>0</td>\n      <td>0</td>\n      <td>0</td>\n      <td>0</td>\n      <td>0</td>\n      <td>0</td>\n      <td>0</td>\n      <td>0</td>\n      <td>0</td>\n      <td>0</td>\n      <td>0</td>\n      <td>0</td>\n      <td>0</td>\n      <td>0</td>\n      <td>0</td>\n      <td>0</td>\n      <td>0</td>\n      <td>0</td>\n      <td>0</td>\n      <td>0</td>\n      <td>0</td>\n      <td>0</td>\n      <td>0</td>\n      <td>0</td>\n      <td>0</td>\n      <td>0</td>\n      <td>0</td>\n      <td>0</td>\n      <td>0</td>\n      <td>0</td>\n      <td>0</td>\n      <td>0</td>\n      <td>0</td>\n      <td>0</td>\n      <td>0</td>\n      <td>0</td>\n      <td>0</td>\n      <td>0</td>\n      <td>0</td>\n      <td>1</td>\n      <td>0</td>\n      <td>0</td>\n      <td>0</td>\n      <td>1</td>\n      <td>0</td>\n      <td>0</td>\n      <td>0</td>\n      <td>0</td>\n      <td>0</td>\n      <td>0</td>\n      <td>0</td>\n      <td>0</td>\n      <td>0</td>\n      <td>0</td>\n      <td>0</td>\n      <td>0</td>\n      <td>0</td>\n      <td>0</td>\n      <td>0</td>\n      <td>0</td>\n      <td>0</td>\n      <td>0</td>\n      <td>0</td>\n      <td>0</td>\n      <td>0</td>\n      <td>0</td>\n      <td>0</td>\n      <td>0</td>\n      <td>0</td>\n      <td>0</td>\n      <td>0</td>\n      <td>0</td>\n      <td>0</td>\n      <td>0</td>\n      <td>0</td>\n      <td>0</td>\n      <td>0</td>\n      <td>0</td>\n      <td>0</td>\n      <td>0</td>\n      <td>0</td>\n      <td>0</td>\n      <td>0</td>\n      <td>0</td>\n      <td>0</td>\n      <td>0</td>\n      <td>0</td>\n      <td>0</td>\n      <td>0</td>\n      <td>0</td>\n      <td>0</td>\n      <td>0</td>\n      <td>0</td>\n      <td>0</td>\n      <td>0</td>\n      <td>0</td>\n      <td>0</td>\n      <td>0</td>\n      <td>0</td>\n      <td>0</td>\n      <td>0</td>\n      <td>0</td>\n      <td>0</td>\n      <td>0</td>\n      <td>0</td>\n      <td>0</td>\n      <td>0</td>\n      <td>0</td>\n      <td>0</td>\n      <td>0</td>\n      <td>0</td>\n      <td>0</td>\n      <td>0</td>\n      <td>0</td>\n      <td>0</td>\n      <td>0</td>\n      <td>0</td>\n      <td>0</td>\n      <td>0</td>\n      <td>0</td>\n      <td>0</td>\n      <td>0</td>\n      <td>0</td>\n      <td>0</td>\n      <td>0</td>\n      <td>0</td>\n      <td>0</td>\n      <td>0</td>\n      <td>0</td>\n      <td>0</td>\n      <td>0</td>\n      <td>0</td>\n      <td>0</td>\n      <td>0</td>\n      <td>0</td>\n      <td>0</td>\n      <td>0</td>\n      <td>0</td>\n      <td>0</td>\n      <td>0</td>\n      <td>0</td>\n      <td>0</td>\n      <td>0</td>\n      <td>0</td>\n      <td>0</td>\n      <td>0</td>\n      <td>0</td>\n      <td>0</td>\n      <td>0</td>\n      <td>0</td>\n      <td>0</td>\n      <td>0</td>\n      <td>0</td>\n      <td>0</td>\n      <td>0</td>\n      <td>0</td>\n      <td>0</td>\n      <td>0</td>\n      <td>0</td>\n      <td>0</td>\n      <td>0</td>\n      <td>0</td>\n      <td>0</td>\n      <td>0</td>\n      <td>0</td>\n      <td>0</td>\n      <td>0</td>\n      <td>0</td>\n      <td>0</td>\n      <td>0</td>\n      <td>0</td>\n      <td>0</td>\n      <td>0</td>\n      <td>0</td>\n      <td>0</td>\n      <td>0</td>\n      <td>0</td>\n      <td>0</td>\n      <td>0</td>\n      <td>0</td>\n      <td>0</td>\n      <td>0</td>\n      <td>0</td>\n      <td>0</td>\n      <td>0</td>\n      <td>0</td>\n      <td>0</td>\n    </tr>\n    <tr>\n      <th>train2</th>\n      <td>1</td>\n      <td>0</td>\n      <td>1</td>\n      <td>1975.0</td>\n      <td>1460.0</td>\n      <td>1915</td>\n      <td>55000.8962</td>\n      <td>69161.9360</td>\n      <td>67349</td>\n      <td>0</td>\n      <td>0</td>\n      <td>1</td>\n      <td>0</td>\n      <td>0</td>\n      <td>0</td>\n      <td>0</td>\n      <td>0</td>\n      <td>0</td>\n      <td>0</td>\n      <td>0</td>\n      <td>0</td>\n      <td>0</td>\n      <td>0</td>\n      <td>0</td>\n      <td>0</td>\n      <td>0</td>\n      <td>0</td>\n      <td>0</td>\n      <td>0</td>\n      <td>0</td>\n      <td>0</td>\n      <td>0</td>\n      <td>0</td>\n      <td>0</td>\n      <td>0</td>\n      <td>0</td>\n      <td>0</td>\n      <td>0</td>\n      <td>0</td>\n      <td>0</td>\n      <td>0</td>\n      <td>0</td>\n      <td>0</td>\n      <td>0</td>\n      <td>0</td>\n      <td>0</td>\n      <td>0</td>\n      <td>0</td>\n      <td>0</td>\n      <td>0</td>\n      <td>0</td>\n      <td>0</td>\n      <td>0</td>\n      <td>0</td>\n      <td>0</td>\n      <td>0</td>\n      <td>0</td>\n      <td>0</td>\n      <td>0</td>\n      <td>0</td>\n      <td>0</td>\n      <td>0</td>\n      <td>0</td>\n      <td>0</td>\n      <td>0</td>\n      <td>0</td>\n      <td>0</td>\n      <td>0</td>\n      <td>0</td>\n      <td>0</td>\n      <td>0</td>\n      <td>0</td>\n      <td>0</td>\n      <td>0</td>\n      <td>0</td>\n      <td>0</td>\n      <td>0</td>\n      <td>0</td>\n      <td>0</td>\n      <td>0</td>\n      <td>0</td>\n      <td>0</td>\n      <td>0</td>\n      <td>0</td>\n      <td>0</td>\n      <td>0</td>\n      <td>0</td>\n      <td>0</td>\n      <td>0</td>\n      <td>0</td>\n      <td>0</td>\n      <td>0</td>\n      <td>0</td>\n      <td>0</td>\n      <td>0</td>\n      <td>0</td>\n      <td>0</td>\n      <td>0</td>\n      <td>0</td>\n      <td>0</td>\n      <td>0</td>\n      <td>0</td>\n      <td>0</td>\n      <td>0</td>\n      <td>0</td>\n      <td>0</td>\n      <td>0</td>\n      <td>0</td>\n      <td>0</td>\n      <td>0</td>\n      <td>0</td>\n      <td>1</td>\n      <td>0</td>\n      <td>0</td>\n      <td>0</td>\n      <td>0</td>\n      <td>0</td>\n      <td>0</td>\n      <td>0</td>\n      <td>0</td>\n      <td>0</td>\n      <td>0</td>\n      <td>0</td>\n      <td>0</td>\n      <td>0</td>\n      <td>0</td>\n      <td>0</td>\n      <td>0</td>\n      <td>0</td>\n      <td>0</td>\n      <td>0</td>\n      <td>0</td>\n      <td>0</td>\n      <td>0</td>\n      <td>0</td>\n      <td>0</td>\n      <td>0</td>\n      <td>0</td>\n      <td>0</td>\n      <td>0</td>\n      <td>0</td>\n      <td>0</td>\n      <td>0</td>\n      <td>0</td>\n      <td>0</td>\n      <td>0</td>\n      <td>0</td>\n      <td>0</td>\n      <td>0</td>\n      <td>0</td>\n      <td>0</td>\n      <td>0</td>\n      <td>0</td>\n      <td>0</td>\n      <td>0</td>\n      <td>0</td>\n      <td>0</td>\n      <td>0</td>\n      <td>0</td>\n      <td>0</td>\n      <td>0</td>\n      <td>0</td>\n      <td>0</td>\n      <td>0</td>\n      <td>0</td>\n      <td>0</td>\n      <td>0</td>\n      <td>0</td>\n      <td>0</td>\n      <td>0</td>\n      <td>0</td>\n      <td>0</td>\n      <td>0</td>\n      <td>0</td>\n      <td>0</td>\n      <td>0</td>\n      <td>0</td>\n      <td>0</td>\n      <td>0</td>\n      <td>0</td>\n      <td>0</td>\n      <td>0</td>\n      <td>0</td>\n      <td>0</td>\n      <td>0</td>\n      <td>0</td>\n      <td>0</td>\n      <td>0</td>\n      <td>0</td>\n      <td>0</td>\n      <td>1</td>\n      <td>0</td>\n      <td>0</td>\n      <td>0</td>\n      <td>0</td>\n      <td>0</td>\n      <td>0</td>\n      <td>0</td>\n      <td>0</td>\n      <td>0</td>\n      <td>0</td>\n      <td>0</td>\n      <td>0</td>\n      <td>0</td>\n      <td>0</td>\n      <td>0</td>\n      <td>0</td>\n      <td>0</td>\n      <td>0</td>\n      <td>0</td>\n      <td>0</td>\n      <td>0</td>\n      <td>0</td>\n      <td>0</td>\n      <td>0</td>\n      <td>0</td>\n      <td>0</td>\n      <td>0</td>\n      <td>0</td>\n      <td>0</td>\n      <td>0</td>\n      <td>0</td>\n      <td>0</td>\n      <td>0</td>\n      <td>0</td>\n      <td>0</td>\n      <td>0</td>\n      <td>0</td>\n      <td>0</td>\n      <td>0</td>\n      <td>0</td>\n      <td>0</td>\n      <td>1</td>\n      <td>0</td>\n      <td>0</td>\n      <td>0</td>\n      <td>1</td>\n      <td>0</td>\n      <td>0</td>\n      <td>0</td>\n      <td>0</td>\n      <td>0</td>\n      <td>0</td>\n      <td>0</td>\n      <td>0</td>\n      <td>0</td>\n      <td>0</td>\n      <td>0</td>\n      <td>0</td>\n      <td>0</td>\n      <td>0</td>\n      <td>0</td>\n      <td>0</td>\n      <td>0</td>\n      <td>0</td>\n      <td>0</td>\n      <td>0</td>\n      <td>0</td>\n      <td>0</td>\n      <td>0</td>\n      <td>0</td>\n      <td>0</td>\n      <td>0</td>\n      <td>0</td>\n      <td>0</td>\n      <td>0</td>\n      <td>0</td>\n      <td>0</td>\n      <td>0</td>\n      <td>0</td>\n      <td>0</td>\n      <td>0</td>\n      <td>0</td>\n      <td>0</td>\n      <td>0</td>\n      <td>0</td>\n      <td>0</td>\n      <td>0</td>\n      <td>0</td>\n      <td>0</td>\n      <td>0</td>\n      <td>0</td>\n      <td>0</td>\n      <td>0</td>\n      <td>0</td>\n      <td>0</td>\n      <td>0</td>\n      <td>0</td>\n      <td>0</td>\n      <td>0</td>\n      <td>0</td>\n      <td>0</td>\n      <td>0</td>\n      <td>0</td>\n      <td>0</td>\n      <td>0</td>\n      <td>0</td>\n      <td>0</td>\n      <td>0</td>\n      <td>0</td>\n      <td>0</td>\n      <td>0</td>\n      <td>0</td>\n      <td>0</td>\n      <td>0</td>\n      <td>0</td>\n      <td>0</td>\n      <td>0</td>\n      <td>0</td>\n      <td>0</td>\n      <td>0</td>\n      <td>0</td>\n      <td>0</td>\n      <td>0</td>\n      <td>0</td>\n      <td>0</td>\n      <td>0</td>\n      <td>0</td>\n      <td>0</td>\n      <td>0</td>\n      <td>0</td>\n      <td>0</td>\n      <td>0</td>\n      <td>0</td>\n      <td>0</td>\n      <td>0</td>\n      <td>0</td>\n      <td>0</td>\n      <td>0</td>\n      <td>0</td>\n      <td>0</td>\n      <td>0</td>\n      <td>0</td>\n      <td>0</td>\n      <td>0</td>\n      <td>0</td>\n      <td>0</td>\n      <td>0</td>\n      <td>0</td>\n      <td>0</td>\n      <td>0</td>\n      <td>0</td>\n      <td>0</td>\n      <td>0</td>\n      <td>0</td>\n      <td>0</td>\n      <td>0</td>\n      <td>0</td>\n      <td>0</td>\n      <td>0</td>\n      <td>0</td>\n      <td>0</td>\n      <td>0</td>\n      <td>0</td>\n      <td>0</td>\n      <td>0</td>\n      <td>0</td>\n      <td>0</td>\n      <td>0</td>\n      <td>0</td>\n      <td>0</td>\n      <td>0</td>\n      <td>0</td>\n      <td>0</td>\n      <td>0</td>\n      <td>0</td>\n      <td>0</td>\n      <td>0</td>\n      <td>0</td>\n      <td>0</td>\n      <td>0</td>\n      <td>0</td>\n      <td>0</td>\n      <td>0</td>\n      <td>0</td>\n      <td>0</td>\n      <td>0</td>\n      <td>0</td>\n      <td>0</td>\n      <td>0</td>\n    </tr>\n    <tr>\n      <th>train3</th>\n      <td>5</td>\n      <td>0</td>\n      <td>5</td>\n      <td>2200.0</td>\n      <td>7040.0</td>\n      <td>1930</td>\n      <td>61468.5107</td>\n      <td>79249.3305</td>\n      <td>49085</td>\n      <td>0</td>\n      <td>0</td>\n      <td>1</td>\n      <td>0</td>\n      <td>0</td>\n      <td>0</td>\n      <td>0</td>\n      <td>0</td>\n      <td>0</td>\n      <td>0</td>\n      <td>0</td>\n      <td>0</td>\n      <td>0</td>\n      <td>0</td>\n      <td>0</td>\n      <td>0</td>\n      <td>0</td>\n      <td>0</td>\n      <td>0</td>\n      <td>0</td>\n      <td>0</td>\n      <td>0</td>\n      <td>0</td>\n      <td>0</td>\n      <td>0</td>\n      <td>0</td>\n      <td>0</td>\n      <td>0</td>\n      <td>0</td>\n      <td>0</td>\n      <td>0</td>\n      <td>0</td>\n      <td>0</td>\n      <td>0</td>\n      <td>0</td>\n      <td>0</td>\n      <td>0</td>\n      <td>0</td>\n      <td>0</td>\n      <td>0</td>\n      <td>0</td>\n      <td>0</td>\n      <td>0</td>\n      <td>0</td>\n      <td>0</td>\n      <td>0</td>\n      <td>0</td>\n      <td>0</td>\n      <td>0</td>\n      <td>0</td>\n      <td>0</td>\n      <td>0</td>\n      <td>0</td>\n      <td>0</td>\n      <td>0</td>\n      <td>0</td>\n      <td>0</td>\n      <td>0</td>\n      <td>0</td>\n      <td>0</td>\n      <td>0</td>\n      <td>0</td>\n      <td>0</td>\n      <td>0</td>\n      <td>0</td>\n      <td>0</td>\n      <td>0</td>\n      <td>0</td>\n      <td>0</td>\n      <td>0</td>\n      <td>0</td>\n      <td>0</td>\n      <td>0</td>\n      <td>0</td>\n      <td>0</td>\n      <td>0</td>\n      <td>0</td>\n      <td>0</td>\n      <td>0</td>\n      <td>0</td>\n      <td>0</td>\n      <td>0</td>\n      <td>0</td>\n      <td>0</td>\n      <td>0</td>\n      <td>0</td>\n      <td>0</td>\n      <td>0</td>\n      <td>0</td>\n      <td>0</td>\n      <td>0</td>\n      <td>0</td>\n      <td>0</td>\n      <td>0</td>\n      <td>0</td>\n      <td>0</td>\n      <td>0</td>\n      <td>0</td>\n      <td>0</td>\n      <td>0</td>\n      <td>0</td>\n      <td>0</td>\n      <td>0</td>\n      <td>0</td>\n      <td>0</td>\n      <td>0</td>\n      <td>0</td>\n      <td>0</td>\n      <td>0</td>\n      <td>0</td>\n      <td>0</td>\n      <td>0</td>\n      <td>0</td>\n      <td>0</td>\n      <td>0</td>\n      <td>0</td>\n      <td>0</td>\n      <td>0</td>\n      <td>0</td>\n      <td>0</td>\n      <td>0</td>\n      <td>0</td>\n      <td>0</td>\n      <td>0</td>\n      <td>0</td>\n      <td>0</td>\n      <td>0</td>\n      <td>0</td>\n      <td>0</td>\n      <td>1</td>\n      <td>0</td>\n      <td>0</td>\n      <td>0</td>\n      <td>0</td>\n      <td>0</td>\n      <td>0</td>\n      <td>0</td>\n      <td>0</td>\n      <td>0</td>\n      <td>0</td>\n      <td>0</td>\n      <td>0</td>\n      <td>0</td>\n      <td>0</td>\n      <td>0</td>\n      <td>0</td>\n      <td>0</td>\n      <td>0</td>\n      <td>0</td>\n      <td>0</td>\n      <td>0</td>\n      <td>0</td>\n      <td>0</td>\n      <td>0</td>\n      <td>0</td>\n      <td>0</td>\n      <td>0</td>\n      <td>0</td>\n      <td>0</td>\n      <td>0</td>\n      <td>0</td>\n      <td>0</td>\n      <td>0</td>\n      <td>0</td>\n      <td>0</td>\n      <td>0</td>\n      <td>0</td>\n      <td>0</td>\n      <td>0</td>\n      <td>0</td>\n      <td>0</td>\n      <td>0</td>\n      <td>0</td>\n      <td>0</td>\n      <td>0</td>\n      <td>0</td>\n      <td>0</td>\n      <td>0</td>\n      <td>0</td>\n      <td>0</td>\n      <td>0</td>\n      <td>0</td>\n      <td>0</td>\n      <td>0</td>\n      <td>0</td>\n      <td>0</td>\n      <td>0</td>\n      <td>1</td>\n      <td>0</td>\n      <td>0</td>\n      <td>0</td>\n      <td>0</td>\n      <td>0</td>\n      <td>0</td>\n      <td>0</td>\n      <td>0</td>\n      <td>0</td>\n      <td>0</td>\n      <td>0</td>\n      <td>0</td>\n      <td>0</td>\n      <td>0</td>\n      <td>0</td>\n      <td>0</td>\n      <td>0</td>\n      <td>0</td>\n      <td>0</td>\n      <td>0</td>\n      <td>0</td>\n      <td>0</td>\n      <td>0</td>\n      <td>0</td>\n      <td>0</td>\n      <td>0</td>\n      <td>0</td>\n      <td>0</td>\n      <td>0</td>\n      <td>0</td>\n      <td>0</td>\n      <td>0</td>\n      <td>0</td>\n      <td>0</td>\n      <td>0</td>\n      <td>0</td>\n      <td>1</td>\n      <td>0</td>\n      <td>0</td>\n      <td>0</td>\n      <td>0</td>\n      <td>0</td>\n      <td>0</td>\n      <td>0</td>\n      <td>0</td>\n      <td>0</td>\n      <td>0</td>\n      <td>0</td>\n      <td>0</td>\n      <td>0</td>\n      <td>0</td>\n      <td>0</td>\n      <td>0</td>\n      <td>0</td>\n      <td>0</td>\n      <td>1</td>\n      <td>0</td>\n      <td>0</td>\n      <td>0</td>\n      <td>0</td>\n      <td>0</td>\n      <td>0</td>\n      <td>0</td>\n      <td>0</td>\n      <td>0</td>\n      <td>0</td>\n      <td>0</td>\n      <td>0</td>\n      <td>0</td>\n      <td>0</td>\n      <td>0</td>\n      <td>0</td>\n      <td>0</td>\n      <td>0</td>\n      <td>0</td>\n      <td>0</td>\n      <td>0</td>\n      <td>0</td>\n      <td>0</td>\n      <td>0</td>\n      <td>0</td>\n      <td>0</td>\n      <td>0</td>\n      <td>0</td>\n      <td>0</td>\n      <td>0</td>\n      <td>0</td>\n      <td>0</td>\n      <td>0</td>\n      <td>0</td>\n      <td>0</td>\n      <td>0</td>\n      <td>0</td>\n      <td>0</td>\n      <td>0</td>\n      <td>0</td>\n      <td>0</td>\n      <td>0</td>\n      <td>0</td>\n      <td>0</td>\n      <td>0</td>\n      <td>0</td>\n      <td>0</td>\n      <td>0</td>\n      <td>0</td>\n      <td>0</td>\n      <td>0</td>\n      <td>0</td>\n      <td>0</td>\n      <td>0</td>\n      <td>0</td>\n      <td>0</td>\n      <td>0</td>\n      <td>0</td>\n      <td>0</td>\n      <td>0</td>\n      <td>0</td>\n      <td>0</td>\n      <td>0</td>\n      <td>0</td>\n      <td>0</td>\n      <td>0</td>\n      <td>0</td>\n      <td>0</td>\n      <td>0</td>\n      <td>0</td>\n      <td>0</td>\n      <td>0</td>\n      <td>0</td>\n      <td>0</td>\n      <td>0</td>\n      <td>0</td>\n      <td>0</td>\n      <td>0</td>\n      <td>0</td>\n      <td>0</td>\n      <td>0</td>\n      <td>0</td>\n      <td>0</td>\n      <td>0</td>\n      <td>0</td>\n      <td>0</td>\n      <td>0</td>\n      <td>0</td>\n      <td>0</td>\n      <td>0</td>\n      <td>0</td>\n      <td>0</td>\n      <td>0</td>\n      <td>0</td>\n      <td>0</td>\n      <td>0</td>\n      <td>0</td>\n      <td>0</td>\n      <td>0</td>\n      <td>0</td>\n      <td>0</td>\n      <td>0</td>\n      <td>0</td>\n      <td>0</td>\n      <td>0</td>\n      <td>0</td>\n      <td>0</td>\n      <td>0</td>\n      <td>0</td>\n      <td>0</td>\n      <td>0</td>\n      <td>0</td>\n      <td>0</td>\n      <td>0</td>\n      <td>0</td>\n      <td>0</td>\n      <td>0</td>\n      <td>0</td>\n      <td>0</td>\n      <td>0</td>\n      <td>0</td>\n      <td>0</td>\n      <td>0</td>\n      <td>0</td>\n      <td>0</td>\n      <td>0</td>\n      <td>0</td>\n    </tr>\n    <tr>\n      <th>train4</th>\n      <td>2</td>\n      <td>0</td>\n      <td>2</td>\n      <td>2136.0</td>\n      <td>1272.0</td>\n      <td>1935</td>\n      <td>48469.7389</td>\n      <td>57368.0989</td>\n      <td>68662</td>\n      <td>0</td>\n      <td>1</td>\n      <td>0</td>\n      <td>0</td>\n      <td>0</td>\n      <td>0</td>\n      <td>0</td>\n      <td>0</td>\n      <td>0</td>\n      <td>0</td>\n      <td>0</td>\n      <td>0</td>\n      <td>0</td>\n      <td>0</td>\n      <td>0</td>\n      <td>0</td>\n      <td>0</td>\n      <td>0</td>\n      <td>0</td>\n      <td>0</td>\n      <td>0</td>\n      <td>0</td>\n      <td>0</td>\n      <td>0</td>\n      <td>0</td>\n      <td>0</td>\n      <td>0</td>\n      <td>0</td>\n      <td>0</td>\n      <td>0</td>\n      <td>0</td>\n      <td>0</td>\n      <td>0</td>\n      <td>0</td>\n      <td>0</td>\n      <td>0</td>\n      <td>0</td>\n      <td>0</td>\n      <td>0</td>\n      <td>0</td>\n      <td>0</td>\n      <td>0</td>\n      <td>0</td>\n      <td>0</td>\n      <td>0</td>\n      <td>0</td>\n      <td>0</td>\n      <td>0</td>\n      <td>0</td>\n      <td>0</td>\n      <td>0</td>\n      <td>0</td>\n      <td>0</td>\n      <td>0</td>\n      <td>0</td>\n      <td>0</td>\n      <td>0</td>\n      <td>0</td>\n      <td>0</td>\n      <td>0</td>\n      <td>0</td>\n      <td>0</td>\n      <td>0</td>\n      <td>0</td>\n      <td>0</td>\n      <td>0</td>\n      <td>0</td>\n      <td>0</td>\n      <td>0</td>\n      <td>0</td>\n      <td>0</td>\n      <td>0</td>\n      <td>0</td>\n      <td>1</td>\n      <td>0</td>\n      <td>0</td>\n      <td>0</td>\n      <td>0</td>\n      <td>0</td>\n      <td>0</td>\n      <td>0</td>\n      <td>0</td>\n      <td>0</td>\n      <td>0</td>\n      <td>0</td>\n      <td>0</td>\n      <td>0</td>\n      <td>0</td>\n      <td>0</td>\n      <td>0</td>\n      <td>0</td>\n      <td>0</td>\n      <td>0</td>\n      <td>0</td>\n      <td>0</td>\n      <td>0</td>\n      <td>0</td>\n      <td>0</td>\n      <td>0</td>\n      <td>0</td>\n      <td>0</td>\n      <td>0</td>\n      <td>0</td>\n      <td>0</td>\n      <td>0</td>\n      <td>0</td>\n      <td>0</td>\n      <td>0</td>\n      <td>0</td>\n      <td>0</td>\n      <td>0</td>\n      <td>0</td>\n      <td>0</td>\n      <td>0</td>\n      <td>0</td>\n      <td>0</td>\n      <td>0</td>\n      <td>0</td>\n      <td>0</td>\n      <td>0</td>\n      <td>0</td>\n      <td>0</td>\n      <td>0</td>\n      <td>0</td>\n      <td>0</td>\n      <td>0</td>\n      <td>0</td>\n      <td>0</td>\n      <td>0</td>\n      <td>0</td>\n      <td>0</td>\n      <td>0</td>\n      <td>0</td>\n      <td>0</td>\n      <td>0</td>\n      <td>0</td>\n      <td>0</td>\n      <td>0</td>\n      <td>0</td>\n      <td>0</td>\n      <td>0</td>\n      <td>0</td>\n      <td>0</td>\n      <td>0</td>\n      <td>0</td>\n      <td>0</td>\n      <td>0</td>\n      <td>0</td>\n      <td>0</td>\n      <td>0</td>\n      <td>0</td>\n      <td>0</td>\n      <td>0</td>\n      <td>0</td>\n      <td>0</td>\n      <td>0</td>\n      <td>0</td>\n      <td>0</td>\n      <td>0</td>\n      <td>0</td>\n      <td>0</td>\n      <td>0</td>\n      <td>0</td>\n      <td>0</td>\n      <td>0</td>\n      <td>0</td>\n      <td>0</td>\n      <td>0</td>\n      <td>0</td>\n      <td>0</td>\n      <td>0</td>\n      <td>0</td>\n      <td>0</td>\n      <td>0</td>\n      <td>0</td>\n      <td>0</td>\n      <td>0</td>\n      <td>0</td>\n      <td>0</td>\n      <td>0</td>\n      <td>0</td>\n      <td>0</td>\n      <td>1</td>\n      <td>0</td>\n      <td>0</td>\n      <td>0</td>\n      <td>0</td>\n      <td>0</td>\n      <td>0</td>\n      <td>0</td>\n      <td>0</td>\n      <td>0</td>\n      <td>0</td>\n      <td>0</td>\n      <td>0</td>\n      <td>0</td>\n      <td>0</td>\n      <td>0</td>\n      <td>0</td>\n      <td>0</td>\n      <td>0</td>\n      <td>0</td>\n      <td>0</td>\n      <td>0</td>\n      <td>0</td>\n      <td>0</td>\n      <td>0</td>\n      <td>0</td>\n      <td>0</td>\n      <td>0</td>\n      <td>0</td>\n      <td>0</td>\n      <td>0</td>\n      <td>0</td>\n      <td>0</td>\n      <td>0</td>\n      <td>0</td>\n      <td>0</td>\n      <td>0</td>\n      <td>0</td>\n      <td>0</td>\n      <td>0</td>\n      <td>0</td>\n      <td>1</td>\n      <td>0</td>\n      <td>0</td>\n      <td>0</td>\n      <td>0</td>\n      <td>0</td>\n      <td>0</td>\n      <td>0</td>\n      <td>0</td>\n      <td>0</td>\n      <td>0</td>\n      <td>0</td>\n      <td>1</td>\n      <td>0</td>\n      <td>0</td>\n      <td>0</td>\n      <td>0</td>\n      <td>0</td>\n      <td>0</td>\n      <td>0</td>\n      <td>0</td>\n      <td>0</td>\n      <td>0</td>\n      <td>0</td>\n      <td>0</td>\n      <td>0</td>\n      <td>0</td>\n      <td>0</td>\n      <td>0</td>\n      <td>0</td>\n      <td>0</td>\n      <td>0</td>\n      <td>0</td>\n      <td>0</td>\n      <td>0</td>\n      <td>0</td>\n      <td>0</td>\n      <td>0</td>\n      <td>0</td>\n      <td>0</td>\n      <td>0</td>\n      <td>0</td>\n      <td>0</td>\n      <td>0</td>\n      <td>0</td>\n      <td>0</td>\n      <td>0</td>\n      <td>0</td>\n      <td>0</td>\n      <td>0</td>\n      <td>0</td>\n      <td>0</td>\n      <td>0</td>\n      <td>0</td>\n      <td>0</td>\n      <td>0</td>\n      <td>0</td>\n      <td>0</td>\n      <td>0</td>\n      <td>0</td>\n      <td>0</td>\n      <td>0</td>\n      <td>0</td>\n      <td>0</td>\n      <td>0</td>\n      <td>0</td>\n      <td>0</td>\n      <td>0</td>\n      <td>0</td>\n      <td>0</td>\n      <td>0</td>\n      <td>0</td>\n      <td>0</td>\n      <td>0</td>\n      <td>0</td>\n      <td>0</td>\n      <td>0</td>\n      <td>0</td>\n      <td>0</td>\n      <td>0</td>\n      <td>0</td>\n      <td>0</td>\n      <td>0</td>\n      <td>0</td>\n      <td>0</td>\n      <td>0</td>\n      <td>0</td>\n      <td>0</td>\n      <td>0</td>\n      <td>0</td>\n      <td>0</td>\n      <td>0</td>\n      <td>0</td>\n      <td>0</td>\n      <td>0</td>\n      <td>0</td>\n      <td>0</td>\n      <td>0</td>\n      <td>0</td>\n      <td>0</td>\n      <td>0</td>\n      <td>0</td>\n      <td>0</td>\n      <td>0</td>\n      <td>0</td>\n      <td>0</td>\n      <td>0</td>\n      <td>0</td>\n      <td>0</td>\n      <td>0</td>\n      <td>0</td>\n      <td>0</td>\n      <td>0</td>\n      <td>0</td>\n      <td>0</td>\n      <td>0</td>\n      <td>0</td>\n      <td>0</td>\n      <td>0</td>\n      <td>0</td>\n      <td>0</td>\n      <td>0</td>\n      <td>0</td>\n      <td>0</td>\n      <td>0</td>\n      <td>0</td>\n      <td>0</td>\n      <td>0</td>\n      <td>0</td>\n      <td>0</td>\n      <td>0</td>\n      <td>0</td>\n      <td>0</td>\n      <td>0</td>\n      <td>0</td>\n      <td>0</td>\n      <td>0</td>\n      <td>0</td>\n      <td>0</td>\n      <td>0</td>\n      <td>0</td>\n      <td>0</td>\n      <td>0</td>\n      <td>0</td>\n      <td>0</td>\n      <td>0</td>\n      <td>0</td>\n      <td>0</td>\n    </tr>\n    <tr>\n      <th>...</th>\n      <td>...</td>\n      <td>...</td>\n      <td>...</td>\n      <td>...</td>\n      <td>...</td>\n      <td>...</td>\n      <td>...</td>\n      <td>...</td>\n      <td>...</td>\n      <td>...</td>\n      <td>...</td>\n      <td>...</td>\n      <td>...</td>\n      <td>...</td>\n      <td>...</td>\n      <td>...</td>\n      <td>...</td>\n      <td>...</td>\n      <td>...</td>\n      <td>...</td>\n      <td>...</td>\n      <td>...</td>\n      <td>...</td>\n      <td>...</td>\n      <td>...</td>\n      <td>...</td>\n      <td>...</td>\n      <td>...</td>\n      <td>...</td>\n      <td>...</td>\n      <td>...</td>\n      <td>...</td>\n      <td>...</td>\n      <td>...</td>\n      <td>...</td>\n      <td>...</td>\n      <td>...</td>\n      <td>...</td>\n      <td>...</td>\n      <td>...</td>\n      <td>...</td>\n      <td>...</td>\n      <td>...</td>\n      <td>...</td>\n      <td>...</td>\n      <td>...</td>\n      <td>...</td>\n      <td>...</td>\n      <td>...</td>\n      <td>...</td>\n      <td>...</td>\n      <td>...</td>\n      <td>...</td>\n      <td>...</td>\n      <td>...</td>\n      <td>...</td>\n      <td>...</td>\n      <td>...</td>\n      <td>...</td>\n      <td>...</td>\n      <td>...</td>\n      <td>...</td>\n      <td>...</td>\n      <td>...</td>\n      <td>...</td>\n      <td>...</td>\n      <td>...</td>\n      <td>...</td>\n      <td>...</td>\n      <td>...</td>\n      <td>...</td>\n      <td>...</td>\n      <td>...</td>\n      <td>...</td>\n      <td>...</td>\n      <td>...</td>\n      <td>...</td>\n      <td>...</td>\n      <td>...</td>\n      <td>...</td>\n      <td>...</td>\n      <td>...</td>\n      <td>...</td>\n      <td>...</td>\n      <td>...</td>\n      <td>...</td>\n      <td>...</td>\n      <td>...</td>\n      <td>...</td>\n      <td>...</td>\n      <td>...</td>\n      <td>...</td>\n      <td>...</td>\n      <td>...</td>\n      <td>...</td>\n      <td>...</td>\n      <td>...</td>\n      <td>...</td>\n      <td>...</td>\n      <td>...</td>\n      <td>...</td>\n      <td>...</td>\n      <td>...</td>\n      <td>...</td>\n      <td>...</td>\n      <td>...</td>\n      <td>...</td>\n      <td>...</td>\n      <td>...</td>\n      <td>...</td>\n      <td>...</td>\n      <td>...</td>\n      <td>...</td>\n      <td>...</td>\n      <td>...</td>\n      <td>...</td>\n      <td>...</td>\n      <td>...</td>\n      <td>...</td>\n      <td>...</td>\n      <td>...</td>\n      <td>...</td>\n      <td>...</td>\n      <td>...</td>\n      <td>...</td>\n      <td>...</td>\n      <td>...</td>\n      <td>...</td>\n      <td>...</td>\n      <td>...</td>\n      <td>...</td>\n      <td>...</td>\n      <td>...</td>\n      <td>...</td>\n      <td>...</td>\n      <td>...</td>\n      <td>...</td>\n      <td>...</td>\n      <td>...</td>\n      <td>...</td>\n      <td>...</td>\n      <td>...</td>\n      <td>...</td>\n      <td>...</td>\n      <td>...</td>\n      <td>...</td>\n      <td>...</td>\n      <td>...</td>\n      <td>...</td>\n      <td>...</td>\n      <td>...</td>\n      <td>...</td>\n      <td>...</td>\n      <td>...</td>\n      <td>...</td>\n      <td>...</td>\n      <td>...</td>\n      <td>...</td>\n      <td>...</td>\n      <td>...</td>\n      <td>...</td>\n      <td>...</td>\n      <td>...</td>\n      <td>...</td>\n      <td>...</td>\n      <td>...</td>\n      <td>...</td>\n      <td>...</td>\n      <td>...</td>\n      <td>...</td>\n      <td>...</td>\n      <td>...</td>\n      <td>...</td>\n      <td>...</td>\n      <td>...</td>\n      <td>...</td>\n      <td>...</td>\n      <td>...</td>\n      <td>...</td>\n      <td>...</td>\n      <td>...</td>\n      <td>...</td>\n      <td>...</td>\n      <td>...</td>\n      <td>...</td>\n      <td>...</td>\n      <td>...</td>\n      <td>...</td>\n      <td>...</td>\n      <td>...</td>\n      <td>...</td>\n      <td>...</td>\n      <td>...</td>\n      <td>...</td>\n      <td>...</td>\n      <td>...</td>\n      <td>...</td>\n      <td>...</td>\n      <td>...</td>\n      <td>...</td>\n      <td>...</td>\n      <td>...</td>\n      <td>...</td>\n      <td>...</td>\n      <td>...</td>\n      <td>...</td>\n      <td>...</td>\n      <td>...</td>\n      <td>...</td>\n      <td>...</td>\n      <td>...</td>\n      <td>...</td>\n      <td>...</td>\n      <td>...</td>\n      <td>...</td>\n      <td>...</td>\n      <td>...</td>\n      <td>...</td>\n      <td>...</td>\n      <td>...</td>\n      <td>...</td>\n      <td>...</td>\n      <td>...</td>\n      <td>...</td>\n      <td>...</td>\n      <td>...</td>\n      <td>...</td>\n      <td>...</td>\n      <td>...</td>\n      <td>...</td>\n      <td>...</td>\n      <td>...</td>\n      <td>...</td>\n      <td>...</td>\n      <td>...</td>\n      <td>...</td>\n      <td>...</td>\n      <td>...</td>\n      <td>...</td>\n      <td>...</td>\n      <td>...</td>\n      <td>...</td>\n      <td>...</td>\n      <td>...</td>\n      <td>...</td>\n      <td>...</td>\n      <td>...</td>\n      <td>...</td>\n      <td>...</td>\n      <td>...</td>\n      <td>...</td>\n      <td>...</td>\n      <td>...</td>\n      <td>...</td>\n      <td>...</td>\n      <td>...</td>\n      <td>...</td>\n      <td>...</td>\n      <td>...</td>\n      <td>...</td>\n      <td>...</td>\n      <td>...</td>\n      <td>...</td>\n      <td>...</td>\n      <td>...</td>\n      <td>...</td>\n      <td>...</td>\n      <td>...</td>\n      <td>...</td>\n      <td>...</td>\n      <td>...</td>\n      <td>...</td>\n      <td>...</td>\n      <td>...</td>\n      <td>...</td>\n      <td>...</td>\n      <td>...</td>\n      <td>...</td>\n      <td>...</td>\n      <td>...</td>\n      <td>...</td>\n      <td>...</td>\n      <td>...</td>\n      <td>...</td>\n      <td>...</td>\n      <td>...</td>\n      <td>...</td>\n      <td>...</td>\n      <td>...</td>\n      <td>...</td>\n      <td>...</td>\n      <td>...</td>\n      <td>...</td>\n      <td>...</td>\n      <td>...</td>\n      <td>...</td>\n      <td>...</td>\n      <td>...</td>\n      <td>...</td>\n      <td>...</td>\n      <td>...</td>\n      <td>...</td>\n      <td>...</td>\n      <td>...</td>\n      <td>...</td>\n      <td>...</td>\n      <td>...</td>\n      <td>...</td>\n      <td>...</td>\n      <td>...</td>\n      <td>...</td>\n      <td>...</td>\n      <td>...</td>\n      <td>...</td>\n      <td>...</td>\n      <td>...</td>\n      <td>...</td>\n      <td>...</td>\n      <td>...</td>\n      <td>...</td>\n      <td>...</td>\n      <td>...</td>\n      <td>...</td>\n      <td>...</td>\n      <td>...</td>\n      <td>...</td>\n      <td>...</td>\n      <td>...</td>\n      <td>...</td>\n      <td>...</td>\n      <td>...</td>\n      <td>...</td>\n      <td>...</td>\n      <td>...</td>\n      <td>...</td>\n      <td>...</td>\n      <td>...</td>\n      <td>...</td>\n      <td>...</td>\n      <td>...</td>\n      <td>...</td>\n      <td>...</td>\n      <td>...</td>\n      <td>...</td>\n      <td>...</td>\n      <td>...</td>\n      <td>...</td>\n      <td>...</td>\n      <td>...</td>\n      <td>...</td>\n      <td>...</td>\n      <td>...</td>\n      <td>...</td>\n      <td>...</td>\n      <td>...</td>\n      <td>...</td>\n      <td>...</td>\n      <td>...</td>\n      <td>...</td>\n      <td>...</td>\n      <td>...</td>\n      <td>...</td>\n      <td>...</td>\n      <td>...</td>\n      <td>...</td>\n      <td>...</td>\n      <td>...</td>\n      <td>...</td>\n      <td>...</td>\n      <td>...</td>\n      <td>...</td>\n      <td>...</td>\n      <td>...</td>\n      <td>...</td>\n      <td>...</td>\n      <td>...</td>\n      <td>...</td>\n      <td>...</td>\n      <td>...</td>\n      <td>...</td>\n    </tr>\n    <tr>\n      <th>train27857</th>\n      <td>2</td>\n      <td>0</td>\n      <td>2</td>\n      <td>1710.0</td>\n      <td>1944.0</td>\n      <td>1960</td>\n      <td>34729.0604</td>\n      <td>44634.0699</td>\n      <td>87324</td>\n      <td>0</td>\n      <td>0</td>\n      <td>1</td>\n      <td>0</td>\n      <td>0</td>\n      <td>0</td>\n      <td>0</td>\n      <td>0</td>\n      <td>0</td>\n      <td>0</td>\n      <td>0</td>\n      <td>0</td>\n      <td>0</td>\n      <td>0</td>\n      <td>0</td>\n      <td>0</td>\n      <td>0</td>\n      <td>0</td>\n      <td>0</td>\n      <td>0</td>\n      <td>0</td>\n      <td>0</td>\n      <td>0</td>\n      <td>0</td>\n      <td>0</td>\n      <td>0</td>\n      <td>0</td>\n      <td>0</td>\n      <td>0</td>\n      <td>0</td>\n      <td>0</td>\n      <td>0</td>\n      <td>0</td>\n      <td>0</td>\n      <td>0</td>\n      <td>0</td>\n      <td>0</td>\n      <td>0</td>\n      <td>0</td>\n      <td>0</td>\n      <td>0</td>\n      <td>0</td>\n      <td>0</td>\n      <td>0</td>\n      <td>0</td>\n      <td>0</td>\n      <td>0</td>\n      <td>0</td>\n      <td>0</td>\n      <td>0</td>\n      <td>0</td>\n      <td>0</td>\n      <td>0</td>\n      <td>0</td>\n      <td>0</td>\n      <td>0</td>\n      <td>0</td>\n      <td>0</td>\n      <td>0</td>\n      <td>0</td>\n      <td>0</td>\n      <td>0</td>\n      <td>0</td>\n      <td>0</td>\n      <td>0</td>\n      <td>0</td>\n      <td>0</td>\n      <td>0</td>\n      <td>0</td>\n      <td>0</td>\n      <td>0</td>\n      <td>0</td>\n      <td>0</td>\n      <td>0</td>\n      <td>0</td>\n      <td>0</td>\n      <td>0</td>\n      <td>0</td>\n      <td>0</td>\n      <td>0</td>\n      <td>0</td>\n      <td>0</td>\n      <td>0</td>\n      <td>0</td>\n      <td>0</td>\n      <td>0</td>\n      <td>0</td>\n      <td>0</td>\n      <td>0</td>\n      <td>0</td>\n      <td>0</td>\n      <td>0</td>\n      <td>0</td>\n      <td>0</td>\n      <td>0</td>\n      <td>0</td>\n      <td>0</td>\n      <td>0</td>\n      <td>0</td>\n      <td>1</td>\n      <td>0</td>\n      <td>0</td>\n      <td>0</td>\n      <td>0</td>\n      <td>0</td>\n      <td>0</td>\n      <td>0</td>\n      <td>0</td>\n      <td>0</td>\n      <td>0</td>\n      <td>0</td>\n      <td>0</td>\n      <td>0</td>\n      <td>0</td>\n      <td>0</td>\n      <td>0</td>\n      <td>0</td>\n      <td>0</td>\n      <td>0</td>\n      <td>0</td>\n      <td>0</td>\n      <td>0</td>\n      <td>0</td>\n      <td>0</td>\n      <td>0</td>\n      <td>0</td>\n      <td>0</td>\n      <td>0</td>\n      <td>0</td>\n      <td>0</td>\n      <td>0</td>\n      <td>0</td>\n      <td>0</td>\n      <td>0</td>\n      <td>0</td>\n      <td>0</td>\n      <td>0</td>\n      <td>0</td>\n      <td>0</td>\n      <td>0</td>\n      <td>0</td>\n      <td>0</td>\n      <td>0</td>\n      <td>0</td>\n      <td>0</td>\n      <td>0</td>\n      <td>0</td>\n      <td>0</td>\n      <td>0</td>\n      <td>0</td>\n      <td>0</td>\n      <td>0</td>\n      <td>0</td>\n      <td>0</td>\n      <td>0</td>\n      <td>0</td>\n      <td>0</td>\n      <td>0</td>\n      <td>0</td>\n      <td>0</td>\n      <td>0</td>\n      <td>0</td>\n      <td>0</td>\n      <td>0</td>\n      <td>0</td>\n      <td>0</td>\n      <td>0</td>\n      <td>0</td>\n      <td>0</td>\n      <td>0</td>\n      <td>0</td>\n      <td>0</td>\n      <td>0</td>\n      <td>0</td>\n      <td>0</td>\n      <td>0</td>\n      <td>0</td>\n      <td>0</td>\n      <td>0</td>\n      <td>0</td>\n      <td>0</td>\n      <td>0</td>\n      <td>1</td>\n      <td>0</td>\n      <td>0</td>\n      <td>0</td>\n      <td>0</td>\n      <td>0</td>\n      <td>0</td>\n      <td>0</td>\n      <td>0</td>\n      <td>0</td>\n      <td>0</td>\n      <td>0</td>\n      <td>0</td>\n      <td>0</td>\n      <td>0</td>\n      <td>0</td>\n      <td>0</td>\n      <td>0</td>\n      <td>0</td>\n      <td>0</td>\n      <td>0</td>\n      <td>0</td>\n      <td>0</td>\n      <td>0</td>\n      <td>0</td>\n      <td>0</td>\n      <td>0</td>\n      <td>0</td>\n      <td>0</td>\n      <td>0</td>\n      <td>0</td>\n      <td>0</td>\n      <td>0</td>\n      <td>0</td>\n      <td>0</td>\n      <td>0</td>\n      <td>0</td>\n      <td>0</td>\n      <td>0</td>\n      <td>0</td>\n      <td>0</td>\n      <td>1</td>\n      <td>0</td>\n      <td>0</td>\n      <td>0</td>\n      <td>0</td>\n      <td>0</td>\n      <td>0</td>\n      <td>0</td>\n      <td>0</td>\n      <td>0</td>\n      <td>0</td>\n      <td>0</td>\n      <td>0</td>\n      <td>0</td>\n      <td>0</td>\n      <td>1</td>\n      <td>0</td>\n      <td>0</td>\n      <td>0</td>\n      <td>0</td>\n      <td>0</td>\n      <td>0</td>\n      <td>0</td>\n      <td>0</td>\n      <td>0</td>\n      <td>0</td>\n      <td>0</td>\n      <td>0</td>\n      <td>0</td>\n      <td>0</td>\n      <td>0</td>\n      <td>0</td>\n      <td>0</td>\n      <td>0</td>\n      <td>0</td>\n      <td>0</td>\n      <td>0</td>\n      <td>0</td>\n      <td>0</td>\n      <td>0</td>\n      <td>0</td>\n      <td>0</td>\n      <td>0</td>\n      <td>0</td>\n      <td>0</td>\n      <td>0</td>\n      <td>0</td>\n      <td>0</td>\n      <td>0</td>\n      <td>0</td>\n      <td>0</td>\n      <td>0</td>\n      <td>0</td>\n      <td>0</td>\n      <td>0</td>\n      <td>0</td>\n      <td>0</td>\n      <td>0</td>\n      <td>0</td>\n      <td>0</td>\n      <td>0</td>\n      <td>0</td>\n      <td>0</td>\n      <td>0</td>\n      <td>0</td>\n      <td>0</td>\n      <td>0</td>\n      <td>0</td>\n      <td>0</td>\n      <td>0</td>\n      <td>0</td>\n      <td>0</td>\n      <td>0</td>\n      <td>0</td>\n      <td>0</td>\n      <td>0</td>\n      <td>0</td>\n      <td>0</td>\n      <td>0</td>\n      <td>0</td>\n      <td>0</td>\n      <td>0</td>\n      <td>0</td>\n      <td>0</td>\n      <td>0</td>\n      <td>0</td>\n      <td>0</td>\n      <td>0</td>\n      <td>0</td>\n      <td>0</td>\n      <td>0</td>\n      <td>0</td>\n      <td>0</td>\n      <td>0</td>\n      <td>0</td>\n      <td>0</td>\n      <td>0</td>\n      <td>0</td>\n      <td>0</td>\n      <td>0</td>\n      <td>0</td>\n      <td>0</td>\n      <td>0</td>\n      <td>0</td>\n      <td>0</td>\n      <td>0</td>\n      <td>0</td>\n      <td>0</td>\n      <td>0</td>\n      <td>0</td>\n      <td>0</td>\n      <td>0</td>\n      <td>0</td>\n      <td>0</td>\n      <td>0</td>\n      <td>0</td>\n      <td>0</td>\n      <td>0</td>\n      <td>0</td>\n      <td>0</td>\n      <td>0</td>\n      <td>0</td>\n      <td>0</td>\n      <td>0</td>\n      <td>0</td>\n      <td>0</td>\n      <td>0</td>\n      <td>0</td>\n      <td>0</td>\n      <td>0</td>\n      <td>0</td>\n      <td>0</td>\n      <td>0</td>\n      <td>0</td>\n      <td>0</td>\n      <td>0</td>\n      <td>0</td>\n      <td>0</td>\n      <td>0</td>\n      <td>0</td>\n      <td>0</td>\n      <td>0</td>\n      <td>0</td>\n      <td>0</td>\n      <td>0</td>\n      <td>0</td>\n      <td>0</td>\n      <td>0</td>\n    </tr>\n    <tr>\n      <th>train27858</th>\n      <td>0</td>\n      <td>1</td>\n      <td>1</td>\n      <td>4950.0</td>\n      <td>4900.0</td>\n      <td>1958</td>\n      <td>49978.8076</td>\n      <td>60262.6681</td>\n      <td>87015</td>\n      <td>0</td>\n      <td>0</td>\n      <td>0</td>\n      <td>1</td>\n      <td>0</td>\n      <td>0</td>\n      <td>0</td>\n      <td>0</td>\n      <td>0</td>\n      <td>0</td>\n      <td>0</td>\n      <td>0</td>\n      <td>0</td>\n      <td>0</td>\n      <td>0</td>\n      <td>0</td>\n      <td>0</td>\n      <td>0</td>\n      <td>0</td>\n      <td>0</td>\n      <td>0</td>\n      <td>0</td>\n      <td>0</td>\n      <td>0</td>\n      <td>0</td>\n      <td>0</td>\n      <td>0</td>\n      <td>0</td>\n      <td>0</td>\n      <td>0</td>\n      <td>0</td>\n      <td>0</td>\n      <td>0</td>\n      <td>0</td>\n      <td>0</td>\n      <td>0</td>\n      <td>0</td>\n      <td>0</td>\n      <td>0</td>\n      <td>0</td>\n      <td>0</td>\n      <td>0</td>\n      <td>0</td>\n      <td>0</td>\n      <td>0</td>\n      <td>0</td>\n      <td>0</td>\n      <td>0</td>\n      <td>0</td>\n      <td>0</td>\n      <td>0</td>\n      <td>0</td>\n      <td>0</td>\n      <td>0</td>\n      <td>0</td>\n      <td>0</td>\n      <td>0</td>\n      <td>0</td>\n      <td>0</td>\n      <td>0</td>\n      <td>0</td>\n      <td>0</td>\n      <td>0</td>\n      <td>0</td>\n      <td>0</td>\n      <td>0</td>\n      <td>0</td>\n      <td>0</td>\n      <td>0</td>\n      <td>0</td>\n      <td>0</td>\n      <td>0</td>\n      <td>0</td>\n      <td>0</td>\n      <td>0</td>\n      <td>0</td>\n      <td>0</td>\n      <td>0</td>\n      <td>0</td>\n      <td>0</td>\n      <td>0</td>\n      <td>0</td>\n      <td>0</td>\n      <td>0</td>\n      <td>0</td>\n      <td>0</td>\n      <td>0</td>\n      <td>0</td>\n      <td>0</td>\n      <td>0</td>\n      <td>0</td>\n      <td>0</td>\n      <td>0</td>\n      <td>0</td>\n      <td>0</td>\n      <td>0</td>\n      <td>0</td>\n      <td>0</td>\n      <td>0</td>\n      <td>0</td>\n      <td>0</td>\n      <td>0</td>\n      <td>0</td>\n      <td>0</td>\n      <td>0</td>\n      <td>0</td>\n      <td>0</td>\n      <td>0</td>\n      <td>0</td>\n      <td>0</td>\n      <td>0</td>\n      <td>0</td>\n      <td>0</td>\n      <td>0</td>\n      <td>0</td>\n      <td>0</td>\n      <td>0</td>\n      <td>0</td>\n      <td>0</td>\n      <td>0</td>\n      <td>0</td>\n      <td>0</td>\n      <td>0</td>\n      <td>0</td>\n      <td>0</td>\n      <td>0</td>\n      <td>0</td>\n      <td>0</td>\n      <td>0</td>\n      <td>0</td>\n      <td>0</td>\n      <td>0</td>\n      <td>0</td>\n      <td>0</td>\n      <td>0</td>\n      <td>0</td>\n      <td>0</td>\n      <td>0</td>\n      <td>0</td>\n      <td>0</td>\n      <td>0</td>\n      <td>0</td>\n      <td>0</td>\n      <td>0</td>\n      <td>0</td>\n      <td>0</td>\n      <td>0</td>\n      <td>0</td>\n      <td>0</td>\n      <td>0</td>\n      <td>0</td>\n      <td>1</td>\n      <td>0</td>\n      <td>0</td>\n      <td>0</td>\n      <td>0</td>\n      <td>0</td>\n      <td>0</td>\n      <td>0</td>\n      <td>0</td>\n      <td>0</td>\n      <td>0</td>\n      <td>0</td>\n      <td>0</td>\n      <td>0</td>\n      <td>0</td>\n      <td>0</td>\n      <td>0</td>\n      <td>0</td>\n      <td>0</td>\n      <td>0</td>\n      <td>0</td>\n      <td>0</td>\n      <td>0</td>\n      <td>0</td>\n      <td>0</td>\n      <td>0</td>\n      <td>0</td>\n      <td>0</td>\n      <td>0</td>\n      <td>0</td>\n      <td>0</td>\n      <td>0</td>\n      <td>0</td>\n      <td>0</td>\n      <td>0</td>\n      <td>0</td>\n      <td>0</td>\n      <td>0</td>\n      <td>0</td>\n      <td>0</td>\n      <td>0</td>\n      <td>0</td>\n      <td>0</td>\n      <td>0</td>\n      <td>0</td>\n      <td>0</td>\n      <td>0</td>\n      <td>0</td>\n      <td>0</td>\n      <td>0</td>\n      <td>0</td>\n      <td>0</td>\n      <td>0</td>\n      <td>1</td>\n      <td>0</td>\n      <td>0</td>\n      <td>0</td>\n      <td>0</td>\n      <td>0</td>\n      <td>0</td>\n      <td>0</td>\n      <td>0</td>\n      <td>0</td>\n      <td>0</td>\n      <td>0</td>\n      <td>0</td>\n      <td>0</td>\n      <td>0</td>\n      <td>0</td>\n      <td>0</td>\n      <td>0</td>\n      <td>0</td>\n      <td>0</td>\n      <td>0</td>\n      <td>1</td>\n      <td>0</td>\n      <td>0</td>\n      <td>0</td>\n      <td>0</td>\n      <td>0</td>\n      <td>0</td>\n      <td>0</td>\n      <td>0</td>\n      <td>0</td>\n      <td>0</td>\n      <td>0</td>\n      <td>0</td>\n      <td>0</td>\n      <td>0</td>\n      <td>0</td>\n      <td>0</td>\n      <td>0</td>\n      <td>0</td>\n      <td>0</td>\n      <td>0</td>\n      <td>0</td>\n      <td>0</td>\n      <td>0</td>\n      <td>0</td>\n      <td>0</td>\n      <td>0</td>\n      <td>0</td>\n      <td>0</td>\n      <td>0</td>\n      <td>0</td>\n      <td>0</td>\n      <td>0</td>\n      <td>0</td>\n      <td>0</td>\n      <td>0</td>\n      <td>0</td>\n      <td>0</td>\n      <td>1</td>\n      <td>0</td>\n      <td>0</td>\n      <td>0</td>\n      <td>0</td>\n      <td>0</td>\n      <td>0</td>\n      <td>0</td>\n      <td>0</td>\n      <td>0</td>\n      <td>0</td>\n      <td>0</td>\n      <td>0</td>\n      <td>0</td>\n      <td>0</td>\n      <td>0</td>\n      <td>0</td>\n      <td>0</td>\n      <td>0</td>\n      <td>0</td>\n      <td>0</td>\n      <td>0</td>\n      <td>0</td>\n      <td>0</td>\n      <td>0</td>\n      <td>0</td>\n      <td>0</td>\n      <td>0</td>\n      <td>0</td>\n      <td>0</td>\n      <td>0</td>\n      <td>0</td>\n      <td>0</td>\n      <td>0</td>\n      <td>0</td>\n      <td>0</td>\n      <td>0</td>\n      <td>0</td>\n      <td>0</td>\n      <td>0</td>\n      <td>0</td>\n      <td>0</td>\n      <td>0</td>\n      <td>0</td>\n      <td>0</td>\n      <td>0</td>\n      <td>0</td>\n      <td>0</td>\n      <td>0</td>\n      <td>0</td>\n      <td>0</td>\n      <td>0</td>\n      <td>0</td>\n      <td>0</td>\n      <td>0</td>\n      <td>0</td>\n      <td>0</td>\n      <td>0</td>\n      <td>0</td>\n      <td>0</td>\n      <td>0</td>\n      <td>0</td>\n      <td>0</td>\n      <td>0</td>\n      <td>0</td>\n      <td>0</td>\n      <td>0</td>\n      <td>0</td>\n      <td>0</td>\n      <td>0</td>\n      <td>0</td>\n      <td>0</td>\n      <td>0</td>\n      <td>0</td>\n      <td>0</td>\n      <td>0</td>\n      <td>0</td>\n      <td>0</td>\n      <td>0</td>\n      <td>0</td>\n      <td>0</td>\n      <td>0</td>\n      <td>0</td>\n      <td>0</td>\n      <td>0</td>\n      <td>0</td>\n      <td>0</td>\n      <td>0</td>\n      <td>0</td>\n      <td>0</td>\n      <td>0</td>\n      <td>0</td>\n      <td>0</td>\n      <td>0</td>\n      <td>0</td>\n      <td>0</td>\n      <td>0</td>\n      <td>0</td>\n      <td>0</td>\n      <td>0</td>\n      <td>0</td>\n      <td>0</td>\n      <td>0</td>\n      <td>0</td>\n      <td>0</td>\n      <td>0</td>\n      <td>0</td>\n      <td>0</td>\n    </tr>\n    <tr>\n      <th>train27860</th>\n      <td>1</td>\n      <td>0</td>\n      <td>1</td>\n      <td>4000.0</td>\n      <td>1768.0</td>\n      <td>1920</td>\n      <td>55200.2725</td>\n      <td>73658.3837</td>\n      <td>40169</td>\n      <td>0</td>\n      <td>0</td>\n      <td>1</td>\n      <td>0</td>\n      <td>0</td>\n      <td>0</td>\n      <td>0</td>\n      <td>0</td>\n      <td>0</td>\n      <td>0</td>\n      <td>0</td>\n      <td>0</td>\n      <td>0</td>\n      <td>0</td>\n      <td>0</td>\n      <td>0</td>\n      <td>0</td>\n      <td>0</td>\n      <td>0</td>\n      <td>0</td>\n      <td>0</td>\n      <td>0</td>\n      <td>0</td>\n      <td>0</td>\n      <td>0</td>\n      <td>0</td>\n      <td>0</td>\n      <td>0</td>\n      <td>0</td>\n      <td>0</td>\n      <td>0</td>\n      <td>0</td>\n      <td>0</td>\n      <td>0</td>\n      <td>0</td>\n      <td>0</td>\n      <td>0</td>\n      <td>0</td>\n      <td>0</td>\n      <td>0</td>\n      <td>0</td>\n      <td>0</td>\n      <td>0</td>\n      <td>0</td>\n      <td>0</td>\n      <td>0</td>\n      <td>0</td>\n      <td>0</td>\n      <td>0</td>\n      <td>0</td>\n      <td>0</td>\n      <td>0</td>\n      <td>0</td>\n      <td>0</td>\n      <td>0</td>\n      <td>0</td>\n      <td>0</td>\n      <td>0</td>\n      <td>0</td>\n      <td>0</td>\n      <td>0</td>\n      <td>0</td>\n      <td>0</td>\n      <td>0</td>\n      <td>0</td>\n      <td>0</td>\n      <td>0</td>\n      <td>0</td>\n      <td>0</td>\n      <td>0</td>\n      <td>0</td>\n      <td>0</td>\n      <td>0</td>\n      <td>0</td>\n      <td>0</td>\n      <td>0</td>\n      <td>0</td>\n      <td>0</td>\n      <td>0</td>\n      <td>0</td>\n      <td>0</td>\n      <td>0</td>\n      <td>0</td>\n      <td>0</td>\n      <td>0</td>\n      <td>0</td>\n      <td>0</td>\n      <td>0</td>\n      <td>0</td>\n      <td>0</td>\n      <td>0</td>\n      <td>0</td>\n      <td>0</td>\n      <td>0</td>\n      <td>0</td>\n      <td>0</td>\n      <td>0</td>\n      <td>0</td>\n      <td>0</td>\n      <td>0</td>\n      <td>0</td>\n      <td>0</td>\n      <td>0</td>\n      <td>0</td>\n      <td>0</td>\n      <td>0</td>\n      <td>0</td>\n      <td>0</td>\n      <td>0</td>\n      <td>0</td>\n      <td>0</td>\n      <td>0</td>\n      <td>0</td>\n      <td>0</td>\n      <td>0</td>\n      <td>0</td>\n      <td>0</td>\n      <td>0</td>\n      <td>0</td>\n      <td>1</td>\n      <td>0</td>\n      <td>0</td>\n      <td>0</td>\n      <td>0</td>\n      <td>0</td>\n      <td>0</td>\n      <td>0</td>\n      <td>0</td>\n      <td>0</td>\n      <td>0</td>\n      <td>0</td>\n      <td>0</td>\n      <td>0</td>\n      <td>0</td>\n      <td>0</td>\n      <td>0</td>\n      <td>0</td>\n      <td>0</td>\n      <td>0</td>\n      <td>0</td>\n      <td>0</td>\n      <td>0</td>\n      <td>0</td>\n      <td>0</td>\n      <td>0</td>\n      <td>0</td>\n      <td>0</td>\n      <td>0</td>\n      <td>0</td>\n      <td>0</td>\n      <td>0</td>\n      <td>0</td>\n      <td>0</td>\n      <td>0</td>\n      <td>0</td>\n      <td>0</td>\n      <td>0</td>\n      <td>0</td>\n      <td>0</td>\n      <td>0</td>\n      <td>0</td>\n      <td>0</td>\n      <td>0</td>\n      <td>0</td>\n      <td>0</td>\n      <td>0</td>\n      <td>0</td>\n      <td>0</td>\n      <td>0</td>\n      <td>0</td>\n      <td>0</td>\n      <td>0</td>\n      <td>0</td>\n      <td>0</td>\n      <td>0</td>\n      <td>0</td>\n      <td>0</td>\n      <td>0</td>\n      <td>0</td>\n      <td>0</td>\n      <td>0</td>\n      <td>1</td>\n      <td>0</td>\n      <td>0</td>\n      <td>0</td>\n      <td>0</td>\n      <td>0</td>\n      <td>0</td>\n      <td>0</td>\n      <td>0</td>\n      <td>0</td>\n      <td>0</td>\n      <td>0</td>\n      <td>0</td>\n      <td>0</td>\n      <td>0</td>\n      <td>0</td>\n      <td>0</td>\n      <td>0</td>\n      <td>0</td>\n      <td>0</td>\n      <td>0</td>\n      <td>0</td>\n      <td>0</td>\n      <td>0</td>\n      <td>0</td>\n      <td>0</td>\n      <td>0</td>\n      <td>0</td>\n      <td>0</td>\n      <td>0</td>\n      <td>0</td>\n      <td>0</td>\n      <td>0</td>\n      <td>0</td>\n      <td>0</td>\n      <td>0</td>\n      <td>0</td>\n      <td>0</td>\n      <td>0</td>\n      <td>0</td>\n      <td>0</td>\n      <td>0</td>\n      <td>1</td>\n      <td>0</td>\n      <td>0</td>\n      <td>0</td>\n      <td>1</td>\n      <td>0</td>\n      <td>0</td>\n      <td>0</td>\n      <td>0</td>\n      <td>0</td>\n      <td>0</td>\n      <td>0</td>\n      <td>0</td>\n      <td>0</td>\n      <td>0</td>\n      <td>0</td>\n      <td>0</td>\n      <td>0</td>\n      <td>0</td>\n      <td>0</td>\n      <td>0</td>\n      <td>0</td>\n      <td>0</td>\n      <td>0</td>\n      <td>0</td>\n      <td>0</td>\n      <td>0</td>\n      <td>0</td>\n      <td>0</td>\n      <td>0</td>\n      <td>0</td>\n      <td>0</td>\n      <td>0</td>\n      <td>0</td>\n      <td>0</td>\n      <td>0</td>\n      <td>0</td>\n      <td>0</td>\n      <td>0</td>\n      <td>0</td>\n      <td>0</td>\n      <td>0</td>\n      <td>0</td>\n      <td>0</td>\n      <td>0</td>\n      <td>0</td>\n      <td>0</td>\n      <td>0</td>\n      <td>0</td>\n      <td>0</td>\n      <td>0</td>\n      <td>0</td>\n      <td>0</td>\n      <td>0</td>\n      <td>0</td>\n      <td>0</td>\n      <td>0</td>\n      <td>0</td>\n      <td>0</td>\n      <td>0</td>\n      <td>0</td>\n      <td>0</td>\n      <td>0</td>\n      <td>0</td>\n      <td>0</td>\n      <td>0</td>\n      <td>0</td>\n      <td>0</td>\n      <td>0</td>\n      <td>0</td>\n      <td>0</td>\n      <td>0</td>\n      <td>0</td>\n      <td>0</td>\n      <td>0</td>\n      <td>0</td>\n      <td>0</td>\n      <td>0</td>\n      <td>0</td>\n      <td>0</td>\n      <td>0</td>\n      <td>0</td>\n      <td>0</td>\n      <td>0</td>\n      <td>0</td>\n      <td>0</td>\n      <td>0</td>\n      <td>0</td>\n      <td>0</td>\n      <td>0</td>\n      <td>0</td>\n      <td>0</td>\n      <td>0</td>\n      <td>0</td>\n      <td>0</td>\n      <td>0</td>\n      <td>0</td>\n      <td>0</td>\n      <td>0</td>\n      <td>0</td>\n      <td>0</td>\n      <td>0</td>\n      <td>0</td>\n      <td>0</td>\n      <td>0</td>\n      <td>0</td>\n      <td>0</td>\n      <td>0</td>\n      <td>0</td>\n      <td>0</td>\n      <td>0</td>\n      <td>0</td>\n      <td>0</td>\n      <td>0</td>\n      <td>0</td>\n      <td>0</td>\n      <td>0</td>\n      <td>0</td>\n      <td>0</td>\n      <td>0</td>\n      <td>0</td>\n      <td>0</td>\n      <td>0</td>\n      <td>0</td>\n      <td>0</td>\n      <td>0</td>\n      <td>0</td>\n      <td>0</td>\n      <td>0</td>\n      <td>0</td>\n      <td>0</td>\n      <td>0</td>\n      <td>0</td>\n      <td>0</td>\n      <td>0</td>\n      <td>0</td>\n      <td>0</td>\n      <td>0</td>\n      <td>0</td>\n      <td>0</td>\n      <td>0</td>\n      <td>0</td>\n      <td>0</td>\n      <td>0</td>\n      <td>0</td>\n      <td>0</td>\n      <td>0</td>\n      <td>0</td>\n    </tr>\n    <tr>\n      <th>train27861</th>\n      <td>1</td>\n      <td>0</td>\n      <td>1</td>\n      <td>2000.0</td>\n      <td>1036.0</td>\n      <td>1925</td>\n      <td>67952.9473</td>\n      <td>77076.9976</td>\n      <td>81033</td>\n      <td>0</td>\n      <td>0</td>\n      <td>1</td>\n      <td>0</td>\n      <td>0</td>\n      <td>0</td>\n      <td>0</td>\n      <td>0</td>\n      <td>0</td>\n      <td>0</td>\n      <td>0</td>\n      <td>0</td>\n      <td>0</td>\n      <td>0</td>\n      <td>0</td>\n      <td>0</td>\n      <td>0</td>\n      <td>0</td>\n      <td>0</td>\n      <td>0</td>\n      <td>0</td>\n      <td>0</td>\n      <td>0</td>\n      <td>0</td>\n      <td>0</td>\n      <td>0</td>\n      <td>0</td>\n      <td>0</td>\n      <td>0</td>\n      <td>0</td>\n      <td>0</td>\n      <td>0</td>\n      <td>0</td>\n      <td>0</td>\n      <td>0</td>\n      <td>0</td>\n      <td>0</td>\n      <td>0</td>\n      <td>0</td>\n      <td>0</td>\n      <td>0</td>\n      <td>0</td>\n      <td>0</td>\n      <td>0</td>\n      <td>0</td>\n      <td>0</td>\n      <td>0</td>\n      <td>0</td>\n      <td>0</td>\n      <td>0</td>\n      <td>0</td>\n      <td>0</td>\n      <td>0</td>\n      <td>0</td>\n      <td>0</td>\n      <td>0</td>\n      <td>0</td>\n      <td>0</td>\n      <td>0</td>\n      <td>0</td>\n      <td>0</td>\n      <td>0</td>\n      <td>0</td>\n      <td>0</td>\n      <td>0</td>\n      <td>0</td>\n      <td>0</td>\n      <td>0</td>\n      <td>0</td>\n      <td>0</td>\n      <td>0</td>\n      <td>0</td>\n      <td>0</td>\n      <td>0</td>\n      <td>0</td>\n      <td>0</td>\n      <td>0</td>\n      <td>0</td>\n      <td>0</td>\n      <td>0</td>\n      <td>0</td>\n      <td>0</td>\n      <td>0</td>\n      <td>0</td>\n      <td>0</td>\n      <td>0</td>\n      <td>0</td>\n      <td>0</td>\n      <td>0</td>\n      <td>0</td>\n      <td>0</td>\n      <td>0</td>\n      <td>0</td>\n      <td>0</td>\n      <td>0</td>\n      <td>0</td>\n      <td>0</td>\n      <td>0</td>\n      <td>0</td>\n      <td>0</td>\n      <td>0</td>\n      <td>0</td>\n      <td>0</td>\n      <td>0</td>\n      <td>0</td>\n      <td>0</td>\n      <td>0</td>\n      <td>0</td>\n      <td>0</td>\n      <td>0</td>\n      <td>0</td>\n      <td>0</td>\n      <td>0</td>\n      <td>0</td>\n      <td>0</td>\n      <td>0</td>\n      <td>0</td>\n      <td>0</td>\n      <td>0</td>\n      <td>0</td>\n      <td>0</td>\n      <td>0</td>\n      <td>0</td>\n      <td>0</td>\n      <td>0</td>\n      <td>1</td>\n      <td>0</td>\n      <td>0</td>\n      <td>0</td>\n      <td>0</td>\n      <td>0</td>\n      <td>0</td>\n      <td>0</td>\n      <td>0</td>\n      <td>0</td>\n      <td>0</td>\n      <td>0</td>\n      <td>0</td>\n      <td>0</td>\n      <td>0</td>\n      <td>0</td>\n      <td>0</td>\n      <td>0</td>\n      <td>0</td>\n      <td>0</td>\n      <td>0</td>\n      <td>0</td>\n      <td>0</td>\n      <td>0</td>\n      <td>0</td>\n      <td>0</td>\n      <td>0</td>\n      <td>0</td>\n      <td>0</td>\n      <td>0</td>\n      <td>0</td>\n      <td>0</td>\n      <td>0</td>\n      <td>0</td>\n      <td>0</td>\n      <td>0</td>\n      <td>0</td>\n      <td>0</td>\n      <td>0</td>\n      <td>0</td>\n      <td>0</td>\n      <td>0</td>\n      <td>0</td>\n      <td>0</td>\n      <td>0</td>\n      <td>0</td>\n      <td>0</td>\n      <td>0</td>\n      <td>0</td>\n      <td>0</td>\n      <td>0</td>\n      <td>0</td>\n      <td>0</td>\n      <td>0</td>\n      <td>0</td>\n      <td>0</td>\n      <td>1</td>\n      <td>0</td>\n      <td>0</td>\n      <td>0</td>\n      <td>0</td>\n      <td>0</td>\n      <td>0</td>\n      <td>0</td>\n      <td>0</td>\n      <td>0</td>\n      <td>0</td>\n      <td>0</td>\n      <td>0</td>\n      <td>0</td>\n      <td>0</td>\n      <td>0</td>\n      <td>0</td>\n      <td>0</td>\n      <td>0</td>\n      <td>0</td>\n      <td>0</td>\n      <td>0</td>\n      <td>0</td>\n      <td>0</td>\n      <td>0</td>\n      <td>0</td>\n      <td>0</td>\n      <td>0</td>\n      <td>0</td>\n      <td>0</td>\n      <td>0</td>\n      <td>0</td>\n      <td>0</td>\n      <td>0</td>\n      <td>0</td>\n      <td>0</td>\n      <td>0</td>\n      <td>0</td>\n      <td>0</td>\n      <td>0</td>\n      <td>0</td>\n      <td>0</td>\n      <td>1</td>\n      <td>0</td>\n      <td>0</td>\n      <td>0</td>\n      <td>0</td>\n      <td>0</td>\n      <td>0</td>\n      <td>0</td>\n      <td>0</td>\n      <td>0</td>\n      <td>0</td>\n      <td>1</td>\n      <td>0</td>\n      <td>0</td>\n      <td>0</td>\n      <td>0</td>\n      <td>0</td>\n      <td>0</td>\n      <td>0</td>\n      <td>0</td>\n      <td>0</td>\n      <td>0</td>\n      <td>0</td>\n      <td>0</td>\n      <td>0</td>\n      <td>0</td>\n      <td>0</td>\n      <td>0</td>\n      <td>0</td>\n      <td>0</td>\n      <td>0</td>\n      <td>0</td>\n      <td>0</td>\n      <td>0</td>\n      <td>0</td>\n      <td>0</td>\n      <td>0</td>\n      <td>0</td>\n      <td>0</td>\n      <td>0</td>\n      <td>0</td>\n      <td>0</td>\n      <td>0</td>\n      <td>0</td>\n      <td>0</td>\n      <td>0</td>\n      <td>0</td>\n      <td>0</td>\n      <td>0</td>\n      <td>0</td>\n      <td>0</td>\n      <td>0</td>\n      <td>0</td>\n      <td>0</td>\n      <td>0</td>\n      <td>0</td>\n      <td>0</td>\n      <td>0</td>\n      <td>0</td>\n      <td>0</td>\n      <td>0</td>\n      <td>0</td>\n      <td>0</td>\n      <td>0</td>\n      <td>0</td>\n      <td>0</td>\n      <td>0</td>\n      <td>0</td>\n      <td>0</td>\n      <td>0</td>\n      <td>0</td>\n      <td>0</td>\n      <td>0</td>\n      <td>0</td>\n      <td>0</td>\n      <td>0</td>\n      <td>0</td>\n      <td>0</td>\n      <td>0</td>\n      <td>0</td>\n      <td>0</td>\n      <td>0</td>\n      <td>0</td>\n      <td>0</td>\n      <td>0</td>\n      <td>0</td>\n      <td>0</td>\n      <td>0</td>\n      <td>0</td>\n      <td>0</td>\n      <td>0</td>\n      <td>0</td>\n      <td>0</td>\n      <td>0</td>\n      <td>0</td>\n      <td>0</td>\n      <td>0</td>\n      <td>0</td>\n      <td>0</td>\n      <td>0</td>\n      <td>0</td>\n      <td>0</td>\n      <td>0</td>\n      <td>0</td>\n      <td>0</td>\n      <td>0</td>\n      <td>0</td>\n      <td>0</td>\n      <td>0</td>\n      <td>0</td>\n      <td>0</td>\n      <td>0</td>\n      <td>0</td>\n      <td>0</td>\n      <td>0</td>\n      <td>0</td>\n      <td>0</td>\n      <td>0</td>\n      <td>0</td>\n      <td>0</td>\n      <td>0</td>\n      <td>0</td>\n      <td>0</td>\n      <td>0</td>\n      <td>0</td>\n      <td>0</td>\n      <td>0</td>\n      <td>0</td>\n      <td>0</td>\n      <td>0</td>\n      <td>0</td>\n      <td>0</td>\n      <td>0</td>\n      <td>0</td>\n      <td>0</td>\n      <td>0</td>\n      <td>0</td>\n      <td>0</td>\n      <td>0</td>\n      <td>0</td>\n      <td>0</td>\n      <td>0</td>\n      <td>0</td>\n      <td>0</td>\n      <td>0</td>\n      <td>0</td>\n      <td>0</td>\n      <td>0</td>\n    </tr>\n    <tr>\n      <th>train27863</th>\n      <td>3</td>\n      <td>0</td>\n      <td>3</td>\n      <td>2500.0</td>\n      <td>3140.0</td>\n      <td>1901</td>\n      <td>34729.0604</td>\n      <td>44634.0699</td>\n      <td>87324</td>\n      <td>0</td>\n      <td>0</td>\n      <td>1</td>\n      <td>0</td>\n      <td>0</td>\n      <td>0</td>\n      <td>0</td>\n      <td>0</td>\n      <td>0</td>\n      <td>0</td>\n      <td>0</td>\n      <td>0</td>\n      <td>0</td>\n      <td>0</td>\n      <td>0</td>\n      <td>0</td>\n      <td>0</td>\n      <td>0</td>\n      <td>0</td>\n      <td>0</td>\n      <td>0</td>\n      <td>0</td>\n      <td>0</td>\n      <td>0</td>\n      <td>0</td>\n      <td>0</td>\n      <td>0</td>\n      <td>0</td>\n      <td>0</td>\n      <td>0</td>\n      <td>0</td>\n      <td>0</td>\n      <td>0</td>\n      <td>0</td>\n      <td>0</td>\n      <td>0</td>\n      <td>0</td>\n      <td>0</td>\n      <td>0</td>\n      <td>0</td>\n      <td>0</td>\n      <td>0</td>\n      <td>0</td>\n      <td>0</td>\n      <td>0</td>\n      <td>0</td>\n      <td>0</td>\n      <td>0</td>\n      <td>0</td>\n      <td>0</td>\n      <td>0</td>\n      <td>0</td>\n      <td>0</td>\n      <td>0</td>\n      <td>0</td>\n      <td>0</td>\n      <td>0</td>\n      <td>0</td>\n      <td>0</td>\n      <td>0</td>\n      <td>0</td>\n      <td>0</td>\n      <td>0</td>\n      <td>0</td>\n      <td>0</td>\n      <td>0</td>\n      <td>0</td>\n      <td>0</td>\n      <td>0</td>\n      <td>0</td>\n      <td>0</td>\n      <td>0</td>\n      <td>0</td>\n      <td>0</td>\n      <td>0</td>\n      <td>0</td>\n      <td>0</td>\n      <td>0</td>\n      <td>0</td>\n      <td>0</td>\n      <td>0</td>\n      <td>0</td>\n      <td>0</td>\n      <td>0</td>\n      <td>0</td>\n      <td>0</td>\n      <td>0</td>\n      <td>0</td>\n      <td>0</td>\n      <td>0</td>\n      <td>0</td>\n      <td>0</td>\n      <td>0</td>\n      <td>0</td>\n      <td>0</td>\n      <td>0</td>\n      <td>0</td>\n      <td>0</td>\n      <td>0</td>\n      <td>1</td>\n      <td>0</td>\n      <td>0</td>\n      <td>0</td>\n      <td>0</td>\n      <td>0</td>\n      <td>0</td>\n      <td>0</td>\n      <td>0</td>\n      <td>0</td>\n      <td>0</td>\n      <td>0</td>\n      <td>0</td>\n      <td>0</td>\n      <td>0</td>\n      <td>0</td>\n      <td>0</td>\n      <td>0</td>\n      <td>0</td>\n      <td>0</td>\n      <td>0</td>\n      <td>0</td>\n      <td>0</td>\n      <td>0</td>\n      <td>0</td>\n      <td>0</td>\n      <td>0</td>\n      <td>0</td>\n      <td>0</td>\n      <td>0</td>\n      <td>0</td>\n      <td>0</td>\n      <td>0</td>\n      <td>0</td>\n      <td>0</td>\n      <td>0</td>\n      <td>0</td>\n      <td>0</td>\n      <td>0</td>\n      <td>0</td>\n      <td>0</td>\n      <td>0</td>\n      <td>0</td>\n      <td>0</td>\n      <td>0</td>\n      <td>0</td>\n      <td>0</td>\n      <td>0</td>\n      <td>0</td>\n      <td>0</td>\n      <td>0</td>\n      <td>0</td>\n      <td>0</td>\n      <td>0</td>\n      <td>0</td>\n      <td>0</td>\n      <td>0</td>\n      <td>0</td>\n      <td>0</td>\n      <td>0</td>\n      <td>0</td>\n      <td>0</td>\n      <td>0</td>\n      <td>0</td>\n      <td>0</td>\n      <td>0</td>\n      <td>0</td>\n      <td>0</td>\n      <td>0</td>\n      <td>0</td>\n      <td>0</td>\n      <td>0</td>\n      <td>0</td>\n      <td>0</td>\n      <td>0</td>\n      <td>0</td>\n      <td>0</td>\n      <td>0</td>\n      <td>0</td>\n      <td>0</td>\n      <td>0</td>\n      <td>0</td>\n      <td>0</td>\n      <td>0</td>\n      <td>1</td>\n      <td>0</td>\n      <td>0</td>\n      <td>0</td>\n      <td>0</td>\n      <td>0</td>\n      <td>0</td>\n      <td>0</td>\n      <td>0</td>\n      <td>0</td>\n      <td>0</td>\n      <td>0</td>\n      <td>0</td>\n      <td>0</td>\n      <td>0</td>\n      <td>0</td>\n      <td>0</td>\n      <td>0</td>\n      <td>0</td>\n      <td>0</td>\n      <td>0</td>\n      <td>0</td>\n      <td>0</td>\n      <td>0</td>\n      <td>0</td>\n      <td>0</td>\n      <td>0</td>\n      <td>0</td>\n      <td>0</td>\n      <td>0</td>\n      <td>0</td>\n      <td>0</td>\n      <td>0</td>\n      <td>0</td>\n      <td>0</td>\n      <td>0</td>\n      <td>0</td>\n      <td>0</td>\n      <td>0</td>\n      <td>0</td>\n      <td>1</td>\n      <td>0</td>\n      <td>0</td>\n      <td>0</td>\n      <td>0</td>\n      <td>0</td>\n      <td>0</td>\n      <td>0</td>\n      <td>0</td>\n      <td>0</td>\n      <td>0</td>\n      <td>0</td>\n      <td>0</td>\n      <td>0</td>\n      <td>0</td>\n      <td>0</td>\n      <td>1</td>\n      <td>0</td>\n      <td>0</td>\n      <td>0</td>\n      <td>0</td>\n      <td>0</td>\n      <td>0</td>\n      <td>0</td>\n      <td>0</td>\n      <td>0</td>\n      <td>0</td>\n      <td>0</td>\n      <td>0</td>\n      <td>0</td>\n      <td>0</td>\n      <td>0</td>\n      <td>0</td>\n      <td>0</td>\n      <td>0</td>\n      <td>0</td>\n      <td>0</td>\n      <td>0</td>\n      <td>0</td>\n      <td>0</td>\n      <td>0</td>\n      <td>0</td>\n      <td>0</td>\n      <td>0</td>\n      <td>0</td>\n      <td>0</td>\n      <td>0</td>\n      <td>0</td>\n      <td>0</td>\n      <td>0</td>\n      <td>0</td>\n      <td>0</td>\n      <td>0</td>\n      <td>0</td>\n      <td>0</td>\n      <td>0</td>\n      <td>0</td>\n      <td>0</td>\n      <td>0</td>\n      <td>0</td>\n      <td>0</td>\n      <td>0</td>\n      <td>0</td>\n      <td>0</td>\n      <td>0</td>\n      <td>0</td>\n      <td>0</td>\n      <td>0</td>\n      <td>0</td>\n      <td>0</td>\n      <td>0</td>\n      <td>0</td>\n      <td>0</td>\n      <td>0</td>\n      <td>0</td>\n      <td>0</td>\n      <td>0</td>\n      <td>0</td>\n      <td>0</td>\n      <td>0</td>\n      <td>0</td>\n      <td>0</td>\n      <td>0</td>\n      <td>0</td>\n      <td>0</td>\n      <td>0</td>\n      <td>0</td>\n      <td>0</td>\n      <td>0</td>\n      <td>0</td>\n      <td>0</td>\n      <td>0</td>\n      <td>0</td>\n      <td>0</td>\n      <td>0</td>\n      <td>0</td>\n      <td>0</td>\n      <td>0</td>\n      <td>0</td>\n      <td>0</td>\n      <td>0</td>\n      <td>0</td>\n      <td>0</td>\n      <td>0</td>\n      <td>0</td>\n      <td>0</td>\n      <td>0</td>\n      <td>0</td>\n      <td>0</td>\n      <td>0</td>\n      <td>0</td>\n      <td>0</td>\n      <td>0</td>\n      <td>0</td>\n      <td>0</td>\n      <td>0</td>\n      <td>0</td>\n      <td>0</td>\n      <td>0</td>\n      <td>0</td>\n      <td>0</td>\n      <td>0</td>\n      <td>0</td>\n      <td>0</td>\n      <td>0</td>\n      <td>0</td>\n      <td>0</td>\n      <td>0</td>\n      <td>0</td>\n      <td>0</td>\n      <td>0</td>\n      <td>0</td>\n      <td>0</td>\n      <td>0</td>\n      <td>0</td>\n      <td>0</td>\n      <td>0</td>\n      <td>0</td>\n      <td>0</td>\n      <td>0</td>\n      <td>0</td>\n      <td>0</td>\n      <td>0</td>\n      <td>0</td>\n      <td>0</td>\n      <td>0</td>\n      <td>0</td>\n      <td>0</td>\n    </tr>\n  </tbody>\n</table>\n<p>21920 rows × 380 columns</p>\n</div>"
     },
     "metadata": {},
     "execution_count": 130
    }
   ],
   "source": [
    "df[:(df.shape[0] - test_row_count)].drop(\"SALE PRICE\", 1)"
   ]
  },
  {
   "cell_type": "code",
   "execution_count": 131,
   "metadata": {},
   "outputs": [],
   "source": [
    "# Split train and test data\n",
    "from sklearn.model_selection import train_test_split\n",
    "\n",
    "y = df[\"SALE PRICE\"][:(df.shape[0] - test_row_count)]\n",
    "X = df[:(df.shape[0] - test_row_count)].drop(\"SALE PRICE\", 1)\n",
    "X_train, X_valid, y_train, y_valid = train_test_split(X, y, test_size=0.2, random_state=42)"
   ]
  },
  {
   "cell_type": "code",
   "execution_count": 132,
   "metadata": {},
   "outputs": [],
   "source": [
    "from sklearn.metrics import mean_squared_error\n",
    "# Root mean squared error\n",
    "def rmse(y_test,y_pred):\n",
    "      return np.sqrt(mean_squared_error(y_test,y_pred))"
   ]
  },
  {
   "cell_type": "code",
   "execution_count": 133,
   "metadata": {},
   "outputs": [
    {
     "output_type": "execute_result",
     "data": {
      "text/plain": [
       "16597434.487994341"
      ]
     },
     "metadata": {},
     "execution_count": 133
    }
   ],
   "source": [
    "# linear regression\n",
    "linreg = linear_model.LinearRegression()\n",
    "linreg.fit(X_train, y_train)\n",
    "y_pred_lin = linreg.predict(X_valid)\n",
    "rmse(y_valid, y_pred_lin)"
   ]
  },
  {
   "cell_type": "code",
   "execution_count": 134,
   "metadata": {},
   "outputs": [
    {
     "output_type": "execute_result",
     "data": {
      "text/plain": [
       "         SALE PRICE\n",
       "id                 \n",
       "test0  1.381722e+07\n",
       "test1 -7.227431e+06\n",
       "test2  3.219743e+05\n",
       "test3 -6.935860e+06\n",
       "test4 -8.531378e+05"
      ],
      "text/html": "<div>\n<style scoped>\n    .dataframe tbody tr th:only-of-type {\n        vertical-align: middle;\n    }\n\n    .dataframe tbody tr th {\n        vertical-align: top;\n    }\n\n    .dataframe thead th {\n        text-align: right;\n    }\n</style>\n<table border=\"1\" class=\"dataframe\">\n  <thead>\n    <tr style=\"text-align: right;\">\n      <th></th>\n      <th>SALE PRICE</th>\n    </tr>\n    <tr>\n      <th>id</th>\n      <th></th>\n    </tr>\n  </thead>\n  <tbody>\n    <tr>\n      <th>test0</th>\n      <td>1.381722e+07</td>\n    </tr>\n    <tr>\n      <th>test1</th>\n      <td>-7.227431e+06</td>\n    </tr>\n    <tr>\n      <th>test2</th>\n      <td>3.219743e+05</td>\n    </tr>\n    <tr>\n      <th>test3</th>\n      <td>-6.935860e+06</td>\n    </tr>\n    <tr>\n      <th>test4</th>\n      <td>-8.531378e+05</td>\n    </tr>\n  </tbody>\n</table>\n</div>"
     },
     "metadata": {},
     "execution_count": 134
    }
   ],
   "source": [
    "linear_submission = pd.DataFrame(linreg.predict(df[(df.shape[0] - test_row_count):].drop(\"SALE PRICE\", 1)))\n",
    "linear_submission.index = X_test[\"id\"]\n",
    "linear_submission.columns = [\"SALE PRICE\"]\n",
    "linear_submission.to_csv(\"output/linear_submission.csv\")\n",
    "linear_submission.head()"
   ]
  },
  {
   "cell_type": "code",
   "execution_count": 135,
   "metadata": {},
   "outputs": [
    {
     "output_type": "execute_result",
     "data": {
      "text/plain": [
       "16590548.748000665"
      ]
     },
     "metadata": {},
     "execution_count": 135
    }
   ],
   "source": [
    "# Lasso regression\n",
    "alpha = 12\n",
    "lasso_regr = linear_model.Lasso(alpha = alpha, max_iter = 500)\n",
    "lasso_regr.fit(X_train, y_train)\n",
    "Y_pred_lasso = lasso_regr.predict(X_valid)\n",
    "rmse(y_valid,Y_pred_lasso)"
   ]
  },
  {
   "cell_type": "code",
   "execution_count": 136,
   "metadata": {},
   "outputs": [
    {
     "output_type": "execute_result",
     "data": {
      "text/plain": [
       "         SALE PRICE\n",
       "id                 \n",
       "test0  1.383307e+07\n",
       "test1  1.410426e+06\n",
       "test2  3.266453e+05\n",
       "test3  1.697883e+06\n",
       "test4  7.809926e+06"
      ],
      "text/html": "<div>\n<style scoped>\n    .dataframe tbody tr th:only-of-type {\n        vertical-align: middle;\n    }\n\n    .dataframe tbody tr th {\n        vertical-align: top;\n    }\n\n    .dataframe thead th {\n        text-align: right;\n    }\n</style>\n<table border=\"1\" class=\"dataframe\">\n  <thead>\n    <tr style=\"text-align: right;\">\n      <th></th>\n      <th>SALE PRICE</th>\n    </tr>\n    <tr>\n      <th>id</th>\n      <th></th>\n    </tr>\n  </thead>\n  <tbody>\n    <tr>\n      <th>test0</th>\n      <td>1.383307e+07</td>\n    </tr>\n    <tr>\n      <th>test1</th>\n      <td>1.410426e+06</td>\n    </tr>\n    <tr>\n      <th>test2</th>\n      <td>3.266453e+05</td>\n    </tr>\n    <tr>\n      <th>test3</th>\n      <td>1.697883e+06</td>\n    </tr>\n    <tr>\n      <th>test4</th>\n      <td>7.809926e+06</td>\n    </tr>\n  </tbody>\n</table>\n</div>"
     },
     "metadata": {},
     "execution_count": 136
    }
   ],
   "source": [
    "lasso_submission = pd.DataFrame(lasso_regr.predict(df[(df.shape[0] - test_row_count):].drop(\"SALE PRICE\", 1)))\n",
    "lasso_submission.index = X_test[\"id\"]\n",
    "lasso_submission.columns = [\"SALE PRICE\"]\n",
    "# lasso_submission[lasso_submission[\"SALE PRICE\"] < 1000] = y_train.median()       # hard code set < 1000 to median\n",
    "lasso_submission.to_csv(\"output/lasso_submission.csv\")\n",
    "lasso_submission.head()"
   ]
  },
  {
   "cell_type": "code",
   "execution_count": 137,
   "metadata": {},
   "outputs": [
    {
     "output_type": "execute_result",
     "data": {
      "text/plain": [
       "16527272.936116837"
      ]
     },
     "metadata": {},
     "execution_count": 137
    }
   ],
   "source": [
    "# Ridge regression\n",
    "ridge = linear_model.Ridge(alpha = 0.01, normalize = True)\n",
    "ridge.fit(X_train, y_train)\n",
    "Y_pred_ridge = ridge.predict(X_valid)\n",
    "rmse(y_valid, Y_pred_ridge)"
   ]
  },
  {
   "cell_type": "code",
   "execution_count": 138,
   "metadata": {},
   "outputs": [
    {
     "output_type": "execute_result",
     "data": {
      "text/plain": [
       "         SALE PRICE\n",
       "id                 \n",
       "test0  1.363452e+07\n",
       "test1  1.129067e+06\n",
       "test2  3.349095e+05\n",
       "test3  1.274455e+06\n",
       "test4  7.513601e+06"
      ],
      "text/html": "<div>\n<style scoped>\n    .dataframe tbody tr th:only-of-type {\n        vertical-align: middle;\n    }\n\n    .dataframe tbody tr th {\n        vertical-align: top;\n    }\n\n    .dataframe thead th {\n        text-align: right;\n    }\n</style>\n<table border=\"1\" class=\"dataframe\">\n  <thead>\n    <tr style=\"text-align: right;\">\n      <th></th>\n      <th>SALE PRICE</th>\n    </tr>\n    <tr>\n      <th>id</th>\n      <th></th>\n    </tr>\n  </thead>\n  <tbody>\n    <tr>\n      <th>test0</th>\n      <td>1.363452e+07</td>\n    </tr>\n    <tr>\n      <th>test1</th>\n      <td>1.129067e+06</td>\n    </tr>\n    <tr>\n      <th>test2</th>\n      <td>3.349095e+05</td>\n    </tr>\n    <tr>\n      <th>test3</th>\n      <td>1.274455e+06</td>\n    </tr>\n    <tr>\n      <th>test4</th>\n      <td>7.513601e+06</td>\n    </tr>\n  </tbody>\n</table>\n</div>"
     },
     "metadata": {},
     "execution_count": 138
    }
   ],
   "source": [
    "ridge_submission = pd.DataFrame(ridge.predict(df[(df.shape[0] - test_row_count):].drop(\"SALE PRICE\", 1)))\n",
    "ridge_submission.index = X_test[\"id\"]\n",
    "ridge_submission.columns = [\"SALE PRICE\"]\n",
    "ridge_submission.to_csv(\"output/ridge_submission.csv\")\n",
    "ridge_submission.head()"
   ]
  },
  {
   "cell_type": "code",
   "execution_count": 139,
   "metadata": {},
   "outputs": [],
   "source": [
    "from sklearn.ensemble import RandomForestRegressor"
   ]
  },
  {
   "cell_type": "code",
   "execution_count": 140,
   "metadata": {},
   "outputs": [
    {
     "output_type": "execute_result",
     "data": {
      "text/plain": [
       "16398086.072808791"
      ]
     },
     "metadata": {},
     "execution_count": 140
    }
   ],
   "source": [
    "# Random forest\n",
    "rf_regr = RandomForestRegressor()\n",
    "rf_regr.fit(X_train, y_train)\n",
    "Y_pred_rf = rf_regr.predict(X_valid)\n",
    "rmse(y_valid, Y_pred_rf)"
   ]
  },
  {
   "cell_type": "code",
   "execution_count": 141,
   "metadata": {},
   "outputs": [
    {
     "output_type": "execute_result",
     "data": {
      "text/plain": [
       "         SALE PRICE\n",
       "id                 \n",
       "test0  9.233541e+06\n",
       "test1  8.255907e+05\n",
       "test2  5.404746e+05\n",
       "test3  1.703580e+06\n",
       "test4  2.653210e+06"
      ],
      "text/html": "<div>\n<style scoped>\n    .dataframe tbody tr th:only-of-type {\n        vertical-align: middle;\n    }\n\n    .dataframe tbody tr th {\n        vertical-align: top;\n    }\n\n    .dataframe thead th {\n        text-align: right;\n    }\n</style>\n<table border=\"1\" class=\"dataframe\">\n  <thead>\n    <tr style=\"text-align: right;\">\n      <th></th>\n      <th>SALE PRICE</th>\n    </tr>\n    <tr>\n      <th>id</th>\n      <th></th>\n    </tr>\n  </thead>\n  <tbody>\n    <tr>\n      <th>test0</th>\n      <td>9.233541e+06</td>\n    </tr>\n    <tr>\n      <th>test1</th>\n      <td>8.255907e+05</td>\n    </tr>\n    <tr>\n      <th>test2</th>\n      <td>5.404746e+05</td>\n    </tr>\n    <tr>\n      <th>test3</th>\n      <td>1.703580e+06</td>\n    </tr>\n    <tr>\n      <th>test4</th>\n      <td>2.653210e+06</td>\n    </tr>\n  </tbody>\n</table>\n</div>"
     },
     "metadata": {},
     "execution_count": 141
    }
   ],
   "source": [
    "rf_submission = pd.DataFrame(rf_regr.predict(df[(df.shape[0] - test_row_count):].drop(\"SALE PRICE\", 1)))\n",
    "rf_submission.index = X_test[\"id\"]\n",
    "rf_submission.columns = [\"SALE PRICE\"]\n",
    "rf_submission.to_csv(\"output/rf_submission.csv\")\n",
    "rf_submission.head()"
   ]
  },
  {
   "source": [
    "## Bad Linear Regression"
   ],
   "cell_type": "markdown",
   "metadata": {}
  },
  {
   "cell_type": "code",
   "execution_count": 85,
   "metadata": {},
   "outputs": [],
   "source": [
    "# X = X_train[[\"LAND SQUARE FEET\", \"GROSS SQUARE FEET\", \"MEDIAN INCOME\", \"MEAN INCOME\"]]\n",
    "# Y = y_train[\"SALE PRICE\"]"
   ]
  },
  {
   "cell_type": "code",
   "execution_count": 86,
   "metadata": {},
   "outputs": [],
   "source": [
    "# model = linear_model.LinearRegression()\n",
    "# model.fit(X,Y)\n",
    "# print('Intercept: \\n', model.intercept_)\n",
    "# print('Coefficients: \\n', model.coef_)"
   ]
  },
  {
   "cell_type": "code",
   "execution_count": 87,
   "metadata": {},
   "outputs": [],
   "source": [
    "# x_test_predictions = pd.DataFrame(model.predict(X_test[[\"LAND SQUARE FEET\", \"GROSS SQUARE FEET\", \"MEDIAN INCOME\", \"MEAN INCOME\"]]))\n",
    "# x_test_predictions.index = X_test[\"id\"]\n",
    "# x_test_predictions.columns = [\"SALE PRICE\"]\n",
    "# x_test_predictions.to_csv(\"output/submission.csv\")\n",
    "# x_test_predictions.head()"
   ]
  },
  {
   "source": [
    "# Submit to Kaggle\n",
    "Run this command to send a submission to the Kaggle competition"
   ],
   "cell_type": "markdown",
   "metadata": {}
  },
  {
   "cell_type": "code",
   "execution_count": 112,
   "metadata": {},
   "outputs": [
    {
     "output_type": "stream",
     "name": "stdout",
     "text": [
      "Successfully submitted to SAAS 2020 Fall CX Kaggle Compeition\n",
      "\n",
      "  0%|          | 0.00/257k [00:00<?, ?B/s]\n",
      "  3%|▎         | 8.00k/257k [00:00<00:03, 78.8kB/s]\n",
      " 34%|███▍      | 88.0k/257k [00:00<00:01, 107kB/s] \n",
      " 44%|████▎     | 112k/257k [00:00<00:01, 102kB/s] \n",
      " 53%|█████▎    | 136k/257k [00:00<00:01, 99.4kB/s]\n",
      " 59%|█████▉    | 152k/257k [00:00<00:01, 97.9kB/s]\n",
      " 65%|██████▌   | 168k/257k [00:01<00:00, 94.7kB/s]\n",
      " 72%|███████▏  | 184k/257k [00:01<00:00, 92.9kB/s]\n",
      " 78%|███████▊  | 200k/257k [00:01<00:00, 94.5kB/s]\n",
      " 84%|████████▍ | 216k/257k [00:01<00:00, 91.3kB/s]\n",
      " 90%|█████████ | 232k/257k [00:01<00:00, 93.3kB/s]\n",
      " 97%|█████████▋| 248k/257k [00:02<00:00, 91.6kB/s]\n",
      "100%|██████████| 257k/257k [00:05<00:00, 52.4kB/s]\n"
     ]
    }
   ],
   "source": [
    "# !kaggle competitions submit -c saas-2020-fall-cx-kaggle-compeition -f output/lasso_submission.csv -m \"lasso remove zero gross sqft and land sqft\""
   ]
  }
 ]
}