{
 "cells": [
  {
   "cell_type": "markdown",
   "metadata": {},
   "source": [
    "# Numpy and Pandas Homework\n",
    "\n",
    "\n",
    "### Roland Chin"
   ]
  },
  {
   "cell_type": "markdown",
   "metadata": {},
   "source": [
    "# NumPy Exercises"
   ]
  },
  {
   "cell_type": "code",
   "execution_count": null,
   "metadata": {
    "collapsed": true
   },
   "outputs": [],
   "source": [
    "import numpy as np\n",
    "import pandas as pd\n",
    "import random"
   ]
  },
  {
   "cell_type": "markdown",
   "metadata": {},
   "source": [
    "**Exercise 1:** Sum up all the odd numbers in `big_array`.\n",
    "\n",
    "Hint: use a boolean array, this should only take 1 line."
   ]
  },
  {
   "cell_type": "code",
   "execution_count": null,
   "metadata": {
    "scrolled": false,
    "tags": [
     "exercise1"
    ]
   },
   "outputs": [],
   "source": [
    "big_array = np.arange(1, 193, 3)\n",
    "big_sum = \"\"\"YOUR CODE HERE\"\"\"\n",
    "big_sum"
   ]
  },
  {
   "cell_type": "markdown",
   "metadata": {},
   "source": [
    "**Exercise 2:** Create a copy of `A` from `rand` and add it to the 3x3 identity matrix; `A` is shown below, but don't use `A` in your answer."
   ]
  },
  {
   "cell_type": "code",
   "execution_count": null,
   "metadata": {
    "collapsed": true
   },
   "outputs": [],
   "source": [
    "A = np.array([[-12, -13, 1], [-9, 15, 33], [-3, 1, -4]])\n",
    "A"
   ]
  },
  {
   "cell_type": "code",
   "execution_count": null,
   "metadata": {
    "collapsed": true
   },
   "outputs": [],
   "source": [
    "np.random.seed(50) #this just makes it so everyone has the same random matrix\n",
    "random = (np.random.randn(4, 6) * 10).astype(int)\n",
    "random"
   ]
  },
  {
   "cell_type": "code",
   "execution_count": null,
   "metadata": {
    "collapsed": true,
    "tags": [
     "exercise2"
    ]
   },
   "outputs": [],
   "source": [
    "\"\"\"YOUR CODE HERE\"\"\""
   ]
  },
  {
   "cell_type": "markdown",
   "metadata": {},
   "source": [
    "**Exercise 3:** Select the 3x5 matrix at the top left corner of the `random` matrix above. Change this into a 1 dimensional vector, so that it can be appended to the element at the bottom right corner. Change this back into a 4x4 matrix afterwards, and find the average of this.\n",
    "\n",
    "Hint: you will have to use `np.reshape` after getting the 3x5 matrix, and also after adding on the `-1`."
   ]
  },
  {
   "cell_type": "code",
   "execution_count": null,
   "metadata": {
    "collapsed": true,
    "scrolled": false,
    "tags": [
     "exercise3"
    ]
   },
   "outputs": [],
   "source": [
    "big_part = \"\"\"YOUR CODE HERE\"\"\"\n",
    "negative_1 = \"\"\"YOUR CODE HERE\"\"\"\n",
    "\n",
    "small_part = np.array([negative_1]) #this just puts -1 into an array so it can be appended to the vector big_part\n",
    "\n",
    "combined = np.append(big_part, small_part)\n",
    "square = \"\"\"YOUR CODE HERE\"\"\"\n",
    "square_mean = \"\"\"YOUR CODE HERE\"\"\"\n",
    "square_mean"
   ]
  },
  {
   "cell_type": "markdown",
   "metadata": {},
   "source": [
    "**Exercise 4:**  Remember how broadcasting eliminates the need `for` loops (see below example)?"
   ]
  },
  {
   "cell_type": "code",
   "execution_count": null,
   "metadata": {
    "collapsed": true
   },
   "outputs": [],
   "source": [
    "a = np.array([1.0, 2.0, 3.0])\n",
    "b = 2.0\n",
    "a * b"
   ]
  },
  {
   "cell_type": "markdown",
   "metadata": {},
   "source": [
    "Square every element of the following arrays `x` and `y`. Use broadcasting for `x`, and use a `for` loop for `y`.\n",
    "\n",
    "Hint: you'll need to use `range` and `len` for the `for` loop."
   ]
  },
  {
   "cell_type": "code",
   "execution_count": null,
   "metadata": {
    "collapsed": true,
    "tags": [
     "exercise4"
    ]
   },
   "outputs": [],
   "source": [
    "x = np.array([3.0, 5.0, 8.0])\n",
    "y = np.array([3.0, 5.0, 8.0])\n",
    "\n",
    "#Square x here:\n",
    "x = \"\"\"YOUR CODE HERE\"\"\"\n",
    "\n",
    "#Square y here:\n",
    "for \"\"\"YOUR CODE HERE\"\"\"\n",
    "    \"\"\"YOUR CODE HERE\"\"\""
   ]
  },
  {
   "cell_type": "markdown",
   "metadata": {},
   "source": [
    "**Exercise 5:** Say we have an 8x3 matrix, where the 3 columns represent 3 grocery stores (A, B, & C), and each row is the price for 8 items on our grocery list. We want to find which store will let you spend the least money.\n",
    "\n",
    "Hint: remember the axis argument?"
   ]
  },
  {
   "cell_type": "code",
   "execution_count": null,
   "metadata": {
    "collapsed": true,
    "scrolled": true
   },
   "outputs": [],
   "source": [
    "np.random.seed(30)\n",
    "prices = np.absolute((np.random.randn(8, 3) * 10).astype(int))\n",
    "prices"
   ]
  },
  {
   "cell_type": "code",
   "execution_count": null,
   "metadata": {
    "collapsed": true,
    "scrolled": true,
    "tags": [
     "exercise5.1"
    ]
   },
   "outputs": [],
   "source": [
    "\"\"\"YOUR CODE HERE\"\"\""
   ]
  },
  {
   "cell_type": "code",
   "execution_count": null,
   "metadata": {
    "collapsed": true,
    "tags": [
     "exercise5.2"
    ]
   },
   "outputs": [],
   "source": [
    "cheapest_store = \"\"\"GROCERY STORE LETTER HERE\"\"\""
   ]
  },
  {
   "cell_type": "markdown",
   "metadata": {},
   "source": [
    "**Exercise 6:** Create a `vector` such that when added to `an_array`, returns the 3x3 identity matrix."
   ]
  },
  {
   "cell_type": "code",
   "execution_count": null,
   "metadata": {
    "collapsed": true,
    "scrolled": true,
    "tags": [
     "exercise6"
    ]
   },
   "outputs": [],
   "source": [
    "vector = \"\"\"YOUR CODE HERE\"\"\"\n",
    "an_array = np.array([[-2, -1, 3], [-3, 0, 3], [-3, -1, 4]])\n",
    "identity = vector + an_array #does this look like np.eye(3, 3)?\n",
    "identity"
   ]
  },
  {
   "cell_type": "markdown",
   "metadata": {},
   "source": [
    "**Exercise 7:** Create a vector `x` such that `x + y = z`."
   ]
  },
  {
   "cell_type": "code",
   "execution_count": null,
   "metadata": {
    "collapsed": true,
    "tags": [
     "exercise7"
    ]
   },
   "outputs": [],
   "source": [
    "x = \"\"\"YOUR CODE HERE\"\"\"\n",
    "y = np.array([[3], [-2]])\n",
    "z = np.array([[-4, 10], [-9, 5]])"
   ]
  },
  {
   "cell_type": "code",
   "execution_count": null,
   "metadata": {
    "collapsed": true
   },
   "outputs": [],
   "source": [
    "x + y #does this looke like z?"
   ]
  },
  {
   "cell_type": "markdown",
   "metadata": {},
   "source": [
    "**Exercise 8:** We have 2 arrays, an array `x` consisting of some numbers and an array `y` consisting of letters that correspond to each number."
   ]
  },
  {
   "cell_type": "code",
   "execution_count": null,
   "metadata": {
    "collapsed": true
   },
   "outputs": [],
   "source": [
    "x = np.array([-3, 1, 4, -9, 6, 4, 6, -2, -3, 5, 3, -5, 21, -3, 2, 1, -2, 3, 4, -3, 1, -2, -1])\n",
    "x"
   ]
  },
  {
   "cell_type": "code",
   "execution_count": null,
   "metadata": {
    "collapsed": true,
    "scrolled": true
   },
   "outputs": [],
   "source": [
    "y = np.array(['s','e','r','u','z','u','i','s','a','e','s','i','p','s','e','s','c','w','b','o','m','o','l'])\n",
    "y"
   ]
  },
  {
   "cell_type": "markdown",
   "metadata": {},
   "source": [
    "Let's say we only want the letters whose corresponding numbers have a square root equal to 2. How would we do that?"
   ]
  },
  {
   "cell_type": "code",
   "execution_count": null,
   "metadata": {
    "collapsed": true,
    "scrolled": false,
    "tags": [
     "exercise8"
    ]
   },
   "outputs": [],
   "source": [
    "\"\"\"YOUR CODE HERE\"\"\""
   ]
  },
  {
   "cell_type": "markdown",
   "metadata": {},
   "source": [
    "**Exercise 9 (BONUS EXTRA CREDIT!!!):** In this problem, you will be using a bunch of the built in numpy operators for matrices. You don't have to do this if you don't already know linear algebra and numpy. We'll be covering it next week."
   ]
  },
  {
   "cell_type": "code",
   "execution_count": null,
   "metadata": {
    "collapsed": true
   },
   "outputs": [],
   "source": [
    "x, b = np.arange(1000).reshape(1000, 1), np.ones((1000, 1))\n",
    "\n",
    "X = np.append(x, b, axis=1)\n",
    "#all you need to know is that this is the X you will use in the equation below\n",
    "\n",
    "Y = 2 * x[:,0] + 4*b + np.random.random()\n",
    "#all you need to know is that this is the Y you will use in the equation below"
   ]
  },
  {
   "cell_type": "markdown",
   "metadata": {},
   "source": [
    "Use Least Squares Linear Regression to solve for $\\hat{\\theta}$, the weights on each column of $X$ such that it models $Y$. Remember, the formula for Least Squares Linear Regression is: \n",
    "\n",
    "$$X^TX\\hat{\\theta} = X^TY$$"
   ]
  },
  {
   "cell_type": "code",
   "execution_count": null,
   "metadata": {
    "collapsed": true,
    "tags": [
     "exercise9.1"
    ]
   },
   "outputs": [],
   "source": [
    "# theta_hat = np.linalg.solve(___, ___)\n",
    "theta_hat"
   ]
  },
  {
   "cell_type": "markdown",
   "metadata": {},
   "source": [
    "Find the loss of your model. The loss equation is as follows\n",
    "$$ ||Y - X\\hat{\\theta}|| $$\n",
    "\n",
    "Hint:\n",
    "-  first find the difference of Y and the product of X and theta hat\n",
    "-  use np.linalg.norm on this difference\n",
    "-  square the result by multiplying that with itself (already filled in for you)\n",
    "-  the answer should be 2.68e-18"
   ]
  },
  {
   "cell_type": "code",
   "execution_count": null,
   "metadata": {
    "collapsed": true,
    "tags": [
     "exercise9.2"
    ]
   },
   "outputs": [],
   "source": [
    "# loss = np.dot(___, ___)\n",
    "loss"
   ]
  },
  {
   "cell_type": "markdown",
   "metadata": {},
   "source": [
    "# Pandas Exercises"
   ]
  },
  {
   "cell_type": "markdown",
   "metadata": {},
   "source": [
    "We'll be using the same Titanic dataset, which you've seen from lecture. It has the data for every passenger aboard the Titanic. We'll be looking at the training set (the training set is just a portion of the data upon which a model is fit, you'll learn more about this later)."
   ]
  },
  {
   "cell_type": "code",
   "execution_count": null,
   "metadata": {
    "collapsed": true,
    "scrolled": true
   },
   "outputs": [],
   "source": [
    "titanic = pd.read_csv(\"train.csv\")\n",
    "titanic = titanic.set_index(\"PassengerId\")\n",
    "titanic.head(10)"
   ]
  },
  {
   "cell_type": "markdown",
   "metadata": {},
   "source": [
    "**Exercise 10**: Calculate the average fare spent by males and females on the Titanic."
   ]
  },
  {
   "cell_type": "code",
   "execution_count": null,
   "metadata": {
    "collapsed": true,
    "tags": [
     "exercise10.1"
    ]
   },
   "outputs": [],
   "source": [
    "male = \"\"\"YOUR CODE HERE\"\"\"\n",
    "male_avg = \"\"\"YOUR CODE HERE\"\"\"\n",
    "male_avg"
   ]
  },
  {
   "cell_type": "code",
   "execution_count": null,
   "metadata": {
    "collapsed": true,
    "tags": [
     "exercise10.2"
    ]
   },
   "outputs": [],
   "source": [
    "female = \"\"\"YOUR CODE HERE\"\"\"\n",
    "female_avg = \"\"\"YOUR CODE HERE\"\"\"\n",
    "female_avg"
   ]
  },
  {
   "cell_type": "markdown",
   "metadata": {},
   "source": [
    "**Exercise 11:** Calculate the average age of those who survived and those who died on the Titanic."
   ]
  },
  {
   "cell_type": "code",
   "execution_count": null,
   "metadata": {
    "collapsed": true,
    "tags": [
     "exercise11.1"
    ]
   },
   "outputs": [],
   "source": [
    "survived = \"\"\"YOUR CODE HERE\"\"\"\n",
    "age_survived = \"\"\"YOUR CODE HERE\"\"\"\n",
    "age_survived"
   ]
  },
  {
   "cell_type": "code",
   "execution_count": null,
   "metadata": {
    "collapsed": true,
    "tags": [
     "exercise11.2"
    ]
   },
   "outputs": [],
   "source": [
    "died = \"\"\"YOUR CODE HERE\"\"\"\n",
    "age_died = \"\"\"YOUR CODE HERE\"\"\"\n",
    "age_died"
   ]
  },
  {
   "cell_type": "markdown",
   "metadata": {},
   "source": [
    "**Exercise 12:** Calculate the proportion of people who survived in each Pclass.\n",
    "\n",
    "Hint: Use `len` to find the number of rows (passengers) in `survived_1` and `total_1`."
   ]
  },
  {
   "cell_type": "code",
   "execution_count": null,
   "metadata": {
    "collapsed": true,
    "tags": [
     "exercise12.1"
    ]
   },
   "outputs": [],
   "source": [
    "class_1 = \"\"\"YOUR CODE HERE\"\"\"\n",
    "survived_1 = \"\"\"YOUR CODE HERE\"\"\"\n",
    "total_1 = \"\"\"YOUR CODE HERE\"\"\"\n",
    "proportion_1 = survived_1 / total_1"
   ]
  },
  {
   "cell_type": "code",
   "execution_count": null,
   "metadata": {
    "collapsed": true,
    "tags": [
     "exercise12.2"
    ]
   },
   "outputs": [],
   "source": [
    "class_2 = \"\"\"YOUR CODE HERE\"\"\"\n",
    "survived_2 = \"\"\"YOUR CODE HERE\"\"\"\n",
    "total_2 = \"\"\"YOUR CODE HERE\"\"\"\n",
    "proportion_2 = survived_2 / total_2"
   ]
  },
  {
   "cell_type": "code",
   "execution_count": null,
   "metadata": {
    "collapsed": true,
    "tags": [
     "exercise12.3"
    ]
   },
   "outputs": [],
   "source": [
    "class_3 = \"\"\"YOUR CODE HERE\"\"\"\n",
    "survived_3 = \"\"\"YOUR CODE HERE\"\"\"\n",
    "total_3 = \"\"\"YOUR CODE HERE\"\"\"\n",
    "proportion_3 = survived_3 / total_3"
   ]
  },
  {
   "cell_type": "code",
   "execution_count": null,
   "metadata": {
    "collapsed": true
   },
   "outputs": [],
   "source": [
    "print(proportion_1, proportion_2, proportion_3)"
   ]
  },
  {
   "cell_type": "markdown",
   "metadata": {},
   "source": [
    "Do these values make logical sense?"
   ]
  },
  {
   "cell_type": "markdown",
   "metadata": {},
   "source": [
    "![Titanic Pclasses](titanicpclass.jpg)"
   ]
  },
  {
   "cell_type": "code",
   "execution_count": null,
   "metadata": {},
   "outputs": [],
   "source": [
    "# be sure to hit save (File > Save and Checkpoint) or Ctrl/Command-S before you run the cell!\n",
    "from submit import create_and_submit\n",
    "\n",
    "create_and_submit(['Numpy and Pandas Homework.ipynb'])"
   ]
  },
  {
   "cell_type": "code",
   "execution_count": null,
   "metadata": {
    "collapsed": true
   },
   "outputs": [],
   "source": []
  }
 ],
 "metadata": {
  "celltoolbar": "Tags",
  "kernelspec": {
   "display_name": "Python 3",
   "language": "python",
   "name": "python3"
  },
  "language_info": {
   "codemirror_mode": {
    "name": "ipython",
    "version": 3
   },
   "file_extension": ".py",
   "mimetype": "text/x-python",
   "name": "python",
   "nbconvert_exporter": "python",
   "pygments_lexer": "ipython3",
   "version": "3.6.1"
  }
 },
 "nbformat": 4,
 "nbformat_minor": 2
}
