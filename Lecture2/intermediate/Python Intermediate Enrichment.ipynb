{
 "cells": [
  {
   "cell_type": "markdown",
   "metadata": {},
   "source": [
    "## Q4: UC Berkeley Buildings, redux"
   ]
  },
  {
   "cell_type": "code",
   "execution_count": null,
   "metadata": {
    "collapsed": true
   },
   "outputs": [],
   "source": [
    "import json\n",
    "import random\n",
    "from collections import defaultdict\n",
    "from itertools import permutations\n",
    "from math import sin, cos, sqrt, atan2, radians\n",
    "\n",
    "def haversine(lat1, lon1, lat2, lon2):\n",
    "    \"\"\"Calculates the straight line distance between two latitude-longitude coordinates\"\"\"\n",
    "    # approximate radius of earth in miles\n",
    "    R = 3959.0\n",
    "\n",
    "    lat1_r = radians(lat1)\n",
    "    lon1_r = radians(lon1)\n",
    "    lat2_r = radians(lat2)\n",
    "    lon2_r = radians(lon2)\n",
    "\n",
    "    dlon = lon2_r - lon1_r\n",
    "    dlat = lat2_r - lat1_r\n",
    "\n",
    "    a = sin(dlat / 2)**2 + cos(lat1_r) * cos(lat2_r) * sin(dlon / 2)**2\n",
    "    c = 2 * atan2(sqrt(a), sqrt(1 - a))\n",
    "\n",
    "    return R * c\n",
    "\n",
    "home = (37.8772719100307, -122.256943809724)\n",
    "names_and_coordinates = json.load(open('berkeley/cal_halls_subset.json'))"
   ]
  },
  {
   "cell_type": "code",
   "execution_count": null,
   "metadata": {
    "collapsed": true
   },
   "outputs": [],
   "source": [
    "', '.join(names_and_coordinates.keys())"
   ]
  },
  {
   "cell_type": "markdown",
   "metadata": {},
   "source": [
    "You need to drop off packages at eight buildings on campus (above). In particular, you need to leave home, hit all spots, and return. Your home is at this latitude-longitude coordinate:"
   ]
  },
  {
   "cell_type": "code",
   "execution_count": null,
   "metadata": {
    "collapsed": true
   },
   "outputs": [],
   "source": [
    "home"
   ]
  },
  {
   "cell_type": "markdown",
   "metadata": {},
   "source": [
    "**Complete the function below to find the best path.**"
   ]
  },
  {
   "cell_type": "code",
   "execution_count": null,
   "metadata": {
    "collapsed": true
   },
   "outputs": [],
   "source": [
    "def tsp(home, names_and_coordinates):\n",
    "    def create_graph():\n",
    "        \"\"\"Create a dictionary, where the keys are a tuple of every pair of halls, and the corresponding value\n",
    "        is the distance between the two halls\"\"\"\n",
    "        \"\"\"YOUR CODE HERE\"\"\"\n",
    "    \n",
    "    graph = create_graph()\n",
    "    \n",
    "    def cycle_length(order):\n",
    "        \"\"\"Find the length of taking a specific path, where the order of the buildings you take is <order>\"\"\"\n",
    "        \"\"\"YOUR CODE HERE\"\"\"\n",
    "\n",
    "    return min(\n",
    "        permutations(names_and_coordinates.keys(), len(names_and_coordinates)),\n",
    "        key=cycle_length\n",
    "    )          "
   ]
  },
  {
   "cell_type": "code",
   "execution_count": null,
   "metadata": {
    "collapsed": true,
    "scrolled": false,
    "tags": [
     "tsp"
    ]
   },
   "outputs": [],
   "source": [
    "# note: do not delete this cell as it is used for submission\n",
    "tsp(home, names_and_coordinates)"
   ]
  },
  {
   "cell_type": "markdown",
   "metadata": {},
   "source": [
    "## Submission"
   ]
  },
  {
   "cell_type": "code",
   "execution_count": null,
   "metadata": {},
   "outputs": [],
   "source": [
    "# be sure to hit save (File > Save and Checkpoint) or Ctrl/Command-S before you run the cell!\n",
    "from submit import create_and_submit\n",
    "\n",
    "create_and_submit(['Python Intermediate Homework.ipynb'])"
   ]
  }
 ],
 "metadata": {
  "kernelspec": {
   "display_name": "Python (deeplearning)",
   "language": "python",
   "name": "deeplearning"
  },
  "language_info": {
   "codemirror_mode": {
    "name": "ipython",
    "version": 3
   },
   "file_extension": ".py",
   "mimetype": "text/x-python",
   "name": "python",
   "nbconvert_exporter": "python",
   "pygments_lexer": "ipython3",
   "version": "3.6.3"
  }
 },
 "nbformat": 4,
 "nbformat_minor": 2
}
